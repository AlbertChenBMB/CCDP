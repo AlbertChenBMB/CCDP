{
 "cells": [
  {
   "cell_type": "code",
   "execution_count": 12,
   "metadata": {},
   "outputs": [],
   "source": [
    "from plotly.offline import download_plotlyjs,init_notebook_mode,iplot"
   ]
  },
  {
   "cell_type": "code",
   "execution_count": 13,
   "metadata": {},
   "outputs": [
    {
     "data": {
      "text/html": [
       "        <script type=\"text/javascript\">\n",
       "        window.PlotlyConfig = {MathJaxConfig: 'local'};\n",
       "        if (window.MathJax) {MathJax.Hub.Config({SVG: {font: \"STIX-Web\"}});}\n",
       "        if (typeof require !== 'undefined') {\n",
       "        require.undef(\"plotly\");\n",
       "        requirejs.config({\n",
       "            paths: {\n",
       "                'plotly': ['https://cdn.plot.ly/plotly-latest.min']\n",
       "            }\n",
       "        });\n",
       "        require(['plotly'], function(Plotly) {\n",
       "            window._Plotly = Plotly;\n",
       "        });\n",
       "        }\n",
       "        </script>\n",
       "        "
      ]
     },
     "metadata": {},
     "output_type": "display_data"
    }
   ],
   "source": [
    "import plotly.figure_factory as ff\n",
    "import pandas as pd\n",
    "\n",
    "init_notebook_mode(connected=True)"
   ]
  },
  {
   "cell_type": "code",
   "execution_count": 14,
   "metadata": {},
   "outputs": [],
   "source": [
    "df = pd.read_csv(\"https://raw.githubusercontent.com/plotly/datasets/master/school_earnings.csv\")\n",
    "table =ff.create_table(df)\n",
    "\n"
   ]
  },
  {
   "cell_type": "code",
   "execution_count": 15,
   "metadata": {},
   "outputs": [
    {
     "data": {
      "application/vnd.plotly.v1+json": {
       "config": {
        "linkText": "Export to plot.ly",
        "plotlyServerURL": "https://plot.ly",
        "showLink": false
       },
       "data": [
        {
         "colorscale": [
          [
           0,
           "#00083e"
          ],
          [
           0.5,
           "#ededee"
          ],
          [
           1,
           "#ffffff"
          ]
         ],
         "hoverinfo": "none",
         "opacity": 0.75,
         "showscale": false,
         "type": "heatmap",
         "z": [
          [
           0,
           0,
           0,
           0
          ],
          [
           0.5,
           0.5,
           0.5,
           0.5
          ],
          [
           1,
           1,
           1,
           1
          ],
          [
           0.5,
           0.5,
           0.5,
           0.5
          ],
          [
           1,
           1,
           1,
           1
          ],
          [
           0.5,
           0.5,
           0.5,
           0.5
          ],
          [
           1,
           1,
           1,
           1
          ],
          [
           0.5,
           0.5,
           0.5,
           0.5
          ],
          [
           1,
           1,
           1,
           1
          ],
          [
           0.5,
           0.5,
           0.5,
           0.5
          ],
          [
           1,
           1,
           1,
           1
          ],
          [
           0.5,
           0.5,
           0.5,
           0.5
          ],
          [
           1,
           1,
           1,
           1
          ],
          [
           0.5,
           0.5,
           0.5,
           0.5
          ],
          [
           1,
           1,
           1,
           1
          ],
          [
           0.5,
           0.5,
           0.5,
           0.5
          ],
          [
           1,
           1,
           1,
           1
          ],
          [
           0.5,
           0.5,
           0.5,
           0.5
          ],
          [
           1,
           1,
           1,
           1
          ],
          [
           0.5,
           0.5,
           0.5,
           0.5
          ],
          [
           1,
           1,
           1,
           1
          ],
          [
           0.5,
           0.5,
           0.5,
           0.5
          ]
         ]
        }
       ],
       "layout": {
        "annotations": [
         {
          "align": "left",
          "font": {
           "color": "#ffffff"
          },
          "showarrow": false,
          "text": "<b>School</b>",
          "x": -0.45,
          "xanchor": "left",
          "xref": "x",
          "y": 0,
          "yref": "y"
         },
         {
          "align": "left",
          "font": {
           "color": "#ffffff"
          },
          "showarrow": false,
          "text": "<b>Women</b>",
          "x": 0.55,
          "xanchor": "left",
          "xref": "x",
          "y": 0,
          "yref": "y"
         },
         {
          "align": "left",
          "font": {
           "color": "#ffffff"
          },
          "showarrow": false,
          "text": "<b>Men</b>",
          "x": 1.55,
          "xanchor": "left",
          "xref": "x",
          "y": 0,
          "yref": "y"
         },
         {
          "align": "left",
          "font": {
           "color": "#ffffff"
          },
          "showarrow": false,
          "text": "<b>Gap</b>",
          "x": 2.55,
          "xanchor": "left",
          "xref": "x",
          "y": 0,
          "yref": "y"
         },
         {
          "align": "left",
          "font": {
           "color": "#000000"
          },
          "showarrow": false,
          "text": "MIT",
          "x": -0.45,
          "xanchor": "left",
          "xref": "x",
          "y": 1,
          "yref": "y"
         },
         {
          "align": "left",
          "font": {
           "color": "#000000"
          },
          "showarrow": false,
          "text": "94",
          "x": 0.55,
          "xanchor": "left",
          "xref": "x",
          "y": 1,
          "yref": "y"
         },
         {
          "align": "left",
          "font": {
           "color": "#000000"
          },
          "showarrow": false,
          "text": "152",
          "x": 1.55,
          "xanchor": "left",
          "xref": "x",
          "y": 1,
          "yref": "y"
         },
         {
          "align": "left",
          "font": {
           "color": "#000000"
          },
          "showarrow": false,
          "text": "58",
          "x": 2.55,
          "xanchor": "left",
          "xref": "x",
          "y": 1,
          "yref": "y"
         },
         {
          "align": "left",
          "font": {
           "color": "#000000"
          },
          "showarrow": false,
          "text": "Stanford",
          "x": -0.45,
          "xanchor": "left",
          "xref": "x",
          "y": 2,
          "yref": "y"
         },
         {
          "align": "left",
          "font": {
           "color": "#000000"
          },
          "showarrow": false,
          "text": "96",
          "x": 0.55,
          "xanchor": "left",
          "xref": "x",
          "y": 2,
          "yref": "y"
         },
         {
          "align": "left",
          "font": {
           "color": "#000000"
          },
          "showarrow": false,
          "text": "151",
          "x": 1.55,
          "xanchor": "left",
          "xref": "x",
          "y": 2,
          "yref": "y"
         },
         {
          "align": "left",
          "font": {
           "color": "#000000"
          },
          "showarrow": false,
          "text": "55",
          "x": 2.55,
          "xanchor": "left",
          "xref": "x",
          "y": 2,
          "yref": "y"
         },
         {
          "align": "left",
          "font": {
           "color": "#000000"
          },
          "showarrow": false,
          "text": "Harvard",
          "x": -0.45,
          "xanchor": "left",
          "xref": "x",
          "y": 3,
          "yref": "y"
         },
         {
          "align": "left",
          "font": {
           "color": "#000000"
          },
          "showarrow": false,
          "text": "112",
          "x": 0.55,
          "xanchor": "left",
          "xref": "x",
          "y": 3,
          "yref": "y"
         },
         {
          "align": "left",
          "font": {
           "color": "#000000"
          },
          "showarrow": false,
          "text": "165",
          "x": 1.55,
          "xanchor": "left",
          "xref": "x",
          "y": 3,
          "yref": "y"
         },
         {
          "align": "left",
          "font": {
           "color": "#000000"
          },
          "showarrow": false,
          "text": "53",
          "x": 2.55,
          "xanchor": "left",
          "xref": "x",
          "y": 3,
          "yref": "y"
         },
         {
          "align": "left",
          "font": {
           "color": "#000000"
          },
          "showarrow": false,
          "text": "U.Penn",
          "x": -0.45,
          "xanchor": "left",
          "xref": "x",
          "y": 4,
          "yref": "y"
         },
         {
          "align": "left",
          "font": {
           "color": "#000000"
          },
          "showarrow": false,
          "text": "92",
          "x": 0.55,
          "xanchor": "left",
          "xref": "x",
          "y": 4,
          "yref": "y"
         },
         {
          "align": "left",
          "font": {
           "color": "#000000"
          },
          "showarrow": false,
          "text": "141",
          "x": 1.55,
          "xanchor": "left",
          "xref": "x",
          "y": 4,
          "yref": "y"
         },
         {
          "align": "left",
          "font": {
           "color": "#000000"
          },
          "showarrow": false,
          "text": "49",
          "x": 2.55,
          "xanchor": "left",
          "xref": "x",
          "y": 4,
          "yref": "y"
         },
         {
          "align": "left",
          "font": {
           "color": "#000000"
          },
          "showarrow": false,
          "text": "Princeton",
          "x": -0.45,
          "xanchor": "left",
          "xref": "x",
          "y": 5,
          "yref": "y"
         },
         {
          "align": "left",
          "font": {
           "color": "#000000"
          },
          "showarrow": false,
          "text": "90",
          "x": 0.55,
          "xanchor": "left",
          "xref": "x",
          "y": 5,
          "yref": "y"
         },
         {
          "align": "left",
          "font": {
           "color": "#000000"
          },
          "showarrow": false,
          "text": "137",
          "x": 1.55,
          "xanchor": "left",
          "xref": "x",
          "y": 5,
          "yref": "y"
         },
         {
          "align": "left",
          "font": {
           "color": "#000000"
          },
          "showarrow": false,
          "text": "47",
          "x": 2.55,
          "xanchor": "left",
          "xref": "x",
          "y": 5,
          "yref": "y"
         },
         {
          "align": "left",
          "font": {
           "color": "#000000"
          },
          "showarrow": false,
          "text": "Chicago",
          "x": -0.45,
          "xanchor": "left",
          "xref": "x",
          "y": 6,
          "yref": "y"
         },
         {
          "align": "left",
          "font": {
           "color": "#000000"
          },
          "showarrow": false,
          "text": "78",
          "x": 0.55,
          "xanchor": "left",
          "xref": "x",
          "y": 6,
          "yref": "y"
         },
         {
          "align": "left",
          "font": {
           "color": "#000000"
          },
          "showarrow": false,
          "text": "118",
          "x": 1.55,
          "xanchor": "left",
          "xref": "x",
          "y": 6,
          "yref": "y"
         },
         {
          "align": "left",
          "font": {
           "color": "#000000"
          },
          "showarrow": false,
          "text": "40",
          "x": 2.55,
          "xanchor": "left",
          "xref": "x",
          "y": 6,
          "yref": "y"
         },
         {
          "align": "left",
          "font": {
           "color": "#000000"
          },
          "showarrow": false,
          "text": "Georgetown",
          "x": -0.45,
          "xanchor": "left",
          "xref": "x",
          "y": 7,
          "yref": "y"
         },
         {
          "align": "left",
          "font": {
           "color": "#000000"
          },
          "showarrow": false,
          "text": "94",
          "x": 0.55,
          "xanchor": "left",
          "xref": "x",
          "y": 7,
          "yref": "y"
         },
         {
          "align": "left",
          "font": {
           "color": "#000000"
          },
          "showarrow": false,
          "text": "131",
          "x": 1.55,
          "xanchor": "left",
          "xref": "x",
          "y": 7,
          "yref": "y"
         },
         {
          "align": "left",
          "font": {
           "color": "#000000"
          },
          "showarrow": false,
          "text": "37",
          "x": 2.55,
          "xanchor": "left",
          "xref": "x",
          "y": 7,
          "yref": "y"
         },
         {
          "align": "left",
          "font": {
           "color": "#000000"
          },
          "showarrow": false,
          "text": "Tufts",
          "x": -0.45,
          "xanchor": "left",
          "xref": "x",
          "y": 8,
          "yref": "y"
         },
         {
          "align": "left",
          "font": {
           "color": "#000000"
          },
          "showarrow": false,
          "text": "76",
          "x": 0.55,
          "xanchor": "left",
          "xref": "x",
          "y": 8,
          "yref": "y"
         },
         {
          "align": "left",
          "font": {
           "color": "#000000"
          },
          "showarrow": false,
          "text": "112",
          "x": 1.55,
          "xanchor": "left",
          "xref": "x",
          "y": 8,
          "yref": "y"
         },
         {
          "align": "left",
          "font": {
           "color": "#000000"
          },
          "showarrow": false,
          "text": "36",
          "x": 2.55,
          "xanchor": "left",
          "xref": "x",
          "y": 8,
          "yref": "y"
         },
         {
          "align": "left",
          "font": {
           "color": "#000000"
          },
          "showarrow": false,
          "text": "Yale",
          "x": -0.45,
          "xanchor": "left",
          "xref": "x",
          "y": 9,
          "yref": "y"
         },
         {
          "align": "left",
          "font": {
           "color": "#000000"
          },
          "showarrow": false,
          "text": "79",
          "x": 0.55,
          "xanchor": "left",
          "xref": "x",
          "y": 9,
          "yref": "y"
         },
         {
          "align": "left",
          "font": {
           "color": "#000000"
          },
          "showarrow": false,
          "text": "114",
          "x": 1.55,
          "xanchor": "left",
          "xref": "x",
          "y": 9,
          "yref": "y"
         },
         {
          "align": "left",
          "font": {
           "color": "#000000"
          },
          "showarrow": false,
          "text": "35",
          "x": 2.55,
          "xanchor": "left",
          "xref": "x",
          "y": 9,
          "yref": "y"
         },
         {
          "align": "left",
          "font": {
           "color": "#000000"
          },
          "showarrow": false,
          "text": "Columbia",
          "x": -0.45,
          "xanchor": "left",
          "xref": "x",
          "y": 10,
          "yref": "y"
         },
         {
          "align": "left",
          "font": {
           "color": "#000000"
          },
          "showarrow": false,
          "text": "86",
          "x": 0.55,
          "xanchor": "left",
          "xref": "x",
          "y": 10,
          "yref": "y"
         },
         {
          "align": "left",
          "font": {
           "color": "#000000"
          },
          "showarrow": false,
          "text": "119",
          "x": 1.55,
          "xanchor": "left",
          "xref": "x",
          "y": 10,
          "yref": "y"
         },
         {
          "align": "left",
          "font": {
           "color": "#000000"
          },
          "showarrow": false,
          "text": "33",
          "x": 2.55,
          "xanchor": "left",
          "xref": "x",
          "y": 10,
          "yref": "y"
         },
         {
          "align": "left",
          "font": {
           "color": "#000000"
          },
          "showarrow": false,
          "text": "Duke",
          "x": -0.45,
          "xanchor": "left",
          "xref": "x",
          "y": 11,
          "yref": "y"
         },
         {
          "align": "left",
          "font": {
           "color": "#000000"
          },
          "showarrow": false,
          "text": "93",
          "x": 0.55,
          "xanchor": "left",
          "xref": "x",
          "y": 11,
          "yref": "y"
         },
         {
          "align": "left",
          "font": {
           "color": "#000000"
          },
          "showarrow": false,
          "text": "124",
          "x": 1.55,
          "xanchor": "left",
          "xref": "x",
          "y": 11,
          "yref": "y"
         },
         {
          "align": "left",
          "font": {
           "color": "#000000"
          },
          "showarrow": false,
          "text": "31",
          "x": 2.55,
          "xanchor": "left",
          "xref": "x",
          "y": 11,
          "yref": "y"
         },
         {
          "align": "left",
          "font": {
           "color": "#000000"
          },
          "showarrow": false,
          "text": "Dartmouth",
          "x": -0.45,
          "xanchor": "left",
          "xref": "x",
          "y": 12,
          "yref": "y"
         },
         {
          "align": "left",
          "font": {
           "color": "#000000"
          },
          "showarrow": false,
          "text": "84",
          "x": 0.55,
          "xanchor": "left",
          "xref": "x",
          "y": 12,
          "yref": "y"
         },
         {
          "align": "left",
          "font": {
           "color": "#000000"
          },
          "showarrow": false,
          "text": "114",
          "x": 1.55,
          "xanchor": "left",
          "xref": "x",
          "y": 12,
          "yref": "y"
         },
         {
          "align": "left",
          "font": {
           "color": "#000000"
          },
          "showarrow": false,
          "text": "30",
          "x": 2.55,
          "xanchor": "left",
          "xref": "x",
          "y": 12,
          "yref": "y"
         },
         {
          "align": "left",
          "font": {
           "color": "#000000"
          },
          "showarrow": false,
          "text": "NYU",
          "x": -0.45,
          "xanchor": "left",
          "xref": "x",
          "y": 13,
          "yref": "y"
         },
         {
          "align": "left",
          "font": {
           "color": "#000000"
          },
          "showarrow": false,
          "text": "67",
          "x": 0.55,
          "xanchor": "left",
          "xref": "x",
          "y": 13,
          "yref": "y"
         },
         {
          "align": "left",
          "font": {
           "color": "#000000"
          },
          "showarrow": false,
          "text": "94",
          "x": 1.55,
          "xanchor": "left",
          "xref": "x",
          "y": 13,
          "yref": "y"
         },
         {
          "align": "left",
          "font": {
           "color": "#000000"
          },
          "showarrow": false,
          "text": "27",
          "x": 2.55,
          "xanchor": "left",
          "xref": "x",
          "y": 13,
          "yref": "y"
         },
         {
          "align": "left",
          "font": {
           "color": "#000000"
          },
          "showarrow": false,
          "text": "Notre Dame",
          "x": -0.45,
          "xanchor": "left",
          "xref": "x",
          "y": 14,
          "yref": "y"
         },
         {
          "align": "left",
          "font": {
           "color": "#000000"
          },
          "showarrow": false,
          "text": "73",
          "x": 0.55,
          "xanchor": "left",
          "xref": "x",
          "y": 14,
          "yref": "y"
         },
         {
          "align": "left",
          "font": {
           "color": "#000000"
          },
          "showarrow": false,
          "text": "100",
          "x": 1.55,
          "xanchor": "left",
          "xref": "x",
          "y": 14,
          "yref": "y"
         },
         {
          "align": "left",
          "font": {
           "color": "#000000"
          },
          "showarrow": false,
          "text": "27",
          "x": 2.55,
          "xanchor": "left",
          "xref": "x",
          "y": 14,
          "yref": "y"
         },
         {
          "align": "left",
          "font": {
           "color": "#000000"
          },
          "showarrow": false,
          "text": "Cornell",
          "x": -0.45,
          "xanchor": "left",
          "xref": "x",
          "y": 15,
          "yref": "y"
         },
         {
          "align": "left",
          "font": {
           "color": "#000000"
          },
          "showarrow": false,
          "text": "80",
          "x": 0.55,
          "xanchor": "left",
          "xref": "x",
          "y": 15,
          "yref": "y"
         },
         {
          "align": "left",
          "font": {
           "color": "#000000"
          },
          "showarrow": false,
          "text": "107",
          "x": 1.55,
          "xanchor": "left",
          "xref": "x",
          "y": 15,
          "yref": "y"
         },
         {
          "align": "left",
          "font": {
           "color": "#000000"
          },
          "showarrow": false,
          "text": "27",
          "x": 2.55,
          "xanchor": "left",
          "xref": "x",
          "y": 15,
          "yref": "y"
         },
         {
          "align": "left",
          "font": {
           "color": "#000000"
          },
          "showarrow": false,
          "text": "Michigan",
          "x": -0.45,
          "xanchor": "left",
          "xref": "x",
          "y": 16,
          "yref": "y"
         },
         {
          "align": "left",
          "font": {
           "color": "#000000"
          },
          "showarrow": false,
          "text": "62",
          "x": 0.55,
          "xanchor": "left",
          "xref": "x",
          "y": 16,
          "yref": "y"
         },
         {
          "align": "left",
          "font": {
           "color": "#000000"
          },
          "showarrow": false,
          "text": "84",
          "x": 1.55,
          "xanchor": "left",
          "xref": "x",
          "y": 16,
          "yref": "y"
         },
         {
          "align": "left",
          "font": {
           "color": "#000000"
          },
          "showarrow": false,
          "text": "22",
          "x": 2.55,
          "xanchor": "left",
          "xref": "x",
          "y": 16,
          "yref": "y"
         },
         {
          "align": "left",
          "font": {
           "color": "#000000"
          },
          "showarrow": false,
          "text": "Brown",
          "x": -0.45,
          "xanchor": "left",
          "xref": "x",
          "y": 17,
          "yref": "y"
         },
         {
          "align": "left",
          "font": {
           "color": "#000000"
          },
          "showarrow": false,
          "text": "72",
          "x": 0.55,
          "xanchor": "left",
          "xref": "x",
          "y": 17,
          "yref": "y"
         },
         {
          "align": "left",
          "font": {
           "color": "#000000"
          },
          "showarrow": false,
          "text": "92",
          "x": 1.55,
          "xanchor": "left",
          "xref": "x",
          "y": 17,
          "yref": "y"
         },
         {
          "align": "left",
          "font": {
           "color": "#000000"
          },
          "showarrow": false,
          "text": "20",
          "x": 2.55,
          "xanchor": "left",
          "xref": "x",
          "y": 17,
          "yref": "y"
         },
         {
          "align": "left",
          "font": {
           "color": "#000000"
          },
          "showarrow": false,
          "text": "Berkeley",
          "x": -0.45,
          "xanchor": "left",
          "xref": "x",
          "y": 18,
          "yref": "y"
         },
         {
          "align": "left",
          "font": {
           "color": "#000000"
          },
          "showarrow": false,
          "text": "71",
          "x": 0.55,
          "xanchor": "left",
          "xref": "x",
          "y": 18,
          "yref": "y"
         },
         {
          "align": "left",
          "font": {
           "color": "#000000"
          },
          "showarrow": false,
          "text": "88",
          "x": 1.55,
          "xanchor": "left",
          "xref": "x",
          "y": 18,
          "yref": "y"
         },
         {
          "align": "left",
          "font": {
           "color": "#000000"
          },
          "showarrow": false,
          "text": "17",
          "x": 2.55,
          "xanchor": "left",
          "xref": "x",
          "y": 18,
          "yref": "y"
         },
         {
          "align": "left",
          "font": {
           "color": "#000000"
          },
          "showarrow": false,
          "text": "Emory",
          "x": -0.45,
          "xanchor": "left",
          "xref": "x",
          "y": 19,
          "yref": "y"
         },
         {
          "align": "left",
          "font": {
           "color": "#000000"
          },
          "showarrow": false,
          "text": "68",
          "x": 0.55,
          "xanchor": "left",
          "xref": "x",
          "y": 19,
          "yref": "y"
         },
         {
          "align": "left",
          "font": {
           "color": "#000000"
          },
          "showarrow": false,
          "text": "82",
          "x": 1.55,
          "xanchor": "left",
          "xref": "x",
          "y": 19,
          "yref": "y"
         },
         {
          "align": "left",
          "font": {
           "color": "#000000"
          },
          "showarrow": false,
          "text": "14",
          "x": 2.55,
          "xanchor": "left",
          "xref": "x",
          "y": 19,
          "yref": "y"
         },
         {
          "align": "left",
          "font": {
           "color": "#000000"
          },
          "showarrow": false,
          "text": "UCLA",
          "x": -0.45,
          "xanchor": "left",
          "xref": "x",
          "y": 20,
          "yref": "y"
         },
         {
          "align": "left",
          "font": {
           "color": "#000000"
          },
          "showarrow": false,
          "text": "64",
          "x": 0.55,
          "xanchor": "left",
          "xref": "x",
          "y": 20,
          "yref": "y"
         },
         {
          "align": "left",
          "font": {
           "color": "#000000"
          },
          "showarrow": false,
          "text": "78",
          "x": 1.55,
          "xanchor": "left",
          "xref": "x",
          "y": 20,
          "yref": "y"
         },
         {
          "align": "left",
          "font": {
           "color": "#000000"
          },
          "showarrow": false,
          "text": "14",
          "x": 2.55,
          "xanchor": "left",
          "xref": "x",
          "y": 20,
          "yref": "y"
         },
         {
          "align": "left",
          "font": {
           "color": "#000000"
          },
          "showarrow": false,
          "text": "SoCal",
          "x": -0.45,
          "xanchor": "left",
          "xref": "x",
          "y": 21,
          "yref": "y"
         },
         {
          "align": "left",
          "font": {
           "color": "#000000"
          },
          "showarrow": false,
          "text": "72",
          "x": 0.55,
          "xanchor": "left",
          "xref": "x",
          "y": 21,
          "yref": "y"
         },
         {
          "align": "left",
          "font": {
           "color": "#000000"
          },
          "showarrow": false,
          "text": "81",
          "x": 1.55,
          "xanchor": "left",
          "xref": "x",
          "y": 21,
          "yref": "y"
         },
         {
          "align": "left",
          "font": {
           "color": "#000000"
          },
          "showarrow": false,
          "text": "9",
          "x": 2.55,
          "xanchor": "left",
          "xref": "x",
          "y": 21,
          "yref": "y"
         }
        ],
        "height": 710,
        "margin": {
         "b": 0,
         "l": 0,
         "r": 0,
         "t": 0
        },
        "template": {
         "data": {
          "bar": [
           {
            "error_x": {
             "color": "#2a3f5f"
            },
            "error_y": {
             "color": "#2a3f5f"
            },
            "marker": {
             "line": {
              "color": "#E5ECF6",
              "width": 0.5
             }
            },
            "type": "bar"
           }
          ],
          "barpolar": [
           {
            "marker": {
             "line": {
              "color": "#E5ECF6",
              "width": 0.5
             }
            },
            "type": "barpolar"
           }
          ],
          "carpet": [
           {
            "aaxis": {
             "endlinecolor": "#2a3f5f",
             "gridcolor": "white",
             "linecolor": "white",
             "minorgridcolor": "white",
             "startlinecolor": "#2a3f5f"
            },
            "baxis": {
             "endlinecolor": "#2a3f5f",
             "gridcolor": "white",
             "linecolor": "white",
             "minorgridcolor": "white",
             "startlinecolor": "#2a3f5f"
            },
            "type": "carpet"
           }
          ],
          "choropleth": [
           {
            "colorbar": {
             "outlinewidth": 0,
             "ticks": ""
            },
            "type": "choropleth"
           }
          ],
          "contour": [
           {
            "colorbar": {
             "outlinewidth": 0,
             "ticks": ""
            },
            "colorscale": [
             [
              0,
              "#0d0887"
             ],
             [
              0.1111111111111111,
              "#46039f"
             ],
             [
              0.2222222222222222,
              "#7201a8"
             ],
             [
              0.3333333333333333,
              "#9c179e"
             ],
             [
              0.4444444444444444,
              "#bd3786"
             ],
             [
              0.5555555555555556,
              "#d8576b"
             ],
             [
              0.6666666666666666,
              "#ed7953"
             ],
             [
              0.7777777777777778,
              "#fb9f3a"
             ],
             [
              0.8888888888888888,
              "#fdca26"
             ],
             [
              1,
              "#f0f921"
             ]
            ],
            "type": "contour"
           }
          ],
          "contourcarpet": [
           {
            "colorbar": {
             "outlinewidth": 0,
             "ticks": ""
            },
            "type": "contourcarpet"
           }
          ],
          "heatmap": [
           {
            "colorbar": {
             "outlinewidth": 0,
             "ticks": ""
            },
            "colorscale": [
             [
              0,
              "#0d0887"
             ],
             [
              0.1111111111111111,
              "#46039f"
             ],
             [
              0.2222222222222222,
              "#7201a8"
             ],
             [
              0.3333333333333333,
              "#9c179e"
             ],
             [
              0.4444444444444444,
              "#bd3786"
             ],
             [
              0.5555555555555556,
              "#d8576b"
             ],
             [
              0.6666666666666666,
              "#ed7953"
             ],
             [
              0.7777777777777778,
              "#fb9f3a"
             ],
             [
              0.8888888888888888,
              "#fdca26"
             ],
             [
              1,
              "#f0f921"
             ]
            ],
            "type": "heatmap"
           }
          ],
          "heatmapgl": [
           {
            "colorbar": {
             "outlinewidth": 0,
             "ticks": ""
            },
            "colorscale": [
             [
              0,
              "#0d0887"
             ],
             [
              0.1111111111111111,
              "#46039f"
             ],
             [
              0.2222222222222222,
              "#7201a8"
             ],
             [
              0.3333333333333333,
              "#9c179e"
             ],
             [
              0.4444444444444444,
              "#bd3786"
             ],
             [
              0.5555555555555556,
              "#d8576b"
             ],
             [
              0.6666666666666666,
              "#ed7953"
             ],
             [
              0.7777777777777778,
              "#fb9f3a"
             ],
             [
              0.8888888888888888,
              "#fdca26"
             ],
             [
              1,
              "#f0f921"
             ]
            ],
            "type": "heatmapgl"
           }
          ],
          "histogram": [
           {
            "marker": {
             "colorbar": {
              "outlinewidth": 0,
              "ticks": ""
             }
            },
            "type": "histogram"
           }
          ],
          "histogram2d": [
           {
            "colorbar": {
             "outlinewidth": 0,
             "ticks": ""
            },
            "colorscale": [
             [
              0,
              "#0d0887"
             ],
             [
              0.1111111111111111,
              "#46039f"
             ],
             [
              0.2222222222222222,
              "#7201a8"
             ],
             [
              0.3333333333333333,
              "#9c179e"
             ],
             [
              0.4444444444444444,
              "#bd3786"
             ],
             [
              0.5555555555555556,
              "#d8576b"
             ],
             [
              0.6666666666666666,
              "#ed7953"
             ],
             [
              0.7777777777777778,
              "#fb9f3a"
             ],
             [
              0.8888888888888888,
              "#fdca26"
             ],
             [
              1,
              "#f0f921"
             ]
            ],
            "type": "histogram2d"
           }
          ],
          "histogram2dcontour": [
           {
            "colorbar": {
             "outlinewidth": 0,
             "ticks": ""
            },
            "colorscale": [
             [
              0,
              "#0d0887"
             ],
             [
              0.1111111111111111,
              "#46039f"
             ],
             [
              0.2222222222222222,
              "#7201a8"
             ],
             [
              0.3333333333333333,
              "#9c179e"
             ],
             [
              0.4444444444444444,
              "#bd3786"
             ],
             [
              0.5555555555555556,
              "#d8576b"
             ],
             [
              0.6666666666666666,
              "#ed7953"
             ],
             [
              0.7777777777777778,
              "#fb9f3a"
             ],
             [
              0.8888888888888888,
              "#fdca26"
             ],
             [
              1,
              "#f0f921"
             ]
            ],
            "type": "histogram2dcontour"
           }
          ],
          "mesh3d": [
           {
            "colorbar": {
             "outlinewidth": 0,
             "ticks": ""
            },
            "type": "mesh3d"
           }
          ],
          "parcoords": [
           {
            "line": {
             "colorbar": {
              "outlinewidth": 0,
              "ticks": ""
             }
            },
            "type": "parcoords"
           }
          ],
          "pie": [
           {
            "automargin": true,
            "type": "pie"
           }
          ],
          "scatter": [
           {
            "marker": {
             "colorbar": {
              "outlinewidth": 0,
              "ticks": ""
             }
            },
            "type": "scatter"
           }
          ],
          "scatter3d": [
           {
            "line": {
             "colorbar": {
              "outlinewidth": 0,
              "ticks": ""
             }
            },
            "marker": {
             "colorbar": {
              "outlinewidth": 0,
              "ticks": ""
             }
            },
            "type": "scatter3d"
           }
          ],
          "scattercarpet": [
           {
            "marker": {
             "colorbar": {
              "outlinewidth": 0,
              "ticks": ""
             }
            },
            "type": "scattercarpet"
           }
          ],
          "scattergeo": [
           {
            "marker": {
             "colorbar": {
              "outlinewidth": 0,
              "ticks": ""
             }
            },
            "type": "scattergeo"
           }
          ],
          "scattergl": [
           {
            "marker": {
             "colorbar": {
              "outlinewidth": 0,
              "ticks": ""
             }
            },
            "type": "scattergl"
           }
          ],
          "scattermapbox": [
           {
            "marker": {
             "colorbar": {
              "outlinewidth": 0,
              "ticks": ""
             }
            },
            "type": "scattermapbox"
           }
          ],
          "scatterpolar": [
           {
            "marker": {
             "colorbar": {
              "outlinewidth": 0,
              "ticks": ""
             }
            },
            "type": "scatterpolar"
           }
          ],
          "scatterpolargl": [
           {
            "marker": {
             "colorbar": {
              "outlinewidth": 0,
              "ticks": ""
             }
            },
            "type": "scatterpolargl"
           }
          ],
          "scatterternary": [
           {
            "marker": {
             "colorbar": {
              "outlinewidth": 0,
              "ticks": ""
             }
            },
            "type": "scatterternary"
           }
          ],
          "surface": [
           {
            "colorbar": {
             "outlinewidth": 0,
             "ticks": ""
            },
            "colorscale": [
             [
              0,
              "#0d0887"
             ],
             [
              0.1111111111111111,
              "#46039f"
             ],
             [
              0.2222222222222222,
              "#7201a8"
             ],
             [
              0.3333333333333333,
              "#9c179e"
             ],
             [
              0.4444444444444444,
              "#bd3786"
             ],
             [
              0.5555555555555556,
              "#d8576b"
             ],
             [
              0.6666666666666666,
              "#ed7953"
             ],
             [
              0.7777777777777778,
              "#fb9f3a"
             ],
             [
              0.8888888888888888,
              "#fdca26"
             ],
             [
              1,
              "#f0f921"
             ]
            ],
            "type": "surface"
           }
          ],
          "table": [
           {
            "cells": {
             "fill": {
              "color": "#EBF0F8"
             },
             "line": {
              "color": "white"
             }
            },
            "header": {
             "fill": {
              "color": "#C8D4E3"
             },
             "line": {
              "color": "white"
             }
            },
            "type": "table"
           }
          ]
         },
         "layout": {
          "annotationdefaults": {
           "arrowcolor": "#2a3f5f",
           "arrowhead": 0,
           "arrowwidth": 1
          },
          "coloraxis": {
           "colorbar": {
            "outlinewidth": 0,
            "ticks": ""
           }
          },
          "colorscale": {
           "diverging": [
            [
             0,
             "#8e0152"
            ],
            [
             0.1,
             "#c51b7d"
            ],
            [
             0.2,
             "#de77ae"
            ],
            [
             0.3,
             "#f1b6da"
            ],
            [
             0.4,
             "#fde0ef"
            ],
            [
             0.5,
             "#f7f7f7"
            ],
            [
             0.6,
             "#e6f5d0"
            ],
            [
             0.7,
             "#b8e186"
            ],
            [
             0.8,
             "#7fbc41"
            ],
            [
             0.9,
             "#4d9221"
            ],
            [
             1,
             "#276419"
            ]
           ],
           "sequential": [
            [
             0,
             "#0d0887"
            ],
            [
             0.1111111111111111,
             "#46039f"
            ],
            [
             0.2222222222222222,
             "#7201a8"
            ],
            [
             0.3333333333333333,
             "#9c179e"
            ],
            [
             0.4444444444444444,
             "#bd3786"
            ],
            [
             0.5555555555555556,
             "#d8576b"
            ],
            [
             0.6666666666666666,
             "#ed7953"
            ],
            [
             0.7777777777777778,
             "#fb9f3a"
            ],
            [
             0.8888888888888888,
             "#fdca26"
            ],
            [
             1,
             "#f0f921"
            ]
           ],
           "sequentialminus": [
            [
             0,
             "#0d0887"
            ],
            [
             0.1111111111111111,
             "#46039f"
            ],
            [
             0.2222222222222222,
             "#7201a8"
            ],
            [
             0.3333333333333333,
             "#9c179e"
            ],
            [
             0.4444444444444444,
             "#bd3786"
            ],
            [
             0.5555555555555556,
             "#d8576b"
            ],
            [
             0.6666666666666666,
             "#ed7953"
            ],
            [
             0.7777777777777778,
             "#fb9f3a"
            ],
            [
             0.8888888888888888,
             "#fdca26"
            ],
            [
             1,
             "#f0f921"
            ]
           ]
          },
          "colorway": [
           "#636efa",
           "#EF553B",
           "#00cc96",
           "#ab63fa",
           "#FFA15A",
           "#19d3f3",
           "#FF6692",
           "#B6E880",
           "#FF97FF",
           "#FECB52"
          ],
          "font": {
           "color": "#2a3f5f"
          },
          "geo": {
           "bgcolor": "white",
           "lakecolor": "white",
           "landcolor": "#E5ECF6",
           "showlakes": true,
           "showland": true,
           "subunitcolor": "white"
          },
          "hoverlabel": {
           "align": "left"
          },
          "hovermode": "closest",
          "mapbox": {
           "style": "light"
          },
          "paper_bgcolor": "white",
          "plot_bgcolor": "#E5ECF6",
          "polar": {
           "angularaxis": {
            "gridcolor": "white",
            "linecolor": "white",
            "ticks": ""
           },
           "bgcolor": "#E5ECF6",
           "radialaxis": {
            "gridcolor": "white",
            "linecolor": "white",
            "ticks": ""
           }
          },
          "scene": {
           "xaxis": {
            "backgroundcolor": "#E5ECF6",
            "gridcolor": "white",
            "gridwidth": 2,
            "linecolor": "white",
            "showbackground": true,
            "ticks": "",
            "zerolinecolor": "white"
           },
           "yaxis": {
            "backgroundcolor": "#E5ECF6",
            "gridcolor": "white",
            "gridwidth": 2,
            "linecolor": "white",
            "showbackground": true,
            "ticks": "",
            "zerolinecolor": "white"
           },
           "zaxis": {
            "backgroundcolor": "#E5ECF6",
            "gridcolor": "white",
            "gridwidth": 2,
            "linecolor": "white",
            "showbackground": true,
            "ticks": "",
            "zerolinecolor": "white"
           }
          },
          "shapedefaults": {
           "line": {
            "color": "#2a3f5f"
           }
          },
          "ternary": {
           "aaxis": {
            "gridcolor": "white",
            "linecolor": "white",
            "ticks": ""
           },
           "baxis": {
            "gridcolor": "white",
            "linecolor": "white",
            "ticks": ""
           },
           "bgcolor": "#E5ECF6",
           "caxis": {
            "gridcolor": "white",
            "linecolor": "white",
            "ticks": ""
           }
          },
          "title": {
           "x": 0.05
          },
          "xaxis": {
           "automargin": true,
           "gridcolor": "white",
           "linecolor": "white",
           "ticks": "",
           "title": {
            "standoff": 15
           },
           "zerolinecolor": "white",
           "zerolinewidth": 2
          },
          "yaxis": {
           "automargin": true,
           "gridcolor": "white",
           "linecolor": "white",
           "ticks": "",
           "title": {
            "standoff": 15
           },
           "zerolinecolor": "white",
           "zerolinewidth": 2
          }
         }
        },
        "xaxis": {
         "dtick": 1,
         "gridwidth": 2,
         "showticklabels": false,
         "tick0": -0.5,
         "ticks": "",
         "zeroline": false
        },
        "yaxis": {
         "autorange": "reversed",
         "dtick": 1,
         "gridwidth": 2,
         "showticklabels": false,
         "tick0": 0.5,
         "ticks": "",
         "zeroline": false
        }
       }
      },
      "text/html": [
       "<div>\n",
       "        \n",
       "        \n",
       "            <div id=\"a9662178-026b-4b74-8537-db33ac91cc2a\" class=\"plotly-graph-div\" style=\"height:710px; width:100%;\"></div>\n",
       "            <script type=\"text/javascript\">\n",
       "                require([\"plotly\"], function(Plotly) {\n",
       "                    window.PLOTLYENV=window.PLOTLYENV || {};\n",
       "                    \n",
       "                if (document.getElementById(\"a9662178-026b-4b74-8537-db33ac91cc2a\")) {\n",
       "                    Plotly.newPlot(\n",
       "                        'a9662178-026b-4b74-8537-db33ac91cc2a',\n",
       "                        [{\"colorscale\": [[0, \"#00083e\"], [0.5, \"#ededee\"], [1, \"#ffffff\"]], \"hoverinfo\": \"none\", \"opacity\": 0.75, \"showscale\": false, \"type\": \"heatmap\", \"z\": [[0, 0, 0, 0], [0.5, 0.5, 0.5, 0.5], [1, 1, 1, 1], [0.5, 0.5, 0.5, 0.5], [1, 1, 1, 1], [0.5, 0.5, 0.5, 0.5], [1, 1, 1, 1], [0.5, 0.5, 0.5, 0.5], [1, 1, 1, 1], [0.5, 0.5, 0.5, 0.5], [1, 1, 1, 1], [0.5, 0.5, 0.5, 0.5], [1, 1, 1, 1], [0.5, 0.5, 0.5, 0.5], [1, 1, 1, 1], [0.5, 0.5, 0.5, 0.5], [1, 1, 1, 1], [0.5, 0.5, 0.5, 0.5], [1, 1, 1, 1], [0.5, 0.5, 0.5, 0.5], [1, 1, 1, 1], [0.5, 0.5, 0.5, 0.5]]}],\n",
       "                        {\"annotations\": [{\"align\": \"left\", \"font\": {\"color\": \"#ffffff\"}, \"showarrow\": false, \"text\": \"<b>School</b>\", \"x\": -0.45, \"xanchor\": \"left\", \"xref\": \"x\", \"y\": 0, \"yref\": \"y\"}, {\"align\": \"left\", \"font\": {\"color\": \"#ffffff\"}, \"showarrow\": false, \"text\": \"<b>Women</b>\", \"x\": 0.55, \"xanchor\": \"left\", \"xref\": \"x\", \"y\": 0, \"yref\": \"y\"}, {\"align\": \"left\", \"font\": {\"color\": \"#ffffff\"}, \"showarrow\": false, \"text\": \"<b>Men</b>\", \"x\": 1.55, \"xanchor\": \"left\", \"xref\": \"x\", \"y\": 0, \"yref\": \"y\"}, {\"align\": \"left\", \"font\": {\"color\": \"#ffffff\"}, \"showarrow\": false, \"text\": \"<b>Gap</b>\", \"x\": 2.55, \"xanchor\": \"left\", \"xref\": \"x\", \"y\": 0, \"yref\": \"y\"}, {\"align\": \"left\", \"font\": {\"color\": \"#000000\"}, \"showarrow\": false, \"text\": \"MIT\", \"x\": -0.45, \"xanchor\": \"left\", \"xref\": \"x\", \"y\": 1, \"yref\": \"y\"}, {\"align\": \"left\", \"font\": {\"color\": \"#000000\"}, \"showarrow\": false, \"text\": \"94\", \"x\": 0.55, \"xanchor\": \"left\", \"xref\": \"x\", \"y\": 1, \"yref\": \"y\"}, {\"align\": \"left\", \"font\": {\"color\": \"#000000\"}, \"showarrow\": false, \"text\": \"152\", \"x\": 1.55, \"xanchor\": \"left\", \"xref\": \"x\", \"y\": 1, \"yref\": \"y\"}, {\"align\": \"left\", \"font\": {\"color\": \"#000000\"}, \"showarrow\": false, \"text\": \"58\", \"x\": 2.55, \"xanchor\": \"left\", \"xref\": \"x\", \"y\": 1, \"yref\": \"y\"}, {\"align\": \"left\", \"font\": {\"color\": \"#000000\"}, \"showarrow\": false, \"text\": \"Stanford\", \"x\": -0.45, \"xanchor\": \"left\", \"xref\": \"x\", \"y\": 2, \"yref\": \"y\"}, {\"align\": \"left\", \"font\": {\"color\": \"#000000\"}, \"showarrow\": false, \"text\": \"96\", \"x\": 0.55, \"xanchor\": \"left\", \"xref\": \"x\", \"y\": 2, \"yref\": \"y\"}, {\"align\": \"left\", \"font\": {\"color\": \"#000000\"}, \"showarrow\": false, \"text\": \"151\", \"x\": 1.55, \"xanchor\": \"left\", \"xref\": \"x\", \"y\": 2, \"yref\": \"y\"}, {\"align\": \"left\", \"font\": {\"color\": \"#000000\"}, \"showarrow\": false, \"text\": \"55\", \"x\": 2.55, \"xanchor\": \"left\", \"xref\": \"x\", \"y\": 2, \"yref\": \"y\"}, {\"align\": \"left\", \"font\": {\"color\": \"#000000\"}, \"showarrow\": false, \"text\": \"Harvard\", \"x\": -0.45, \"xanchor\": \"left\", \"xref\": \"x\", \"y\": 3, \"yref\": \"y\"}, {\"align\": \"left\", \"font\": {\"color\": \"#000000\"}, \"showarrow\": false, \"text\": \"112\", \"x\": 0.55, \"xanchor\": \"left\", \"xref\": \"x\", \"y\": 3, \"yref\": \"y\"}, {\"align\": \"left\", \"font\": {\"color\": \"#000000\"}, \"showarrow\": false, \"text\": \"165\", \"x\": 1.55, \"xanchor\": \"left\", \"xref\": \"x\", \"y\": 3, \"yref\": \"y\"}, {\"align\": \"left\", \"font\": {\"color\": \"#000000\"}, \"showarrow\": false, \"text\": \"53\", \"x\": 2.55, \"xanchor\": \"left\", \"xref\": \"x\", \"y\": 3, \"yref\": \"y\"}, {\"align\": \"left\", \"font\": {\"color\": \"#000000\"}, \"showarrow\": false, \"text\": \"U.Penn\", \"x\": -0.45, \"xanchor\": \"left\", \"xref\": \"x\", \"y\": 4, \"yref\": \"y\"}, {\"align\": \"left\", \"font\": {\"color\": \"#000000\"}, \"showarrow\": false, \"text\": \"92\", \"x\": 0.55, \"xanchor\": \"left\", \"xref\": \"x\", \"y\": 4, \"yref\": \"y\"}, {\"align\": \"left\", \"font\": {\"color\": \"#000000\"}, \"showarrow\": false, \"text\": \"141\", \"x\": 1.55, \"xanchor\": \"left\", \"xref\": \"x\", \"y\": 4, \"yref\": \"y\"}, {\"align\": \"left\", \"font\": {\"color\": \"#000000\"}, \"showarrow\": false, \"text\": \"49\", \"x\": 2.55, \"xanchor\": \"left\", \"xref\": \"x\", \"y\": 4, \"yref\": \"y\"}, {\"align\": \"left\", \"font\": {\"color\": \"#000000\"}, \"showarrow\": false, \"text\": \"Princeton\", \"x\": -0.45, \"xanchor\": \"left\", \"xref\": \"x\", \"y\": 5, \"yref\": \"y\"}, {\"align\": \"left\", \"font\": {\"color\": \"#000000\"}, \"showarrow\": false, \"text\": \"90\", \"x\": 0.55, \"xanchor\": \"left\", \"xref\": \"x\", \"y\": 5, \"yref\": \"y\"}, {\"align\": \"left\", \"font\": {\"color\": \"#000000\"}, \"showarrow\": false, \"text\": \"137\", \"x\": 1.55, \"xanchor\": \"left\", \"xref\": \"x\", \"y\": 5, \"yref\": \"y\"}, {\"align\": \"left\", \"font\": {\"color\": \"#000000\"}, \"showarrow\": false, \"text\": \"47\", \"x\": 2.55, \"xanchor\": \"left\", \"xref\": \"x\", \"y\": 5, \"yref\": \"y\"}, {\"align\": \"left\", \"font\": {\"color\": \"#000000\"}, \"showarrow\": false, \"text\": \"Chicago\", \"x\": -0.45, \"xanchor\": \"left\", \"xref\": \"x\", \"y\": 6, \"yref\": \"y\"}, {\"align\": \"left\", \"font\": {\"color\": \"#000000\"}, \"showarrow\": false, \"text\": \"78\", \"x\": 0.55, \"xanchor\": \"left\", \"xref\": \"x\", \"y\": 6, \"yref\": \"y\"}, {\"align\": \"left\", \"font\": {\"color\": \"#000000\"}, \"showarrow\": false, \"text\": \"118\", \"x\": 1.55, \"xanchor\": \"left\", \"xref\": \"x\", \"y\": 6, \"yref\": \"y\"}, {\"align\": \"left\", \"font\": {\"color\": \"#000000\"}, \"showarrow\": false, \"text\": \"40\", \"x\": 2.55, \"xanchor\": \"left\", \"xref\": \"x\", \"y\": 6, \"yref\": \"y\"}, {\"align\": \"left\", \"font\": {\"color\": \"#000000\"}, \"showarrow\": false, \"text\": \"Georgetown\", \"x\": -0.45, \"xanchor\": \"left\", \"xref\": \"x\", \"y\": 7, \"yref\": \"y\"}, {\"align\": \"left\", \"font\": {\"color\": \"#000000\"}, \"showarrow\": false, \"text\": \"94\", \"x\": 0.55, \"xanchor\": \"left\", \"xref\": \"x\", \"y\": 7, \"yref\": \"y\"}, {\"align\": \"left\", \"font\": {\"color\": \"#000000\"}, \"showarrow\": false, \"text\": \"131\", \"x\": 1.55, \"xanchor\": \"left\", \"xref\": \"x\", \"y\": 7, \"yref\": \"y\"}, {\"align\": \"left\", \"font\": {\"color\": \"#000000\"}, \"showarrow\": false, \"text\": \"37\", \"x\": 2.55, \"xanchor\": \"left\", \"xref\": \"x\", \"y\": 7, \"yref\": \"y\"}, {\"align\": \"left\", \"font\": {\"color\": \"#000000\"}, \"showarrow\": false, \"text\": \"Tufts\", \"x\": -0.45, \"xanchor\": \"left\", \"xref\": \"x\", \"y\": 8, \"yref\": \"y\"}, {\"align\": \"left\", \"font\": {\"color\": \"#000000\"}, \"showarrow\": false, \"text\": \"76\", \"x\": 0.55, \"xanchor\": \"left\", \"xref\": \"x\", \"y\": 8, \"yref\": \"y\"}, {\"align\": \"left\", \"font\": {\"color\": \"#000000\"}, \"showarrow\": false, \"text\": \"112\", \"x\": 1.55, \"xanchor\": \"left\", \"xref\": \"x\", \"y\": 8, \"yref\": \"y\"}, {\"align\": \"left\", \"font\": {\"color\": \"#000000\"}, \"showarrow\": false, \"text\": \"36\", \"x\": 2.55, \"xanchor\": \"left\", \"xref\": \"x\", \"y\": 8, \"yref\": \"y\"}, {\"align\": \"left\", \"font\": {\"color\": \"#000000\"}, \"showarrow\": false, \"text\": \"Yale\", \"x\": -0.45, \"xanchor\": \"left\", \"xref\": \"x\", \"y\": 9, \"yref\": \"y\"}, {\"align\": \"left\", \"font\": {\"color\": \"#000000\"}, \"showarrow\": false, \"text\": \"79\", \"x\": 0.55, \"xanchor\": \"left\", \"xref\": \"x\", \"y\": 9, \"yref\": \"y\"}, {\"align\": \"left\", \"font\": {\"color\": \"#000000\"}, \"showarrow\": false, \"text\": \"114\", \"x\": 1.55, \"xanchor\": \"left\", \"xref\": \"x\", \"y\": 9, \"yref\": \"y\"}, {\"align\": \"left\", \"font\": {\"color\": \"#000000\"}, \"showarrow\": false, \"text\": \"35\", \"x\": 2.55, \"xanchor\": \"left\", \"xref\": \"x\", \"y\": 9, \"yref\": \"y\"}, {\"align\": \"left\", \"font\": {\"color\": \"#000000\"}, \"showarrow\": false, \"text\": \"Columbia\", \"x\": -0.45, \"xanchor\": \"left\", \"xref\": \"x\", \"y\": 10, \"yref\": \"y\"}, {\"align\": \"left\", \"font\": {\"color\": \"#000000\"}, \"showarrow\": false, \"text\": \"86\", \"x\": 0.55, \"xanchor\": \"left\", \"xref\": \"x\", \"y\": 10, \"yref\": \"y\"}, {\"align\": \"left\", \"font\": {\"color\": \"#000000\"}, \"showarrow\": false, \"text\": \"119\", \"x\": 1.55, \"xanchor\": \"left\", \"xref\": \"x\", \"y\": 10, \"yref\": \"y\"}, {\"align\": \"left\", \"font\": {\"color\": \"#000000\"}, \"showarrow\": false, \"text\": \"33\", \"x\": 2.55, \"xanchor\": \"left\", \"xref\": \"x\", \"y\": 10, \"yref\": \"y\"}, {\"align\": \"left\", \"font\": {\"color\": \"#000000\"}, \"showarrow\": false, \"text\": \"Duke\", \"x\": -0.45, \"xanchor\": \"left\", \"xref\": \"x\", \"y\": 11, \"yref\": \"y\"}, {\"align\": \"left\", \"font\": {\"color\": \"#000000\"}, \"showarrow\": false, \"text\": \"93\", \"x\": 0.55, \"xanchor\": \"left\", \"xref\": \"x\", \"y\": 11, \"yref\": \"y\"}, {\"align\": \"left\", \"font\": {\"color\": \"#000000\"}, \"showarrow\": false, \"text\": \"124\", \"x\": 1.55, \"xanchor\": \"left\", \"xref\": \"x\", \"y\": 11, \"yref\": \"y\"}, {\"align\": \"left\", \"font\": {\"color\": \"#000000\"}, \"showarrow\": false, \"text\": \"31\", \"x\": 2.55, \"xanchor\": \"left\", \"xref\": \"x\", \"y\": 11, \"yref\": \"y\"}, {\"align\": \"left\", \"font\": {\"color\": \"#000000\"}, \"showarrow\": false, \"text\": \"Dartmouth\", \"x\": -0.45, \"xanchor\": \"left\", \"xref\": \"x\", \"y\": 12, \"yref\": \"y\"}, {\"align\": \"left\", \"font\": {\"color\": \"#000000\"}, \"showarrow\": false, \"text\": \"84\", \"x\": 0.55, \"xanchor\": \"left\", \"xref\": \"x\", \"y\": 12, \"yref\": \"y\"}, {\"align\": \"left\", \"font\": {\"color\": \"#000000\"}, \"showarrow\": false, \"text\": \"114\", \"x\": 1.55, \"xanchor\": \"left\", \"xref\": \"x\", \"y\": 12, \"yref\": \"y\"}, {\"align\": \"left\", \"font\": {\"color\": \"#000000\"}, \"showarrow\": false, \"text\": \"30\", \"x\": 2.55, \"xanchor\": \"left\", \"xref\": \"x\", \"y\": 12, \"yref\": \"y\"}, {\"align\": \"left\", \"font\": {\"color\": \"#000000\"}, \"showarrow\": false, \"text\": \"NYU\", \"x\": -0.45, \"xanchor\": \"left\", \"xref\": \"x\", \"y\": 13, \"yref\": \"y\"}, {\"align\": \"left\", \"font\": {\"color\": \"#000000\"}, \"showarrow\": false, \"text\": \"67\", \"x\": 0.55, \"xanchor\": \"left\", \"xref\": \"x\", \"y\": 13, \"yref\": \"y\"}, {\"align\": \"left\", \"font\": {\"color\": \"#000000\"}, \"showarrow\": false, \"text\": \"94\", \"x\": 1.55, \"xanchor\": \"left\", \"xref\": \"x\", \"y\": 13, \"yref\": \"y\"}, {\"align\": \"left\", \"font\": {\"color\": \"#000000\"}, \"showarrow\": false, \"text\": \"27\", \"x\": 2.55, \"xanchor\": \"left\", \"xref\": \"x\", \"y\": 13, \"yref\": \"y\"}, {\"align\": \"left\", \"font\": {\"color\": \"#000000\"}, \"showarrow\": false, \"text\": \"Notre Dame\", \"x\": -0.45, \"xanchor\": \"left\", \"xref\": \"x\", \"y\": 14, \"yref\": \"y\"}, {\"align\": \"left\", \"font\": {\"color\": \"#000000\"}, \"showarrow\": false, \"text\": \"73\", \"x\": 0.55, \"xanchor\": \"left\", \"xref\": \"x\", \"y\": 14, \"yref\": \"y\"}, {\"align\": \"left\", \"font\": {\"color\": \"#000000\"}, \"showarrow\": false, \"text\": \"100\", \"x\": 1.55, \"xanchor\": \"left\", \"xref\": \"x\", \"y\": 14, \"yref\": \"y\"}, {\"align\": \"left\", \"font\": {\"color\": \"#000000\"}, \"showarrow\": false, \"text\": \"27\", \"x\": 2.55, \"xanchor\": \"left\", \"xref\": \"x\", \"y\": 14, \"yref\": \"y\"}, {\"align\": \"left\", \"font\": {\"color\": \"#000000\"}, \"showarrow\": false, \"text\": \"Cornell\", \"x\": -0.45, \"xanchor\": \"left\", \"xref\": \"x\", \"y\": 15, \"yref\": \"y\"}, {\"align\": \"left\", \"font\": {\"color\": \"#000000\"}, \"showarrow\": false, \"text\": \"80\", \"x\": 0.55, \"xanchor\": \"left\", \"xref\": \"x\", \"y\": 15, \"yref\": \"y\"}, {\"align\": \"left\", \"font\": {\"color\": \"#000000\"}, \"showarrow\": false, \"text\": \"107\", \"x\": 1.55, \"xanchor\": \"left\", \"xref\": \"x\", \"y\": 15, \"yref\": \"y\"}, {\"align\": \"left\", \"font\": {\"color\": \"#000000\"}, \"showarrow\": false, \"text\": \"27\", \"x\": 2.55, \"xanchor\": \"left\", \"xref\": \"x\", \"y\": 15, \"yref\": \"y\"}, {\"align\": \"left\", \"font\": {\"color\": \"#000000\"}, \"showarrow\": false, \"text\": \"Michigan\", \"x\": -0.45, \"xanchor\": \"left\", \"xref\": \"x\", \"y\": 16, \"yref\": \"y\"}, {\"align\": \"left\", \"font\": {\"color\": \"#000000\"}, \"showarrow\": false, \"text\": \"62\", \"x\": 0.55, \"xanchor\": \"left\", \"xref\": \"x\", \"y\": 16, \"yref\": \"y\"}, {\"align\": \"left\", \"font\": {\"color\": \"#000000\"}, \"showarrow\": false, \"text\": \"84\", \"x\": 1.55, \"xanchor\": \"left\", \"xref\": \"x\", \"y\": 16, \"yref\": \"y\"}, {\"align\": \"left\", \"font\": {\"color\": \"#000000\"}, \"showarrow\": false, \"text\": \"22\", \"x\": 2.55, \"xanchor\": \"left\", \"xref\": \"x\", \"y\": 16, \"yref\": \"y\"}, {\"align\": \"left\", \"font\": {\"color\": \"#000000\"}, \"showarrow\": false, \"text\": \"Brown\", \"x\": -0.45, \"xanchor\": \"left\", \"xref\": \"x\", \"y\": 17, \"yref\": \"y\"}, {\"align\": \"left\", \"font\": {\"color\": \"#000000\"}, \"showarrow\": false, \"text\": \"72\", \"x\": 0.55, \"xanchor\": \"left\", \"xref\": \"x\", \"y\": 17, \"yref\": \"y\"}, {\"align\": \"left\", \"font\": {\"color\": \"#000000\"}, \"showarrow\": false, \"text\": \"92\", \"x\": 1.55, \"xanchor\": \"left\", \"xref\": \"x\", \"y\": 17, \"yref\": \"y\"}, {\"align\": \"left\", \"font\": {\"color\": \"#000000\"}, \"showarrow\": false, \"text\": \"20\", \"x\": 2.55, \"xanchor\": \"left\", \"xref\": \"x\", \"y\": 17, \"yref\": \"y\"}, {\"align\": \"left\", \"font\": {\"color\": \"#000000\"}, \"showarrow\": false, \"text\": \"Berkeley\", \"x\": -0.45, \"xanchor\": \"left\", \"xref\": \"x\", \"y\": 18, \"yref\": \"y\"}, {\"align\": \"left\", \"font\": {\"color\": \"#000000\"}, \"showarrow\": false, \"text\": \"71\", \"x\": 0.55, \"xanchor\": \"left\", \"xref\": \"x\", \"y\": 18, \"yref\": \"y\"}, {\"align\": \"left\", \"font\": {\"color\": \"#000000\"}, \"showarrow\": false, \"text\": \"88\", \"x\": 1.55, \"xanchor\": \"left\", \"xref\": \"x\", \"y\": 18, \"yref\": \"y\"}, {\"align\": \"left\", \"font\": {\"color\": \"#000000\"}, \"showarrow\": false, \"text\": \"17\", \"x\": 2.55, \"xanchor\": \"left\", \"xref\": \"x\", \"y\": 18, \"yref\": \"y\"}, {\"align\": \"left\", \"font\": {\"color\": \"#000000\"}, \"showarrow\": false, \"text\": \"Emory\", \"x\": -0.45, \"xanchor\": \"left\", \"xref\": \"x\", \"y\": 19, \"yref\": \"y\"}, {\"align\": \"left\", \"font\": {\"color\": \"#000000\"}, \"showarrow\": false, \"text\": \"68\", \"x\": 0.55, \"xanchor\": \"left\", \"xref\": \"x\", \"y\": 19, \"yref\": \"y\"}, {\"align\": \"left\", \"font\": {\"color\": \"#000000\"}, \"showarrow\": false, \"text\": \"82\", \"x\": 1.55, \"xanchor\": \"left\", \"xref\": \"x\", \"y\": 19, \"yref\": \"y\"}, {\"align\": \"left\", \"font\": {\"color\": \"#000000\"}, \"showarrow\": false, \"text\": \"14\", \"x\": 2.55, \"xanchor\": \"left\", \"xref\": \"x\", \"y\": 19, \"yref\": \"y\"}, {\"align\": \"left\", \"font\": {\"color\": \"#000000\"}, \"showarrow\": false, \"text\": \"UCLA\", \"x\": -0.45, \"xanchor\": \"left\", \"xref\": \"x\", \"y\": 20, \"yref\": \"y\"}, {\"align\": \"left\", \"font\": {\"color\": \"#000000\"}, \"showarrow\": false, \"text\": \"64\", \"x\": 0.55, \"xanchor\": \"left\", \"xref\": \"x\", \"y\": 20, \"yref\": \"y\"}, {\"align\": \"left\", \"font\": {\"color\": \"#000000\"}, \"showarrow\": false, \"text\": \"78\", \"x\": 1.55, \"xanchor\": \"left\", \"xref\": \"x\", \"y\": 20, \"yref\": \"y\"}, {\"align\": \"left\", \"font\": {\"color\": \"#000000\"}, \"showarrow\": false, \"text\": \"14\", \"x\": 2.55, \"xanchor\": \"left\", \"xref\": \"x\", \"y\": 20, \"yref\": \"y\"}, {\"align\": \"left\", \"font\": {\"color\": \"#000000\"}, \"showarrow\": false, \"text\": \"SoCal\", \"x\": -0.45, \"xanchor\": \"left\", \"xref\": \"x\", \"y\": 21, \"yref\": \"y\"}, {\"align\": \"left\", \"font\": {\"color\": \"#000000\"}, \"showarrow\": false, \"text\": \"72\", \"x\": 0.55, \"xanchor\": \"left\", \"xref\": \"x\", \"y\": 21, \"yref\": \"y\"}, {\"align\": \"left\", \"font\": {\"color\": \"#000000\"}, \"showarrow\": false, \"text\": \"81\", \"x\": 1.55, \"xanchor\": \"left\", \"xref\": \"x\", \"y\": 21, \"yref\": \"y\"}, {\"align\": \"left\", \"font\": {\"color\": \"#000000\"}, \"showarrow\": false, \"text\": \"9\", \"x\": 2.55, \"xanchor\": \"left\", \"xref\": \"x\", \"y\": 21, \"yref\": \"y\"}], \"height\": 710, \"margin\": {\"b\": 0, \"l\": 0, \"r\": 0, \"t\": 0}, \"template\": {\"data\": {\"bar\": [{\"error_x\": {\"color\": \"#2a3f5f\"}, \"error_y\": {\"color\": \"#2a3f5f\"}, \"marker\": {\"line\": {\"color\": \"#E5ECF6\", \"width\": 0.5}}, \"type\": \"bar\"}], \"barpolar\": [{\"marker\": {\"line\": {\"color\": \"#E5ECF6\", \"width\": 0.5}}, \"type\": \"barpolar\"}], \"carpet\": [{\"aaxis\": {\"endlinecolor\": \"#2a3f5f\", \"gridcolor\": \"white\", \"linecolor\": \"white\", \"minorgridcolor\": \"white\", \"startlinecolor\": \"#2a3f5f\"}, \"baxis\": {\"endlinecolor\": \"#2a3f5f\", \"gridcolor\": \"white\", \"linecolor\": \"white\", \"minorgridcolor\": \"white\", \"startlinecolor\": \"#2a3f5f\"}, \"type\": \"carpet\"}], \"choropleth\": [{\"colorbar\": {\"outlinewidth\": 0, \"ticks\": \"\"}, \"type\": \"choropleth\"}], \"contour\": [{\"colorbar\": {\"outlinewidth\": 0, \"ticks\": \"\"}, \"colorscale\": [[0.0, \"#0d0887\"], [0.1111111111111111, \"#46039f\"], [0.2222222222222222, \"#7201a8\"], [0.3333333333333333, \"#9c179e\"], [0.4444444444444444, \"#bd3786\"], [0.5555555555555556, \"#d8576b\"], [0.6666666666666666, \"#ed7953\"], [0.7777777777777778, \"#fb9f3a\"], [0.8888888888888888, \"#fdca26\"], [1.0, \"#f0f921\"]], \"type\": \"contour\"}], \"contourcarpet\": [{\"colorbar\": {\"outlinewidth\": 0, \"ticks\": \"\"}, \"type\": \"contourcarpet\"}], \"heatmap\": [{\"colorbar\": {\"outlinewidth\": 0, \"ticks\": \"\"}, \"colorscale\": [[0.0, \"#0d0887\"], [0.1111111111111111, \"#46039f\"], [0.2222222222222222, \"#7201a8\"], [0.3333333333333333, \"#9c179e\"], [0.4444444444444444, \"#bd3786\"], [0.5555555555555556, \"#d8576b\"], [0.6666666666666666, \"#ed7953\"], [0.7777777777777778, \"#fb9f3a\"], [0.8888888888888888, \"#fdca26\"], [1.0, \"#f0f921\"]], \"type\": \"heatmap\"}], \"heatmapgl\": [{\"colorbar\": {\"outlinewidth\": 0, \"ticks\": \"\"}, \"colorscale\": [[0.0, \"#0d0887\"], [0.1111111111111111, \"#46039f\"], [0.2222222222222222, \"#7201a8\"], [0.3333333333333333, \"#9c179e\"], [0.4444444444444444, \"#bd3786\"], [0.5555555555555556, \"#d8576b\"], [0.6666666666666666, \"#ed7953\"], [0.7777777777777778, \"#fb9f3a\"], [0.8888888888888888, \"#fdca26\"], [1.0, \"#f0f921\"]], \"type\": \"heatmapgl\"}], \"histogram\": [{\"marker\": {\"colorbar\": {\"outlinewidth\": 0, \"ticks\": \"\"}}, \"type\": \"histogram\"}], \"histogram2d\": [{\"colorbar\": {\"outlinewidth\": 0, \"ticks\": \"\"}, \"colorscale\": [[0.0, \"#0d0887\"], [0.1111111111111111, \"#46039f\"], [0.2222222222222222, \"#7201a8\"], [0.3333333333333333, \"#9c179e\"], [0.4444444444444444, \"#bd3786\"], [0.5555555555555556, \"#d8576b\"], [0.6666666666666666, \"#ed7953\"], [0.7777777777777778, \"#fb9f3a\"], [0.8888888888888888, \"#fdca26\"], [1.0, \"#f0f921\"]], \"type\": \"histogram2d\"}], \"histogram2dcontour\": [{\"colorbar\": {\"outlinewidth\": 0, \"ticks\": \"\"}, \"colorscale\": [[0.0, \"#0d0887\"], [0.1111111111111111, \"#46039f\"], [0.2222222222222222, \"#7201a8\"], [0.3333333333333333, \"#9c179e\"], [0.4444444444444444, \"#bd3786\"], [0.5555555555555556, \"#d8576b\"], [0.6666666666666666, \"#ed7953\"], [0.7777777777777778, \"#fb9f3a\"], [0.8888888888888888, \"#fdca26\"], [1.0, \"#f0f921\"]], \"type\": \"histogram2dcontour\"}], \"mesh3d\": [{\"colorbar\": {\"outlinewidth\": 0, \"ticks\": \"\"}, \"type\": \"mesh3d\"}], \"parcoords\": [{\"line\": {\"colorbar\": {\"outlinewidth\": 0, \"ticks\": \"\"}}, \"type\": \"parcoords\"}], \"pie\": [{\"automargin\": true, \"type\": \"pie\"}], \"scatter\": [{\"marker\": {\"colorbar\": {\"outlinewidth\": 0, \"ticks\": \"\"}}, \"type\": \"scatter\"}], \"scatter3d\": [{\"line\": {\"colorbar\": {\"outlinewidth\": 0, \"ticks\": \"\"}}, \"marker\": {\"colorbar\": {\"outlinewidth\": 0, \"ticks\": \"\"}}, \"type\": \"scatter3d\"}], \"scattercarpet\": [{\"marker\": {\"colorbar\": {\"outlinewidth\": 0, \"ticks\": \"\"}}, \"type\": \"scattercarpet\"}], \"scattergeo\": [{\"marker\": {\"colorbar\": {\"outlinewidth\": 0, \"ticks\": \"\"}}, \"type\": \"scattergeo\"}], \"scattergl\": [{\"marker\": {\"colorbar\": {\"outlinewidth\": 0, \"ticks\": \"\"}}, \"type\": \"scattergl\"}], \"scattermapbox\": [{\"marker\": {\"colorbar\": {\"outlinewidth\": 0, \"ticks\": \"\"}}, \"type\": \"scattermapbox\"}], \"scatterpolar\": [{\"marker\": {\"colorbar\": {\"outlinewidth\": 0, \"ticks\": \"\"}}, \"type\": \"scatterpolar\"}], \"scatterpolargl\": [{\"marker\": {\"colorbar\": {\"outlinewidth\": 0, \"ticks\": \"\"}}, \"type\": \"scatterpolargl\"}], \"scatterternary\": [{\"marker\": {\"colorbar\": {\"outlinewidth\": 0, \"ticks\": \"\"}}, \"type\": \"scatterternary\"}], \"surface\": [{\"colorbar\": {\"outlinewidth\": 0, \"ticks\": \"\"}, \"colorscale\": [[0.0, \"#0d0887\"], [0.1111111111111111, \"#46039f\"], [0.2222222222222222, \"#7201a8\"], [0.3333333333333333, \"#9c179e\"], [0.4444444444444444, \"#bd3786\"], [0.5555555555555556, \"#d8576b\"], [0.6666666666666666, \"#ed7953\"], [0.7777777777777778, \"#fb9f3a\"], [0.8888888888888888, \"#fdca26\"], [1.0, \"#f0f921\"]], \"type\": \"surface\"}], \"table\": [{\"cells\": {\"fill\": {\"color\": \"#EBF0F8\"}, \"line\": {\"color\": \"white\"}}, \"header\": {\"fill\": {\"color\": \"#C8D4E3\"}, \"line\": {\"color\": \"white\"}}, \"type\": \"table\"}]}, \"layout\": {\"annotationdefaults\": {\"arrowcolor\": \"#2a3f5f\", \"arrowhead\": 0, \"arrowwidth\": 1}, \"coloraxis\": {\"colorbar\": {\"outlinewidth\": 0, \"ticks\": \"\"}}, \"colorscale\": {\"diverging\": [[0, \"#8e0152\"], [0.1, \"#c51b7d\"], [0.2, \"#de77ae\"], [0.3, \"#f1b6da\"], [0.4, \"#fde0ef\"], [0.5, \"#f7f7f7\"], [0.6, \"#e6f5d0\"], [0.7, \"#b8e186\"], [0.8, \"#7fbc41\"], [0.9, \"#4d9221\"], [1, \"#276419\"]], \"sequential\": [[0.0, \"#0d0887\"], [0.1111111111111111, \"#46039f\"], [0.2222222222222222, \"#7201a8\"], [0.3333333333333333, \"#9c179e\"], [0.4444444444444444, \"#bd3786\"], [0.5555555555555556, \"#d8576b\"], [0.6666666666666666, \"#ed7953\"], [0.7777777777777778, \"#fb9f3a\"], [0.8888888888888888, \"#fdca26\"], [1.0, \"#f0f921\"]], \"sequentialminus\": [[0.0, \"#0d0887\"], [0.1111111111111111, \"#46039f\"], [0.2222222222222222, \"#7201a8\"], [0.3333333333333333, \"#9c179e\"], [0.4444444444444444, \"#bd3786\"], [0.5555555555555556, \"#d8576b\"], [0.6666666666666666, \"#ed7953\"], [0.7777777777777778, \"#fb9f3a\"], [0.8888888888888888, \"#fdca26\"], [1.0, \"#f0f921\"]]}, \"colorway\": [\"#636efa\", \"#EF553B\", \"#00cc96\", \"#ab63fa\", \"#FFA15A\", \"#19d3f3\", \"#FF6692\", \"#B6E880\", \"#FF97FF\", \"#FECB52\"], \"font\": {\"color\": \"#2a3f5f\"}, \"geo\": {\"bgcolor\": \"white\", \"lakecolor\": \"white\", \"landcolor\": \"#E5ECF6\", \"showlakes\": true, \"showland\": true, \"subunitcolor\": \"white\"}, \"hoverlabel\": {\"align\": \"left\"}, \"hovermode\": \"closest\", \"mapbox\": {\"style\": \"light\"}, \"paper_bgcolor\": \"white\", \"plot_bgcolor\": \"#E5ECF6\", \"polar\": {\"angularaxis\": {\"gridcolor\": \"white\", \"linecolor\": \"white\", \"ticks\": \"\"}, \"bgcolor\": \"#E5ECF6\", \"radialaxis\": {\"gridcolor\": \"white\", \"linecolor\": \"white\", \"ticks\": \"\"}}, \"scene\": {\"xaxis\": {\"backgroundcolor\": \"#E5ECF6\", \"gridcolor\": \"white\", \"gridwidth\": 2, \"linecolor\": \"white\", \"showbackground\": true, \"ticks\": \"\", \"zerolinecolor\": \"white\"}, \"yaxis\": {\"backgroundcolor\": \"#E5ECF6\", \"gridcolor\": \"white\", \"gridwidth\": 2, \"linecolor\": \"white\", \"showbackground\": true, \"ticks\": \"\", \"zerolinecolor\": \"white\"}, \"zaxis\": {\"backgroundcolor\": \"#E5ECF6\", \"gridcolor\": \"white\", \"gridwidth\": 2, \"linecolor\": \"white\", \"showbackground\": true, \"ticks\": \"\", \"zerolinecolor\": \"white\"}}, \"shapedefaults\": {\"line\": {\"color\": \"#2a3f5f\"}}, \"ternary\": {\"aaxis\": {\"gridcolor\": \"white\", \"linecolor\": \"white\", \"ticks\": \"\"}, \"baxis\": {\"gridcolor\": \"white\", \"linecolor\": \"white\", \"ticks\": \"\"}, \"bgcolor\": \"#E5ECF6\", \"caxis\": {\"gridcolor\": \"white\", \"linecolor\": \"white\", \"ticks\": \"\"}}, \"title\": {\"x\": 0.05}, \"xaxis\": {\"automargin\": true, \"gridcolor\": \"white\", \"linecolor\": \"white\", \"ticks\": \"\", \"title\": {\"standoff\": 15}, \"zerolinecolor\": \"white\", \"zerolinewidth\": 2}, \"yaxis\": {\"automargin\": true, \"gridcolor\": \"white\", \"linecolor\": \"white\", \"ticks\": \"\", \"title\": {\"standoff\": 15}, \"zerolinecolor\": \"white\", \"zerolinewidth\": 2}}}, \"xaxis\": {\"dtick\": 1, \"gridwidth\": 2, \"showticklabels\": false, \"tick0\": -0.5, \"ticks\": \"\", \"zeroline\": false}, \"yaxis\": {\"autorange\": \"reversed\", \"dtick\": 1, \"gridwidth\": 2, \"showticklabels\": false, \"tick0\": 0.5, \"ticks\": \"\", \"zeroline\": false}},\n",
       "                        {\"responsive\": true}\n",
       "                    ).then(function(){\n",
       "                            \n",
       "var gd = document.getElementById('a9662178-026b-4b74-8537-db33ac91cc2a');\n",
       "var x = new MutationObserver(function (mutations, observer) {{\n",
       "        var display = window.getComputedStyle(gd).display;\n",
       "        if (!display || display === 'none') {{\n",
       "            console.log([gd, 'removed!']);\n",
       "            Plotly.purge(gd);\n",
       "            observer.disconnect();\n",
       "        }}\n",
       "}});\n",
       "\n",
       "// Listen for the removal of the full notebook cells\n",
       "var notebookContainer = gd.closest('#notebook-container');\n",
       "if (notebookContainer) {{\n",
       "    x.observe(notebookContainer, {childList: true});\n",
       "}}\n",
       "\n",
       "// Listen for the clearing of the current output cell\n",
       "var outputEl = gd.closest('.output');\n",
       "if (outputEl) {{\n",
       "    x.observe(outputEl, {childList: true});\n",
       "}}\n",
       "\n",
       "                        })\n",
       "                };\n",
       "                });\n",
       "            </script>\n",
       "        </div>"
      ]
     },
     "metadata": {},
     "output_type": "display_data"
    }
   ],
   "source": [
    "iplot(table,filename=\"jupyter-table1\")"
   ]
  },
  {
   "cell_type": "code",
   "execution_count": 16,
   "metadata": {},
   "outputs": [
    {
     "data": {
      "application/vnd.plotly.v1+json": {
       "config": {
        "linkText": "Export to plot.ly",
        "plotlyServerURL": "https://plot.ly",
        "showLink": false
       },
       "data": [
        {
         "type": "bar",
         "x": [
          "MIT",
          "Stanford",
          "Harvard",
          "U.Penn",
          "Princeton",
          "Chicago",
          "Georgetown",
          "Tufts",
          "Yale",
          "Columbia",
          "Duke",
          "Dartmouth",
          "NYU",
          "Notre Dame",
          "Cornell",
          "Michigan",
          "Brown",
          "Berkeley",
          "Emory",
          "UCLA",
          "SoCal"
         ],
         "y": [
          58,
          55,
          53,
          49,
          47,
          40,
          37,
          36,
          35,
          33,
          31,
          30,
          27,
          27,
          27,
          22,
          20,
          17,
          14,
          14,
          9
         ]
        }
       ],
       "layout": {
        "template": {
         "data": {
          "bar": [
           {
            "error_x": {
             "color": "#2a3f5f"
            },
            "error_y": {
             "color": "#2a3f5f"
            },
            "marker": {
             "line": {
              "color": "#E5ECF6",
              "width": 0.5
             }
            },
            "type": "bar"
           }
          ],
          "barpolar": [
           {
            "marker": {
             "line": {
              "color": "#E5ECF6",
              "width": 0.5
             }
            },
            "type": "barpolar"
           }
          ],
          "carpet": [
           {
            "aaxis": {
             "endlinecolor": "#2a3f5f",
             "gridcolor": "white",
             "linecolor": "white",
             "minorgridcolor": "white",
             "startlinecolor": "#2a3f5f"
            },
            "baxis": {
             "endlinecolor": "#2a3f5f",
             "gridcolor": "white",
             "linecolor": "white",
             "minorgridcolor": "white",
             "startlinecolor": "#2a3f5f"
            },
            "type": "carpet"
           }
          ],
          "choropleth": [
           {
            "colorbar": {
             "outlinewidth": 0,
             "ticks": ""
            },
            "type": "choropleth"
           }
          ],
          "contour": [
           {
            "colorbar": {
             "outlinewidth": 0,
             "ticks": ""
            },
            "colorscale": [
             [
              0,
              "#0d0887"
             ],
             [
              0.1111111111111111,
              "#46039f"
             ],
             [
              0.2222222222222222,
              "#7201a8"
             ],
             [
              0.3333333333333333,
              "#9c179e"
             ],
             [
              0.4444444444444444,
              "#bd3786"
             ],
             [
              0.5555555555555556,
              "#d8576b"
             ],
             [
              0.6666666666666666,
              "#ed7953"
             ],
             [
              0.7777777777777778,
              "#fb9f3a"
             ],
             [
              0.8888888888888888,
              "#fdca26"
             ],
             [
              1,
              "#f0f921"
             ]
            ],
            "type": "contour"
           }
          ],
          "contourcarpet": [
           {
            "colorbar": {
             "outlinewidth": 0,
             "ticks": ""
            },
            "type": "contourcarpet"
           }
          ],
          "heatmap": [
           {
            "colorbar": {
             "outlinewidth": 0,
             "ticks": ""
            },
            "colorscale": [
             [
              0,
              "#0d0887"
             ],
             [
              0.1111111111111111,
              "#46039f"
             ],
             [
              0.2222222222222222,
              "#7201a8"
             ],
             [
              0.3333333333333333,
              "#9c179e"
             ],
             [
              0.4444444444444444,
              "#bd3786"
             ],
             [
              0.5555555555555556,
              "#d8576b"
             ],
             [
              0.6666666666666666,
              "#ed7953"
             ],
             [
              0.7777777777777778,
              "#fb9f3a"
             ],
             [
              0.8888888888888888,
              "#fdca26"
             ],
             [
              1,
              "#f0f921"
             ]
            ],
            "type": "heatmap"
           }
          ],
          "heatmapgl": [
           {
            "colorbar": {
             "outlinewidth": 0,
             "ticks": ""
            },
            "colorscale": [
             [
              0,
              "#0d0887"
             ],
             [
              0.1111111111111111,
              "#46039f"
             ],
             [
              0.2222222222222222,
              "#7201a8"
             ],
             [
              0.3333333333333333,
              "#9c179e"
             ],
             [
              0.4444444444444444,
              "#bd3786"
             ],
             [
              0.5555555555555556,
              "#d8576b"
             ],
             [
              0.6666666666666666,
              "#ed7953"
             ],
             [
              0.7777777777777778,
              "#fb9f3a"
             ],
             [
              0.8888888888888888,
              "#fdca26"
             ],
             [
              1,
              "#f0f921"
             ]
            ],
            "type": "heatmapgl"
           }
          ],
          "histogram": [
           {
            "marker": {
             "colorbar": {
              "outlinewidth": 0,
              "ticks": ""
             }
            },
            "type": "histogram"
           }
          ],
          "histogram2d": [
           {
            "colorbar": {
             "outlinewidth": 0,
             "ticks": ""
            },
            "colorscale": [
             [
              0,
              "#0d0887"
             ],
             [
              0.1111111111111111,
              "#46039f"
             ],
             [
              0.2222222222222222,
              "#7201a8"
             ],
             [
              0.3333333333333333,
              "#9c179e"
             ],
             [
              0.4444444444444444,
              "#bd3786"
             ],
             [
              0.5555555555555556,
              "#d8576b"
             ],
             [
              0.6666666666666666,
              "#ed7953"
             ],
             [
              0.7777777777777778,
              "#fb9f3a"
             ],
             [
              0.8888888888888888,
              "#fdca26"
             ],
             [
              1,
              "#f0f921"
             ]
            ],
            "type": "histogram2d"
           }
          ],
          "histogram2dcontour": [
           {
            "colorbar": {
             "outlinewidth": 0,
             "ticks": ""
            },
            "colorscale": [
             [
              0,
              "#0d0887"
             ],
             [
              0.1111111111111111,
              "#46039f"
             ],
             [
              0.2222222222222222,
              "#7201a8"
             ],
             [
              0.3333333333333333,
              "#9c179e"
             ],
             [
              0.4444444444444444,
              "#bd3786"
             ],
             [
              0.5555555555555556,
              "#d8576b"
             ],
             [
              0.6666666666666666,
              "#ed7953"
             ],
             [
              0.7777777777777778,
              "#fb9f3a"
             ],
             [
              0.8888888888888888,
              "#fdca26"
             ],
             [
              1,
              "#f0f921"
             ]
            ],
            "type": "histogram2dcontour"
           }
          ],
          "mesh3d": [
           {
            "colorbar": {
             "outlinewidth": 0,
             "ticks": ""
            },
            "type": "mesh3d"
           }
          ],
          "parcoords": [
           {
            "line": {
             "colorbar": {
              "outlinewidth": 0,
              "ticks": ""
             }
            },
            "type": "parcoords"
           }
          ],
          "pie": [
           {
            "automargin": true,
            "type": "pie"
           }
          ],
          "scatter": [
           {
            "marker": {
             "colorbar": {
              "outlinewidth": 0,
              "ticks": ""
             }
            },
            "type": "scatter"
           }
          ],
          "scatter3d": [
           {
            "line": {
             "colorbar": {
              "outlinewidth": 0,
              "ticks": ""
             }
            },
            "marker": {
             "colorbar": {
              "outlinewidth": 0,
              "ticks": ""
             }
            },
            "type": "scatter3d"
           }
          ],
          "scattercarpet": [
           {
            "marker": {
             "colorbar": {
              "outlinewidth": 0,
              "ticks": ""
             }
            },
            "type": "scattercarpet"
           }
          ],
          "scattergeo": [
           {
            "marker": {
             "colorbar": {
              "outlinewidth": 0,
              "ticks": ""
             }
            },
            "type": "scattergeo"
           }
          ],
          "scattergl": [
           {
            "marker": {
             "colorbar": {
              "outlinewidth": 0,
              "ticks": ""
             }
            },
            "type": "scattergl"
           }
          ],
          "scattermapbox": [
           {
            "marker": {
             "colorbar": {
              "outlinewidth": 0,
              "ticks": ""
             }
            },
            "type": "scattermapbox"
           }
          ],
          "scatterpolar": [
           {
            "marker": {
             "colorbar": {
              "outlinewidth": 0,
              "ticks": ""
             }
            },
            "type": "scatterpolar"
           }
          ],
          "scatterpolargl": [
           {
            "marker": {
             "colorbar": {
              "outlinewidth": 0,
              "ticks": ""
             }
            },
            "type": "scatterpolargl"
           }
          ],
          "scatterternary": [
           {
            "marker": {
             "colorbar": {
              "outlinewidth": 0,
              "ticks": ""
             }
            },
            "type": "scatterternary"
           }
          ],
          "surface": [
           {
            "colorbar": {
             "outlinewidth": 0,
             "ticks": ""
            },
            "colorscale": [
             [
              0,
              "#0d0887"
             ],
             [
              0.1111111111111111,
              "#46039f"
             ],
             [
              0.2222222222222222,
              "#7201a8"
             ],
             [
              0.3333333333333333,
              "#9c179e"
             ],
             [
              0.4444444444444444,
              "#bd3786"
             ],
             [
              0.5555555555555556,
              "#d8576b"
             ],
             [
              0.6666666666666666,
              "#ed7953"
             ],
             [
              0.7777777777777778,
              "#fb9f3a"
             ],
             [
              0.8888888888888888,
              "#fdca26"
             ],
             [
              1,
              "#f0f921"
             ]
            ],
            "type": "surface"
           }
          ],
          "table": [
           {
            "cells": {
             "fill": {
              "color": "#EBF0F8"
             },
             "line": {
              "color": "white"
             }
            },
            "header": {
             "fill": {
              "color": "#C8D4E3"
             },
             "line": {
              "color": "white"
             }
            },
            "type": "table"
           }
          ]
         },
         "layout": {
          "annotationdefaults": {
           "arrowcolor": "#2a3f5f",
           "arrowhead": 0,
           "arrowwidth": 1
          },
          "coloraxis": {
           "colorbar": {
            "outlinewidth": 0,
            "ticks": ""
           }
          },
          "colorscale": {
           "diverging": [
            [
             0,
             "#8e0152"
            ],
            [
             0.1,
             "#c51b7d"
            ],
            [
             0.2,
             "#de77ae"
            ],
            [
             0.3,
             "#f1b6da"
            ],
            [
             0.4,
             "#fde0ef"
            ],
            [
             0.5,
             "#f7f7f7"
            ],
            [
             0.6,
             "#e6f5d0"
            ],
            [
             0.7,
             "#b8e186"
            ],
            [
             0.8,
             "#7fbc41"
            ],
            [
             0.9,
             "#4d9221"
            ],
            [
             1,
             "#276419"
            ]
           ],
           "sequential": [
            [
             0,
             "#0d0887"
            ],
            [
             0.1111111111111111,
             "#46039f"
            ],
            [
             0.2222222222222222,
             "#7201a8"
            ],
            [
             0.3333333333333333,
             "#9c179e"
            ],
            [
             0.4444444444444444,
             "#bd3786"
            ],
            [
             0.5555555555555556,
             "#d8576b"
            ],
            [
             0.6666666666666666,
             "#ed7953"
            ],
            [
             0.7777777777777778,
             "#fb9f3a"
            ],
            [
             0.8888888888888888,
             "#fdca26"
            ],
            [
             1,
             "#f0f921"
            ]
           ],
           "sequentialminus": [
            [
             0,
             "#0d0887"
            ],
            [
             0.1111111111111111,
             "#46039f"
            ],
            [
             0.2222222222222222,
             "#7201a8"
            ],
            [
             0.3333333333333333,
             "#9c179e"
            ],
            [
             0.4444444444444444,
             "#bd3786"
            ],
            [
             0.5555555555555556,
             "#d8576b"
            ],
            [
             0.6666666666666666,
             "#ed7953"
            ],
            [
             0.7777777777777778,
             "#fb9f3a"
            ],
            [
             0.8888888888888888,
             "#fdca26"
            ],
            [
             1,
             "#f0f921"
            ]
           ]
          },
          "colorway": [
           "#636efa",
           "#EF553B",
           "#00cc96",
           "#ab63fa",
           "#FFA15A",
           "#19d3f3",
           "#FF6692",
           "#B6E880",
           "#FF97FF",
           "#FECB52"
          ],
          "font": {
           "color": "#2a3f5f"
          },
          "geo": {
           "bgcolor": "white",
           "lakecolor": "white",
           "landcolor": "#E5ECF6",
           "showlakes": true,
           "showland": true,
           "subunitcolor": "white"
          },
          "hoverlabel": {
           "align": "left"
          },
          "hovermode": "closest",
          "mapbox": {
           "style": "light"
          },
          "paper_bgcolor": "white",
          "plot_bgcolor": "#E5ECF6",
          "polar": {
           "angularaxis": {
            "gridcolor": "white",
            "linecolor": "white",
            "ticks": ""
           },
           "bgcolor": "#E5ECF6",
           "radialaxis": {
            "gridcolor": "white",
            "linecolor": "white",
            "ticks": ""
           }
          },
          "scene": {
           "xaxis": {
            "backgroundcolor": "#E5ECF6",
            "gridcolor": "white",
            "gridwidth": 2,
            "linecolor": "white",
            "showbackground": true,
            "ticks": "",
            "zerolinecolor": "white"
           },
           "yaxis": {
            "backgroundcolor": "#E5ECF6",
            "gridcolor": "white",
            "gridwidth": 2,
            "linecolor": "white",
            "showbackground": true,
            "ticks": "",
            "zerolinecolor": "white"
           },
           "zaxis": {
            "backgroundcolor": "#E5ECF6",
            "gridcolor": "white",
            "gridwidth": 2,
            "linecolor": "white",
            "showbackground": true,
            "ticks": "",
            "zerolinecolor": "white"
           }
          },
          "shapedefaults": {
           "line": {
            "color": "#2a3f5f"
           }
          },
          "ternary": {
           "aaxis": {
            "gridcolor": "white",
            "linecolor": "white",
            "ticks": ""
           },
           "baxis": {
            "gridcolor": "white",
            "linecolor": "white",
            "ticks": ""
           },
           "bgcolor": "#E5ECF6",
           "caxis": {
            "gridcolor": "white",
            "linecolor": "white",
            "ticks": ""
           }
          },
          "title": {
           "x": 0.05
          },
          "xaxis": {
           "automargin": true,
           "gridcolor": "white",
           "linecolor": "white",
           "ticks": "",
           "title": {
            "standoff": 15
           },
           "zerolinecolor": "white",
           "zerolinewidth": 2
          },
          "yaxis": {
           "automargin": true,
           "gridcolor": "white",
           "linecolor": "white",
           "ticks": "",
           "title": {
            "standoff": 15
           },
           "zerolinecolor": "white",
           "zerolinewidth": 2
          }
         }
        }
       }
      },
      "text/html": [
       "<div>\n",
       "        \n",
       "        \n",
       "            <div id=\"e3086a5c-cb16-4683-9617-f04e3f543467\" class=\"plotly-graph-div\" style=\"height:525px; width:100%;\"></div>\n",
       "            <script type=\"text/javascript\">\n",
       "                require([\"plotly\"], function(Plotly) {\n",
       "                    window.PLOTLYENV=window.PLOTLYENV || {};\n",
       "                    \n",
       "                if (document.getElementById(\"e3086a5c-cb16-4683-9617-f04e3f543467\")) {\n",
       "                    Plotly.newPlot(\n",
       "                        'e3086a5c-cb16-4683-9617-f04e3f543467',\n",
       "                        [{\"type\": \"bar\", \"x\": [\"MIT\", \"Stanford\", \"Harvard\", \"U.Penn\", \"Princeton\", \"Chicago\", \"Georgetown\", \"Tufts\", \"Yale\", \"Columbia\", \"Duke\", \"Dartmouth\", \"NYU\", \"Notre Dame\", \"Cornell\", \"Michigan\", \"Brown\", \"Berkeley\", \"Emory\", \"UCLA\", \"SoCal\"], \"y\": [58, 55, 53, 49, 47, 40, 37, 36, 35, 33, 31, 30, 27, 27, 27, 22, 20, 17, 14, 14, 9]}],\n",
       "                        {\"template\": {\"data\": {\"bar\": [{\"error_x\": {\"color\": \"#2a3f5f\"}, \"error_y\": {\"color\": \"#2a3f5f\"}, \"marker\": {\"line\": {\"color\": \"#E5ECF6\", \"width\": 0.5}}, \"type\": \"bar\"}], \"barpolar\": [{\"marker\": {\"line\": {\"color\": \"#E5ECF6\", \"width\": 0.5}}, \"type\": \"barpolar\"}], \"carpet\": [{\"aaxis\": {\"endlinecolor\": \"#2a3f5f\", \"gridcolor\": \"white\", \"linecolor\": \"white\", \"minorgridcolor\": \"white\", \"startlinecolor\": \"#2a3f5f\"}, \"baxis\": {\"endlinecolor\": \"#2a3f5f\", \"gridcolor\": \"white\", \"linecolor\": \"white\", \"minorgridcolor\": \"white\", \"startlinecolor\": \"#2a3f5f\"}, \"type\": \"carpet\"}], \"choropleth\": [{\"colorbar\": {\"outlinewidth\": 0, \"ticks\": \"\"}, \"type\": \"choropleth\"}], \"contour\": [{\"colorbar\": {\"outlinewidth\": 0, \"ticks\": \"\"}, \"colorscale\": [[0.0, \"#0d0887\"], [0.1111111111111111, \"#46039f\"], [0.2222222222222222, \"#7201a8\"], [0.3333333333333333, \"#9c179e\"], [0.4444444444444444, \"#bd3786\"], [0.5555555555555556, \"#d8576b\"], [0.6666666666666666, \"#ed7953\"], [0.7777777777777778, \"#fb9f3a\"], [0.8888888888888888, \"#fdca26\"], [1.0, \"#f0f921\"]], \"type\": \"contour\"}], \"contourcarpet\": [{\"colorbar\": {\"outlinewidth\": 0, \"ticks\": \"\"}, \"type\": \"contourcarpet\"}], \"heatmap\": [{\"colorbar\": {\"outlinewidth\": 0, \"ticks\": \"\"}, \"colorscale\": [[0.0, \"#0d0887\"], [0.1111111111111111, \"#46039f\"], [0.2222222222222222, \"#7201a8\"], [0.3333333333333333, \"#9c179e\"], [0.4444444444444444, \"#bd3786\"], [0.5555555555555556, \"#d8576b\"], [0.6666666666666666, \"#ed7953\"], [0.7777777777777778, \"#fb9f3a\"], [0.8888888888888888, \"#fdca26\"], [1.0, \"#f0f921\"]], \"type\": \"heatmap\"}], \"heatmapgl\": [{\"colorbar\": {\"outlinewidth\": 0, \"ticks\": \"\"}, \"colorscale\": [[0.0, \"#0d0887\"], [0.1111111111111111, \"#46039f\"], [0.2222222222222222, \"#7201a8\"], [0.3333333333333333, \"#9c179e\"], [0.4444444444444444, \"#bd3786\"], [0.5555555555555556, \"#d8576b\"], [0.6666666666666666, \"#ed7953\"], [0.7777777777777778, \"#fb9f3a\"], [0.8888888888888888, \"#fdca26\"], [1.0, \"#f0f921\"]], \"type\": \"heatmapgl\"}], \"histogram\": [{\"marker\": {\"colorbar\": {\"outlinewidth\": 0, \"ticks\": \"\"}}, \"type\": \"histogram\"}], \"histogram2d\": [{\"colorbar\": {\"outlinewidth\": 0, \"ticks\": \"\"}, \"colorscale\": [[0.0, \"#0d0887\"], [0.1111111111111111, \"#46039f\"], [0.2222222222222222, \"#7201a8\"], [0.3333333333333333, \"#9c179e\"], [0.4444444444444444, \"#bd3786\"], [0.5555555555555556, \"#d8576b\"], [0.6666666666666666, \"#ed7953\"], [0.7777777777777778, \"#fb9f3a\"], [0.8888888888888888, \"#fdca26\"], [1.0, \"#f0f921\"]], \"type\": \"histogram2d\"}], \"histogram2dcontour\": [{\"colorbar\": {\"outlinewidth\": 0, \"ticks\": \"\"}, \"colorscale\": [[0.0, \"#0d0887\"], [0.1111111111111111, \"#46039f\"], [0.2222222222222222, \"#7201a8\"], [0.3333333333333333, \"#9c179e\"], [0.4444444444444444, \"#bd3786\"], [0.5555555555555556, \"#d8576b\"], [0.6666666666666666, \"#ed7953\"], [0.7777777777777778, \"#fb9f3a\"], [0.8888888888888888, \"#fdca26\"], [1.0, \"#f0f921\"]], \"type\": \"histogram2dcontour\"}], \"mesh3d\": [{\"colorbar\": {\"outlinewidth\": 0, \"ticks\": \"\"}, \"type\": \"mesh3d\"}], \"parcoords\": [{\"line\": {\"colorbar\": {\"outlinewidth\": 0, \"ticks\": \"\"}}, \"type\": \"parcoords\"}], \"pie\": [{\"automargin\": true, \"type\": \"pie\"}], \"scatter\": [{\"marker\": {\"colorbar\": {\"outlinewidth\": 0, \"ticks\": \"\"}}, \"type\": \"scatter\"}], \"scatter3d\": [{\"line\": {\"colorbar\": {\"outlinewidth\": 0, \"ticks\": \"\"}}, \"marker\": {\"colorbar\": {\"outlinewidth\": 0, \"ticks\": \"\"}}, \"type\": \"scatter3d\"}], \"scattercarpet\": [{\"marker\": {\"colorbar\": {\"outlinewidth\": 0, \"ticks\": \"\"}}, \"type\": \"scattercarpet\"}], \"scattergeo\": [{\"marker\": {\"colorbar\": {\"outlinewidth\": 0, \"ticks\": \"\"}}, \"type\": \"scattergeo\"}], \"scattergl\": [{\"marker\": {\"colorbar\": {\"outlinewidth\": 0, \"ticks\": \"\"}}, \"type\": \"scattergl\"}], \"scattermapbox\": [{\"marker\": {\"colorbar\": {\"outlinewidth\": 0, \"ticks\": \"\"}}, \"type\": \"scattermapbox\"}], \"scatterpolar\": [{\"marker\": {\"colorbar\": {\"outlinewidth\": 0, \"ticks\": \"\"}}, \"type\": \"scatterpolar\"}], \"scatterpolargl\": [{\"marker\": {\"colorbar\": {\"outlinewidth\": 0, \"ticks\": \"\"}}, \"type\": \"scatterpolargl\"}], \"scatterternary\": [{\"marker\": {\"colorbar\": {\"outlinewidth\": 0, \"ticks\": \"\"}}, \"type\": \"scatterternary\"}], \"surface\": [{\"colorbar\": {\"outlinewidth\": 0, \"ticks\": \"\"}, \"colorscale\": [[0.0, \"#0d0887\"], [0.1111111111111111, \"#46039f\"], [0.2222222222222222, \"#7201a8\"], [0.3333333333333333, \"#9c179e\"], [0.4444444444444444, \"#bd3786\"], [0.5555555555555556, \"#d8576b\"], [0.6666666666666666, \"#ed7953\"], [0.7777777777777778, \"#fb9f3a\"], [0.8888888888888888, \"#fdca26\"], [1.0, \"#f0f921\"]], \"type\": \"surface\"}], \"table\": [{\"cells\": {\"fill\": {\"color\": \"#EBF0F8\"}, \"line\": {\"color\": \"white\"}}, \"header\": {\"fill\": {\"color\": \"#C8D4E3\"}, \"line\": {\"color\": \"white\"}}, \"type\": \"table\"}]}, \"layout\": {\"annotationdefaults\": {\"arrowcolor\": \"#2a3f5f\", \"arrowhead\": 0, \"arrowwidth\": 1}, \"coloraxis\": {\"colorbar\": {\"outlinewidth\": 0, \"ticks\": \"\"}}, \"colorscale\": {\"diverging\": [[0, \"#8e0152\"], [0.1, \"#c51b7d\"], [0.2, \"#de77ae\"], [0.3, \"#f1b6da\"], [0.4, \"#fde0ef\"], [0.5, \"#f7f7f7\"], [0.6, \"#e6f5d0\"], [0.7, \"#b8e186\"], [0.8, \"#7fbc41\"], [0.9, \"#4d9221\"], [1, \"#276419\"]], \"sequential\": [[0.0, \"#0d0887\"], [0.1111111111111111, \"#46039f\"], [0.2222222222222222, \"#7201a8\"], [0.3333333333333333, \"#9c179e\"], [0.4444444444444444, \"#bd3786\"], [0.5555555555555556, \"#d8576b\"], [0.6666666666666666, \"#ed7953\"], [0.7777777777777778, \"#fb9f3a\"], [0.8888888888888888, \"#fdca26\"], [1.0, \"#f0f921\"]], \"sequentialminus\": [[0.0, \"#0d0887\"], [0.1111111111111111, \"#46039f\"], [0.2222222222222222, \"#7201a8\"], [0.3333333333333333, \"#9c179e\"], [0.4444444444444444, \"#bd3786\"], [0.5555555555555556, \"#d8576b\"], [0.6666666666666666, \"#ed7953\"], [0.7777777777777778, \"#fb9f3a\"], [0.8888888888888888, \"#fdca26\"], [1.0, \"#f0f921\"]]}, \"colorway\": [\"#636efa\", \"#EF553B\", \"#00cc96\", \"#ab63fa\", \"#FFA15A\", \"#19d3f3\", \"#FF6692\", \"#B6E880\", \"#FF97FF\", \"#FECB52\"], \"font\": {\"color\": \"#2a3f5f\"}, \"geo\": {\"bgcolor\": \"white\", \"lakecolor\": \"white\", \"landcolor\": \"#E5ECF6\", \"showlakes\": true, \"showland\": true, \"subunitcolor\": \"white\"}, \"hoverlabel\": {\"align\": \"left\"}, \"hovermode\": \"closest\", \"mapbox\": {\"style\": \"light\"}, \"paper_bgcolor\": \"white\", \"plot_bgcolor\": \"#E5ECF6\", \"polar\": {\"angularaxis\": {\"gridcolor\": \"white\", \"linecolor\": \"white\", \"ticks\": \"\"}, \"bgcolor\": \"#E5ECF6\", \"radialaxis\": {\"gridcolor\": \"white\", \"linecolor\": \"white\", \"ticks\": \"\"}}, \"scene\": {\"xaxis\": {\"backgroundcolor\": \"#E5ECF6\", \"gridcolor\": \"white\", \"gridwidth\": 2, \"linecolor\": \"white\", \"showbackground\": true, \"ticks\": \"\", \"zerolinecolor\": \"white\"}, \"yaxis\": {\"backgroundcolor\": \"#E5ECF6\", \"gridcolor\": \"white\", \"gridwidth\": 2, \"linecolor\": \"white\", \"showbackground\": true, \"ticks\": \"\", \"zerolinecolor\": \"white\"}, \"zaxis\": {\"backgroundcolor\": \"#E5ECF6\", \"gridcolor\": \"white\", \"gridwidth\": 2, \"linecolor\": \"white\", \"showbackground\": true, \"ticks\": \"\", \"zerolinecolor\": \"white\"}}, \"shapedefaults\": {\"line\": {\"color\": \"#2a3f5f\"}}, \"ternary\": {\"aaxis\": {\"gridcolor\": \"white\", \"linecolor\": \"white\", \"ticks\": \"\"}, \"baxis\": {\"gridcolor\": \"white\", \"linecolor\": \"white\", \"ticks\": \"\"}, \"bgcolor\": \"#E5ECF6\", \"caxis\": {\"gridcolor\": \"white\", \"linecolor\": \"white\", \"ticks\": \"\"}}, \"title\": {\"x\": 0.05}, \"xaxis\": {\"automargin\": true, \"gridcolor\": \"white\", \"linecolor\": \"white\", \"ticks\": \"\", \"title\": {\"standoff\": 15}, \"zerolinecolor\": \"white\", \"zerolinewidth\": 2}, \"yaxis\": {\"automargin\": true, \"gridcolor\": \"white\", \"linecolor\": \"white\", \"ticks\": \"\", \"title\": {\"standoff\": 15}, \"zerolinecolor\": \"white\", \"zerolinewidth\": 2}}}},\n",
       "                        {\"responsive\": true}\n",
       "                    ).then(function(){\n",
       "                            \n",
       "var gd = document.getElementById('e3086a5c-cb16-4683-9617-f04e3f543467');\n",
       "var x = new MutationObserver(function (mutations, observer) {{\n",
       "        var display = window.getComputedStyle(gd).display;\n",
       "        if (!display || display === 'none') {{\n",
       "            console.log([gd, 'removed!']);\n",
       "            Plotly.purge(gd);\n",
       "            observer.disconnect();\n",
       "        }}\n",
       "}});\n",
       "\n",
       "// Listen for the removal of the full notebook cells\n",
       "var notebookContainer = gd.closest('#notebook-container');\n",
       "if (notebookContainer) {{\n",
       "    x.observe(notebookContainer, {childList: true});\n",
       "}}\n",
       "\n",
       "// Listen for the clearing of the current output cell\n",
       "var outputEl = gd.closest('.output');\n",
       "if (outputEl) {{\n",
       "    x.observe(outputEl, {childList: true});\n",
       "}}\n",
       "\n",
       "                        })\n",
       "                };\n",
       "                });\n",
       "            </script>\n",
       "        </div>"
      ]
     },
     "metadata": {},
     "output_type": "display_data"
    }
   ],
   "source": [
    "import plotly.graph_objects as go\n",
    "\n",
    "schools = df.School\n",
    "data=[go.Bar(x=df.School,y=df.Gap)]\n",
    "iplot(data, filename ='jupyter-basic_bar')"
   ]
  },
  {
   "cell_type": "code",
   "execution_count": 17,
   "metadata": {},
   "outputs": [],
   "source": [
    "from sklearn.datasets import load_iris\n",
    "from sklearn.decomposition import PCA\n",
    "iris = load_iris()"
   ]
  },
  {
   "cell_type": "code",
   "execution_count": 18,
   "metadata": {},
   "outputs": [],
   "source": [
    "X= iris.data\n",
    "y_label=iris.target\n",
    "pca=PCA(n_components=3)\n",
    "X_pca=pca.fit_transform(X)"
   ]
  },
  {
   "cell_type": "code",
   "execution_count": 19,
   "metadata": {},
   "outputs": [
    {
     "data": {
      "text/plain": [
       "array([[5.1, 3.5, 1.4, 0.2],\n",
       "       [4.9, 3. , 1.4, 0.2],\n",
       "       [4.7, 3.2, 1.3, 0.2],\n",
       "       [4.6, 3.1, 1.5, 0.2],\n",
       "       [5. , 3.6, 1.4, 0.2]])"
      ]
     },
     "metadata": {},
     "output_type": "display_data"
    },
    {
     "data": {
      "text/plain": [
       "array([0, 0, 0, 0, 0])"
      ]
     },
     "metadata": {},
     "output_type": "display_data"
    },
    {
     "data": {
      "text/plain": [
       "array([[-2.68412563,  0.31939725, -0.02791483],\n",
       "       [-2.71414169, -0.17700123, -0.21046427],\n",
       "       [-2.88899057, -0.14494943,  0.01790026],\n",
       "       [-2.74534286, -0.31829898,  0.03155937],\n",
       "       [-2.72871654,  0.32675451,  0.09007924]])"
      ]
     },
     "metadata": {},
     "output_type": "display_data"
    }
   ],
   "source": [
    "display(X[:5],\n",
    "       y_label[:5],\n",
    "       X_pca[:5])"
   ]
  },
  {
   "cell_type": "code",
   "execution_count": 42,
   "metadata": {},
   "outputs": [],
   "source": [
    "plot_df = pd.DataFrame(X_pca)\n",
    "trace_data = []\n"
   ]
  },
  {
   "cell_type": "code",
   "execution_count": 44,
   "metadata": {},
   "outputs": [],
   "source": [
    "trace_data = []\n"
   ]
  },
  {
   "cell_type": "code",
   "execution_count": 49,
   "metadata": {},
   "outputs": [],
   "source": [
    "fig= go.Figure(data=[go.Scatter3d(\n",
    "    x=plot_df[0],\n",
    "    y=plot_df[1],\n",
    "    z=plot_df[2],\n",
    "    mode ='markers',\n",
    "    marker=dict(size=12,color = y_label,colorscale='Viridis',opacity=0.8))]\n",
    ")"
   ]
  },
  {
   "cell_type": "code",
   "execution_count": 51,
   "metadata": {},
   "outputs": [
    {
     "data": {
      "application/vnd.plotly.v1+json": {
       "config": {
        "plotlyServerURL": "https://plot.ly"
       },
       "data": [
        {
         "marker": {
          "color": [
           0,
           0,
           0,
           0,
           0,
           0,
           0,
           0,
           0,
           0,
           0,
           0,
           0,
           0,
           0,
           0,
           0,
           0,
           0,
           0,
           0,
           0,
           0,
           0,
           0,
           0,
           0,
           0,
           0,
           0,
           0,
           0,
           0,
           0,
           0,
           0,
           0,
           0,
           0,
           0,
           0,
           0,
           0,
           0,
           0,
           0,
           0,
           0,
           0,
           0,
           1,
           1,
           1,
           1,
           1,
           1,
           1,
           1,
           1,
           1,
           1,
           1,
           1,
           1,
           1,
           1,
           1,
           1,
           1,
           1,
           1,
           1,
           1,
           1,
           1,
           1,
           1,
           1,
           1,
           1,
           1,
           1,
           1,
           1,
           1,
           1,
           1,
           1,
           1,
           1,
           1,
           1,
           1,
           1,
           1,
           1,
           1,
           1,
           1,
           1,
           2,
           2,
           2,
           2,
           2,
           2,
           2,
           2,
           2,
           2,
           2,
           2,
           2,
           2,
           2,
           2,
           2,
           2,
           2,
           2,
           2,
           2,
           2,
           2,
           2,
           2,
           2,
           2,
           2,
           2,
           2,
           2,
           2,
           2,
           2,
           2,
           2,
           2,
           2,
           2,
           2,
           2,
           2,
           2,
           2,
           2,
           2,
           2,
           2,
           2
          ],
          "colorscale": [
           [
            0,
            "#440154"
           ],
           [
            0.1111111111111111,
            "#482878"
           ],
           [
            0.2222222222222222,
            "#3e4989"
           ],
           [
            0.3333333333333333,
            "#31688e"
           ],
           [
            0.4444444444444444,
            "#26828e"
           ],
           [
            0.5555555555555556,
            "#1f9e89"
           ],
           [
            0.6666666666666666,
            "#35b779"
           ],
           [
            0.7777777777777778,
            "#6ece58"
           ],
           [
            0.8888888888888888,
            "#b5de2b"
           ],
           [
            1,
            "#fde725"
           ]
          ],
          "opacity": 0.8,
          "size": 12
         },
         "mode": "markers",
         "type": "scatter3d",
         "x": [
          -2.6841256259695383,
          -2.7141416872943265,
          -2.888990569059297,
          -2.74534285564141,
          -2.7287165365545305,
          -2.2808596328444923,
          -2.820537750740609,
          -2.626144973146633,
          -2.8863827317805537,
          -2.672755797820954,
          -2.5069470906518565,
          -2.6127552309087236,
          -2.786109266188018,
          -3.2238037438656524,
          -2.644750389942029,
          -2.3860390335311337,
          -2.6235278752244264,
          -2.648296706254382,
          -2.19982032361758,
          -2.5879863998787687,
          -2.3102562152425183,
          -2.543705228757157,
          -3.215939415648612,
          -2.302733182226207,
          -2.3557540491237727,
          -2.5066689069258223,
          -2.468820073121339,
          -2.562319906196016,
          -2.639534715384543,
          -2.6319893872743467,
          -2.5873984766893527,
          -2.409932497002175,
          -2.6488623343499125,
          -2.5987367491005875,
          -2.6369268781057995,
          -2.8662416521186698,
          -2.6252380498503727,
          -2.8006841154482225,
          -2.980502043781994,
          -2.5900063139680967,
          -2.7701024260279024,
          -2.849368705043105,
          -2.9974065465949082,
          -2.4056144850974865,
          -2.2094892377836794,
          -2.714451426757708,
          -2.53814825899894,
          -2.8394621676428504,
          -2.543085749830393,
          -2.70335978233516,
          1.284825688858351,
          0.9324885323123177,
          1.4643023219913933,
          0.18331771995836996,
          1.0881032577116654,
          0.6416690842580771,
          1.0950606626324462,
          -0.749122669829658,
          1.0441318260534351,
          -0.008745404082896726,
          -0.5078408838353264,
          0.511698557447597,
          0.26497650811204604,
          0.9849345104708895,
          -0.1739253716817684,
          0.9278607809442467,
          0.6602837616969366,
          0.23610499331767107,
          0.9447337280198126,
          0.0452269762986993,
          1.116283177350049,
          0.3578884179973068,
          1.298183875358913,
          0.9217289224470363,
          0.7148533259114112,
          0.9001743731721669,
          1.332024436722088,
          1.55780215506607,
          0.8132906498175407,
          -0.30558377802430947,
          -0.06812649206836419,
          -0.18962247237850252,
          0.13642871155801442,
          1.38002643591551,
          0.5880064433398626,
          0.8068583125004115,
          1.2206908824443523,
          0.815095235766599,
          0.2459576798866918,
          0.1664132171454563,
          0.46480028840377874,
          0.8908151984694487,
          0.23054802355945478,
          -0.7045317592446642,
          0.3569814947010465,
          0.33193447994505776,
          0.3762156510666698,
          0.6425760075543373,
          -0.9064698649488364,
          0.2990008418781428,
          2.531192727803627,
          1.4152358767039017,
          2.616676015995689,
          1.9715310530434347,
          2.3500059200446395,
          3.3970387360532572,
          0.5212322439097725,
          2.9325870689936875,
          2.321228816573377,
          2.9167509667860716,
          1.6617741536365307,
          1.8034019529650904,
          2.1655917960801445,
          1.3461635794584508,
          1.5859282238732202,
          1.9044563747934262,
          1.9496890593990686,
          3.487055364290279,
          3.7956454220728832,
          1.3007917126376562,
          2.4278179130660447,
          1.19900110546556,
          3.4999200389245373,
          1.3887661316914643,
          2.275430503872204,
          2.61409047381083,
          1.2585081605114872,
          1.2911320591150202,
          2.1236087227738936,
          2.388003016003467,
          2.84167277810387,
          3.2306736614320926,
          2.159437642489049,
          1.4441612423295087,
          1.7812948100451116,
          3.0764999316871866,
          2.144243314302081,
          1.905098148814075,
          1.1693263393414994,
          2.1076111432572415,
          2.314154705235599,
          1.9222678009026004,
          1.4152358767039017,
          2.5630133750774746,
          2.418746182732824,
          1.9441097945469674,
          1.5271666148145162,
          1.764345717044428,
          1.9009416142184223,
          1.3901888619479128
         ],
         "y": [
          0.3193972465851019,
          -0.1770012250647806,
          -0.1449494260855574,
          -0.318298979251916,
          0.32675451293491986,
          0.7413304490629148,
          -0.08946138452856864,
          0.16338495969832853,
          -0.5783117541867039,
          -0.113774245874117,
          0.6450688986485736,
          0.01472993916137452,
          -0.23511200020171857,
          -0.5113945870063822,
          1.1787646364375746,
          1.3380623304006525,
          0.8106795141812576,
          0.3118491445933546,
          0.8728390389622105,
          0.5135603087492768,
          0.39134593565389386,
          0.4329960632790281,
          0.13346806953852594,
          0.09870885481409934,
          -0.0372818596773825,
          -0.14601688049526793,
          0.1309514894352502,
          0.36771885743419974,
          0.31203998023528257,
          -0.1969612249243145,
          -0.20431849127413348,
          0.4109242642295726,
          0.813363820296962,
          1.0931457594493568,
          -0.12132234786586332,
          0.06936447158008034,
          0.5993700213794232,
          0.2686437377979823,
          -0.48795834442861535,
          0.22904383682701246,
          0.2635275337442564,
          -0.9409605736411969,
          -0.34192605747160976,
          0.18887142893026038,
          0.43666314163918785,
          -0.2502082041852112,
          0.5037711444614376,
          -0.22794556949382755,
          0.5794100215198891,
          0.10770608249941149,
          0.6851604704673079,
          0.31833363826262856,
          0.5042628153092035,
          -0.8279590118206324,
          0.07459067519771564,
          -0.41824687156867885,
          0.2834682700615288,
          -1.0048909611818952,
          0.22836189978839497,
          -0.7230819050048339,
          -1.2659711905263937,
          -0.10398123549904056,
          -0.5500364636804753,
          -0.12481785412635768,
          -0.2548542087025894,
          0.4671794944415099,
          -0.3529696657238504,
          -0.3336107668249157,
          -0.543145550779767,
          -0.5838343774718646,
          -0.084616852194788,
          -0.06892503165601434,
          -0.3277873083339178,
          -0.1827377936213678,
          0.14905594436978423,
          0.3285044738343227,
          0.24444087601634273,
          0.2674954473102542,
          -0.16335030068761647,
          -0.36826218975458824,
          -0.7051721317994655,
          -0.6802867635281334,
          -0.314032438249237,
          -0.42095428731388196,
          -0.48428741998121805,
          0.19418231471315084,
          0.4076195936110067,
          -0.37203705990950237,
          -0.26852439662201494,
          -0.6819267248636268,
          -0.6707115445117204,
          -0.03446444436826911,
          -0.4043858480073254,
          -1.0122482275317142,
          -0.5049100933371088,
          -0.21265468378116992,
          -0.29321892925141907,
          0.017738190112415883,
          -0.7560933665990142,
          -0.3488978064503361,
          -0.009849109498801911,
          -0.5749163475464893,
          0.3439031513417337,
          -0.17972790435224567,
          -0.04026094714253125,
          0.5508366730280546,
          -1.1927587270006448,
          0.3555000029774955,
          -0.24383150231069114,
          0.7827919488152782,
          0.24222840775506682,
          -0.21563761733355571,
          0.21627558507402428,
          -0.7768183473443396,
          -0.5396407140267185,
          0.11925069209197257,
          0.04194325966321107,
          1.1757393297134286,
          0.25732297342047844,
          -0.7611496364350638,
          0.3781960126170504,
          -0.6060915277579304,
          0.4606740989118939,
          -0.20439932735215122,
          0.33499060582167717,
          0.560901355123077,
          -0.1797047947227469,
          -0.11666865117401158,
          -0.20972947667730288,
          0.4646398047087356,
          0.3752691671951024,
          1.3741650867930466,
          -0.2172775786690492,
          -0.1434134104575811,
          -0.49990168107813676,
          0.6880856775711748,
          0.14006420108978998,
          0.049300526013029984,
          -0.16499026202310965,
          0.37228787196079716,
          0.18365127916901874,
          0.40920346681606173,
          -0.5749163475464893,
          0.27786260292919446,
          0.30479819785469187,
          0.1875323028006049,
          -0.37531698258048873,
          0.07885885451847545,
          0.11662795851202377,
          -0.2826609379905505
         ],
         "z": [
          -0.027914827589415922,
          -0.2104642723782446,
          0.017900256320890217,
          0.03155937360568086,
          0.09007924055120108,
          0.1686776582091044,
          0.2578921582556178,
          -0.02187931788671982,
          0.020759570264780182,
          -0.19763272498814655,
          -0.07531800937912041,
          0.1021502599565897,
          -0.2068444304496446,
          0.06129967245709912,
          -0.15162752361780948,
          0.2777769027031353,
          0.13818322788071913,
          0.02666831561259374,
          -0.12030552339473123,
          0.21366517222471557,
          -0.23944404324495358,
          0.20845723241671485,
          0.2923967507452421,
          0.03912325874288064,
          0.12502108270287865,
          -0.25342004234465765,
          0.09491057609939167,
          -0.0784942051379244,
          -0.1459088957300293,
          0.04077107906717903,
          -0.07722298907343583,
          -0.14552497200513095,
          0.22566914972011914,
          0.1578108129582197,
          -0.14304958178613902,
          -0.1643323066530257,
          -0.26835037569393644,
          0.0936990824797999,
          0.07292704569269244,
          -0.08008230301732615,
          0.07724769316110373,
          -0.34923037730596634,
          0.19250921171270968,
          0.26386794551341536,
          0.29874274575510845,
          -0.09767814404562948,
          0.16670563660480434,
          0.08372684903359322,
          -0.01711502424851357,
          -0.08929400847882475,
          -0.4065680254676944,
          -0.01801418664624051,
          -0.33832576498089645,
          -0.17959139187535522,
          -0.3077578962347849,
          0.04107609082395585,
          0.16981023986057497,
          0.012302919237595331,
          -0.4153360847593978,
          0.2811414311764098,
          -0.2698171827688525,
          0.13054775024048604,
          -0.694146830144419,
          -0.062114408322261234,
          0.09045769072570443,
          -0.3146209758321725,
          0.32802752837859506,
          -0.27116183725106685,
          -0.4995190464851129,
          -0.23500210497205587,
          0.4596209913591038,
          -0.22985388760895153,
          -0.3478543522573082,
          -0.23107177773628498,
          -0.32180093724447406,
          -0.31620907371157425,
          -0.5217027796644194,
          -0.16492098374358052,
          0.03542450484616004,
          -0.318491580623047,
          -0.24421381043355445,
          -0.3064205612176583,
          -0.17724276601124433,
          0.016167127520728637,
          0.4444334986398076,
          0.38896306309821044,
          -0.237167009883876,
          -0.6147208425918221,
          0.1883668116461946,
          -0.06000922585533809,
          -0.024306855718951755,
          -0.009946932894349024,
          -0.22941024143915661,
          -0.10569114890301955,
          0.016617170198265408,
          0.08320429089567645,
          0.07799635108767548,
          -0.2053949669832609,
          -0.012599647557890057,
          0.010581660495570577,
          0.7601654272458953,
          0.2963225273879644,
          -0.11078788321910908,
          0.10842466246342275,
          0.28538956318444125,
          -0.34843755579746755,
          0.5456592956468127,
          -0.4202399357679682,
          -0.34830439493484516,
          0.42333541768255817,
          0.2424401897257689,
          -0.03764816823148248,
          0.033326641844325135,
          0.28190288211846487,
          0.6290293264080106,
          0.47963981962659047,
          0.0441861676301219,
          0.1338948739360979,
          -0.5137677638178045,
          -0.344995038313418,
          0.21911932430194317,
          0.511855508697001,
          -0.5731822425680028,
          -0.06452275663126839,
          0.2861500911691496,
          -0.20553452435362518,
          0.04584770392724995,
          0.23125646265997035,
          0.15418002392883004,
          -0.44953019194185,
          -0.498898075870769,
          -0.1145482054754195,
          0.20876316713083762,
          -0.15323388806309016,
          -0.17287518911342004,
          -0.335592292434541,
          0.7348789367255109,
          0.1621802357707368,
          0.2818358402084803,
          0.02729113214163061,
          0.32269374717305893,
          0.1135865957993566,
          0.2963225273879644,
          0.2925695245967426,
          0.5044826639771798,
          0.17782509063265742,
          -0.12189817186718173,
          0.13048163128784807,
          0.7232515634899168,
          0.3629096480853755
         ]
        }
       ],
       "layout": {
        "margin": {
         "b": 0,
         "l": 0,
         "r": 0,
         "t": 0
        },
        "template": {
         "data": {
          "bar": [
           {
            "error_x": {
             "color": "#2a3f5f"
            },
            "error_y": {
             "color": "#2a3f5f"
            },
            "marker": {
             "line": {
              "color": "#E5ECF6",
              "width": 0.5
             }
            },
            "type": "bar"
           }
          ],
          "barpolar": [
           {
            "marker": {
             "line": {
              "color": "#E5ECF6",
              "width": 0.5
             }
            },
            "type": "barpolar"
           }
          ],
          "carpet": [
           {
            "aaxis": {
             "endlinecolor": "#2a3f5f",
             "gridcolor": "white",
             "linecolor": "white",
             "minorgridcolor": "white",
             "startlinecolor": "#2a3f5f"
            },
            "baxis": {
             "endlinecolor": "#2a3f5f",
             "gridcolor": "white",
             "linecolor": "white",
             "minorgridcolor": "white",
             "startlinecolor": "#2a3f5f"
            },
            "type": "carpet"
           }
          ],
          "choropleth": [
           {
            "colorbar": {
             "outlinewidth": 0,
             "ticks": ""
            },
            "type": "choropleth"
           }
          ],
          "contour": [
           {
            "colorbar": {
             "outlinewidth": 0,
             "ticks": ""
            },
            "colorscale": [
             [
              0,
              "#0d0887"
             ],
             [
              0.1111111111111111,
              "#46039f"
             ],
             [
              0.2222222222222222,
              "#7201a8"
             ],
             [
              0.3333333333333333,
              "#9c179e"
             ],
             [
              0.4444444444444444,
              "#bd3786"
             ],
             [
              0.5555555555555556,
              "#d8576b"
             ],
             [
              0.6666666666666666,
              "#ed7953"
             ],
             [
              0.7777777777777778,
              "#fb9f3a"
             ],
             [
              0.8888888888888888,
              "#fdca26"
             ],
             [
              1,
              "#f0f921"
             ]
            ],
            "type": "contour"
           }
          ],
          "contourcarpet": [
           {
            "colorbar": {
             "outlinewidth": 0,
             "ticks": ""
            },
            "type": "contourcarpet"
           }
          ],
          "heatmap": [
           {
            "colorbar": {
             "outlinewidth": 0,
             "ticks": ""
            },
            "colorscale": [
             [
              0,
              "#0d0887"
             ],
             [
              0.1111111111111111,
              "#46039f"
             ],
             [
              0.2222222222222222,
              "#7201a8"
             ],
             [
              0.3333333333333333,
              "#9c179e"
             ],
             [
              0.4444444444444444,
              "#bd3786"
             ],
             [
              0.5555555555555556,
              "#d8576b"
             ],
             [
              0.6666666666666666,
              "#ed7953"
             ],
             [
              0.7777777777777778,
              "#fb9f3a"
             ],
             [
              0.8888888888888888,
              "#fdca26"
             ],
             [
              1,
              "#f0f921"
             ]
            ],
            "type": "heatmap"
           }
          ],
          "heatmapgl": [
           {
            "colorbar": {
             "outlinewidth": 0,
             "ticks": ""
            },
            "colorscale": [
             [
              0,
              "#0d0887"
             ],
             [
              0.1111111111111111,
              "#46039f"
             ],
             [
              0.2222222222222222,
              "#7201a8"
             ],
             [
              0.3333333333333333,
              "#9c179e"
             ],
             [
              0.4444444444444444,
              "#bd3786"
             ],
             [
              0.5555555555555556,
              "#d8576b"
             ],
             [
              0.6666666666666666,
              "#ed7953"
             ],
             [
              0.7777777777777778,
              "#fb9f3a"
             ],
             [
              0.8888888888888888,
              "#fdca26"
             ],
             [
              1,
              "#f0f921"
             ]
            ],
            "type": "heatmapgl"
           }
          ],
          "histogram": [
           {
            "marker": {
             "colorbar": {
              "outlinewidth": 0,
              "ticks": ""
             }
            },
            "type": "histogram"
           }
          ],
          "histogram2d": [
           {
            "colorbar": {
             "outlinewidth": 0,
             "ticks": ""
            },
            "colorscale": [
             [
              0,
              "#0d0887"
             ],
             [
              0.1111111111111111,
              "#46039f"
             ],
             [
              0.2222222222222222,
              "#7201a8"
             ],
             [
              0.3333333333333333,
              "#9c179e"
             ],
             [
              0.4444444444444444,
              "#bd3786"
             ],
             [
              0.5555555555555556,
              "#d8576b"
             ],
             [
              0.6666666666666666,
              "#ed7953"
             ],
             [
              0.7777777777777778,
              "#fb9f3a"
             ],
             [
              0.8888888888888888,
              "#fdca26"
             ],
             [
              1,
              "#f0f921"
             ]
            ],
            "type": "histogram2d"
           }
          ],
          "histogram2dcontour": [
           {
            "colorbar": {
             "outlinewidth": 0,
             "ticks": ""
            },
            "colorscale": [
             [
              0,
              "#0d0887"
             ],
             [
              0.1111111111111111,
              "#46039f"
             ],
             [
              0.2222222222222222,
              "#7201a8"
             ],
             [
              0.3333333333333333,
              "#9c179e"
             ],
             [
              0.4444444444444444,
              "#bd3786"
             ],
             [
              0.5555555555555556,
              "#d8576b"
             ],
             [
              0.6666666666666666,
              "#ed7953"
             ],
             [
              0.7777777777777778,
              "#fb9f3a"
             ],
             [
              0.8888888888888888,
              "#fdca26"
             ],
             [
              1,
              "#f0f921"
             ]
            ],
            "type": "histogram2dcontour"
           }
          ],
          "mesh3d": [
           {
            "colorbar": {
             "outlinewidth": 0,
             "ticks": ""
            },
            "type": "mesh3d"
           }
          ],
          "parcoords": [
           {
            "line": {
             "colorbar": {
              "outlinewidth": 0,
              "ticks": ""
             }
            },
            "type": "parcoords"
           }
          ],
          "pie": [
           {
            "automargin": true,
            "type": "pie"
           }
          ],
          "scatter": [
           {
            "marker": {
             "colorbar": {
              "outlinewidth": 0,
              "ticks": ""
             }
            },
            "type": "scatter"
           }
          ],
          "scatter3d": [
           {
            "line": {
             "colorbar": {
              "outlinewidth": 0,
              "ticks": ""
             }
            },
            "marker": {
             "colorbar": {
              "outlinewidth": 0,
              "ticks": ""
             }
            },
            "type": "scatter3d"
           }
          ],
          "scattercarpet": [
           {
            "marker": {
             "colorbar": {
              "outlinewidth": 0,
              "ticks": ""
             }
            },
            "type": "scattercarpet"
           }
          ],
          "scattergeo": [
           {
            "marker": {
             "colorbar": {
              "outlinewidth": 0,
              "ticks": ""
             }
            },
            "type": "scattergeo"
           }
          ],
          "scattergl": [
           {
            "marker": {
             "colorbar": {
              "outlinewidth": 0,
              "ticks": ""
             }
            },
            "type": "scattergl"
           }
          ],
          "scattermapbox": [
           {
            "marker": {
             "colorbar": {
              "outlinewidth": 0,
              "ticks": ""
             }
            },
            "type": "scattermapbox"
           }
          ],
          "scatterpolar": [
           {
            "marker": {
             "colorbar": {
              "outlinewidth": 0,
              "ticks": ""
             }
            },
            "type": "scatterpolar"
           }
          ],
          "scatterpolargl": [
           {
            "marker": {
             "colorbar": {
              "outlinewidth": 0,
              "ticks": ""
             }
            },
            "type": "scatterpolargl"
           }
          ],
          "scatterternary": [
           {
            "marker": {
             "colorbar": {
              "outlinewidth": 0,
              "ticks": ""
             }
            },
            "type": "scatterternary"
           }
          ],
          "surface": [
           {
            "colorbar": {
             "outlinewidth": 0,
             "ticks": ""
            },
            "colorscale": [
             [
              0,
              "#0d0887"
             ],
             [
              0.1111111111111111,
              "#46039f"
             ],
             [
              0.2222222222222222,
              "#7201a8"
             ],
             [
              0.3333333333333333,
              "#9c179e"
             ],
             [
              0.4444444444444444,
              "#bd3786"
             ],
             [
              0.5555555555555556,
              "#d8576b"
             ],
             [
              0.6666666666666666,
              "#ed7953"
             ],
             [
              0.7777777777777778,
              "#fb9f3a"
             ],
             [
              0.8888888888888888,
              "#fdca26"
             ],
             [
              1,
              "#f0f921"
             ]
            ],
            "type": "surface"
           }
          ],
          "table": [
           {
            "cells": {
             "fill": {
              "color": "#EBF0F8"
             },
             "line": {
              "color": "white"
             }
            },
            "header": {
             "fill": {
              "color": "#C8D4E3"
             },
             "line": {
              "color": "white"
             }
            },
            "type": "table"
           }
          ]
         },
         "layout": {
          "annotationdefaults": {
           "arrowcolor": "#2a3f5f",
           "arrowhead": 0,
           "arrowwidth": 1
          },
          "coloraxis": {
           "colorbar": {
            "outlinewidth": 0,
            "ticks": ""
           }
          },
          "colorscale": {
           "diverging": [
            [
             0,
             "#8e0152"
            ],
            [
             0.1,
             "#c51b7d"
            ],
            [
             0.2,
             "#de77ae"
            ],
            [
             0.3,
             "#f1b6da"
            ],
            [
             0.4,
             "#fde0ef"
            ],
            [
             0.5,
             "#f7f7f7"
            ],
            [
             0.6,
             "#e6f5d0"
            ],
            [
             0.7,
             "#b8e186"
            ],
            [
             0.8,
             "#7fbc41"
            ],
            [
             0.9,
             "#4d9221"
            ],
            [
             1,
             "#276419"
            ]
           ],
           "sequential": [
            [
             0,
             "#0d0887"
            ],
            [
             0.1111111111111111,
             "#46039f"
            ],
            [
             0.2222222222222222,
             "#7201a8"
            ],
            [
             0.3333333333333333,
             "#9c179e"
            ],
            [
             0.4444444444444444,
             "#bd3786"
            ],
            [
             0.5555555555555556,
             "#d8576b"
            ],
            [
             0.6666666666666666,
             "#ed7953"
            ],
            [
             0.7777777777777778,
             "#fb9f3a"
            ],
            [
             0.8888888888888888,
             "#fdca26"
            ],
            [
             1,
             "#f0f921"
            ]
           ],
           "sequentialminus": [
            [
             0,
             "#0d0887"
            ],
            [
             0.1111111111111111,
             "#46039f"
            ],
            [
             0.2222222222222222,
             "#7201a8"
            ],
            [
             0.3333333333333333,
             "#9c179e"
            ],
            [
             0.4444444444444444,
             "#bd3786"
            ],
            [
             0.5555555555555556,
             "#d8576b"
            ],
            [
             0.6666666666666666,
             "#ed7953"
            ],
            [
             0.7777777777777778,
             "#fb9f3a"
            ],
            [
             0.8888888888888888,
             "#fdca26"
            ],
            [
             1,
             "#f0f921"
            ]
           ]
          },
          "colorway": [
           "#636efa",
           "#EF553B",
           "#00cc96",
           "#ab63fa",
           "#FFA15A",
           "#19d3f3",
           "#FF6692",
           "#B6E880",
           "#FF97FF",
           "#FECB52"
          ],
          "font": {
           "color": "#2a3f5f"
          },
          "geo": {
           "bgcolor": "white",
           "lakecolor": "white",
           "landcolor": "#E5ECF6",
           "showlakes": true,
           "showland": true,
           "subunitcolor": "white"
          },
          "hoverlabel": {
           "align": "left"
          },
          "hovermode": "closest",
          "mapbox": {
           "style": "light"
          },
          "paper_bgcolor": "white",
          "plot_bgcolor": "#E5ECF6",
          "polar": {
           "angularaxis": {
            "gridcolor": "white",
            "linecolor": "white",
            "ticks": ""
           },
           "bgcolor": "#E5ECF6",
           "radialaxis": {
            "gridcolor": "white",
            "linecolor": "white",
            "ticks": ""
           }
          },
          "scene": {
           "xaxis": {
            "backgroundcolor": "#E5ECF6",
            "gridcolor": "white",
            "gridwidth": 2,
            "linecolor": "white",
            "showbackground": true,
            "ticks": "",
            "zerolinecolor": "white"
           },
           "yaxis": {
            "backgroundcolor": "#E5ECF6",
            "gridcolor": "white",
            "gridwidth": 2,
            "linecolor": "white",
            "showbackground": true,
            "ticks": "",
            "zerolinecolor": "white"
           },
           "zaxis": {
            "backgroundcolor": "#E5ECF6",
            "gridcolor": "white",
            "gridwidth": 2,
            "linecolor": "white",
            "showbackground": true,
            "ticks": "",
            "zerolinecolor": "white"
           }
          },
          "shapedefaults": {
           "line": {
            "color": "#2a3f5f"
           }
          },
          "ternary": {
           "aaxis": {
            "gridcolor": "white",
            "linecolor": "white",
            "ticks": ""
           },
           "baxis": {
            "gridcolor": "white",
            "linecolor": "white",
            "ticks": ""
           },
           "bgcolor": "#E5ECF6",
           "caxis": {
            "gridcolor": "white",
            "linecolor": "white",
            "ticks": ""
           }
          },
          "title": {
           "x": 0.05
          },
          "xaxis": {
           "automargin": true,
           "gridcolor": "white",
           "linecolor": "white",
           "ticks": "",
           "title": {
            "standoff": 15
           },
           "zerolinecolor": "white",
           "zerolinewidth": 2
          },
          "yaxis": {
           "automargin": true,
           "gridcolor": "white",
           "linecolor": "white",
           "ticks": "",
           "title": {
            "standoff": 15
           },
           "zerolinecolor": "white",
           "zerolinewidth": 2
          }
         }
        }
       }
      },
      "text/html": [
       "<div>\n",
       "        \n",
       "        \n",
       "            <div id=\"fb9c8f92-45a1-4bd8-9384-d197e9cc062e\" class=\"plotly-graph-div\" style=\"height:525px; width:100%;\"></div>\n",
       "            <script type=\"text/javascript\">\n",
       "                require([\"plotly\"], function(Plotly) {\n",
       "                    window.PLOTLYENV=window.PLOTLYENV || {};\n",
       "                    \n",
       "                if (document.getElementById(\"fb9c8f92-45a1-4bd8-9384-d197e9cc062e\")) {\n",
       "                    Plotly.newPlot(\n",
       "                        'fb9c8f92-45a1-4bd8-9384-d197e9cc062e',\n",
       "                        [{\"marker\": {\"color\": [0, 0, 0, 0, 0, 0, 0, 0, 0, 0, 0, 0, 0, 0, 0, 0, 0, 0, 0, 0, 0, 0, 0, 0, 0, 0, 0, 0, 0, 0, 0, 0, 0, 0, 0, 0, 0, 0, 0, 0, 0, 0, 0, 0, 0, 0, 0, 0, 0, 0, 1, 1, 1, 1, 1, 1, 1, 1, 1, 1, 1, 1, 1, 1, 1, 1, 1, 1, 1, 1, 1, 1, 1, 1, 1, 1, 1, 1, 1, 1, 1, 1, 1, 1, 1, 1, 1, 1, 1, 1, 1, 1, 1, 1, 1, 1, 1, 1, 1, 1, 2, 2, 2, 2, 2, 2, 2, 2, 2, 2, 2, 2, 2, 2, 2, 2, 2, 2, 2, 2, 2, 2, 2, 2, 2, 2, 2, 2, 2, 2, 2, 2, 2, 2, 2, 2, 2, 2, 2, 2, 2, 2, 2, 2, 2, 2, 2, 2, 2, 2], \"colorscale\": [[0.0, \"#440154\"], [0.1111111111111111, \"#482878\"], [0.2222222222222222, \"#3e4989\"], [0.3333333333333333, \"#31688e\"], [0.4444444444444444, \"#26828e\"], [0.5555555555555556, \"#1f9e89\"], [0.6666666666666666, \"#35b779\"], [0.7777777777777778, \"#6ece58\"], [0.8888888888888888, \"#b5de2b\"], [1.0, \"#fde725\"]], \"opacity\": 0.8, \"size\": 12}, \"mode\": \"markers\", \"type\": \"scatter3d\", \"x\": [-2.6841256259695383, -2.7141416872943265, -2.888990569059297, -2.74534285564141, -2.7287165365545305, -2.2808596328444923, -2.820537750740609, -2.626144973146633, -2.8863827317805537, -2.672755797820954, -2.5069470906518565, -2.6127552309087236, -2.786109266188018, -3.2238037438656524, -2.644750389942029, -2.3860390335311337, -2.6235278752244264, -2.648296706254382, -2.19982032361758, -2.5879863998787687, -2.3102562152425183, -2.543705228757157, -3.215939415648612, -2.302733182226207, -2.3557540491237727, -2.5066689069258223, -2.468820073121339, -2.562319906196016, -2.639534715384543, -2.6319893872743467, -2.5873984766893527, -2.409932497002175, -2.6488623343499125, -2.5987367491005875, -2.6369268781057995, -2.8662416521186698, -2.6252380498503727, -2.8006841154482225, -2.980502043781994, -2.5900063139680967, -2.7701024260279024, -2.849368705043105, -2.9974065465949082, -2.4056144850974865, -2.2094892377836794, -2.714451426757708, -2.53814825899894, -2.8394621676428504, -2.543085749830393, -2.70335978233516, 1.284825688858351, 0.9324885323123177, 1.4643023219913933, 0.18331771995836996, 1.0881032577116654, 0.6416690842580771, 1.0950606626324462, -0.749122669829658, 1.0441318260534351, -0.008745404082896726, -0.5078408838353264, 0.511698557447597, 0.26497650811204604, 0.9849345104708895, -0.1739253716817684, 0.9278607809442467, 0.6602837616969366, 0.23610499331767107, 0.9447337280198126, 0.0452269762986993, 1.116283177350049, 0.3578884179973068, 1.298183875358913, 0.9217289224470363, 0.7148533259114112, 0.9001743731721669, 1.332024436722088, 1.55780215506607, 0.8132906498175407, -0.30558377802430947, -0.06812649206836419, -0.18962247237850252, 0.13642871155801442, 1.38002643591551, 0.5880064433398626, 0.8068583125004115, 1.2206908824443523, 0.815095235766599, 0.2459576798866918, 0.1664132171454563, 0.46480028840377874, 0.8908151984694487, 0.23054802355945478, -0.7045317592446642, 0.3569814947010465, 0.33193447994505776, 0.3762156510666698, 0.6425760075543373, -0.9064698649488364, 0.2990008418781428, 2.531192727803627, 1.4152358767039017, 2.616676015995689, 1.9715310530434347, 2.3500059200446395, 3.3970387360532572, 0.5212322439097725, 2.9325870689936875, 2.321228816573377, 2.9167509667860716, 1.6617741536365307, 1.8034019529650904, 2.1655917960801445, 1.3461635794584508, 1.5859282238732202, 1.9044563747934262, 1.9496890593990686, 3.487055364290279, 3.7956454220728832, 1.3007917126376562, 2.4278179130660447, 1.19900110546556, 3.4999200389245373, 1.3887661316914643, 2.275430503872204, 2.61409047381083, 1.2585081605114872, 1.2911320591150202, 2.1236087227738936, 2.388003016003467, 2.84167277810387, 3.2306736614320926, 2.159437642489049, 1.4441612423295087, 1.7812948100451116, 3.0764999316871866, 2.144243314302081, 1.905098148814075, 1.1693263393414994, 2.1076111432572415, 2.314154705235599, 1.9222678009026004, 1.4152358767039017, 2.5630133750774746, 2.418746182732824, 1.9441097945469674, 1.5271666148145162, 1.764345717044428, 1.9009416142184223, 1.3901888619479128], \"y\": [0.3193972465851019, -0.1770012250647806, -0.1449494260855574, -0.318298979251916, 0.32675451293491986, 0.7413304490629148, -0.08946138452856864, 0.16338495969832853, -0.5783117541867039, -0.113774245874117, 0.6450688986485736, 0.01472993916137452, -0.23511200020171857, -0.5113945870063822, 1.1787646364375746, 1.3380623304006525, 0.8106795141812576, 0.3118491445933546, 0.8728390389622105, 0.5135603087492768, 0.39134593565389386, 0.4329960632790281, 0.13346806953852594, 0.09870885481409934, -0.0372818596773825, -0.14601688049526793, 0.1309514894352502, 0.36771885743419974, 0.31203998023528257, -0.1969612249243145, -0.20431849127413348, 0.4109242642295726, 0.813363820296962, 1.0931457594493568, -0.12132234786586332, 0.06936447158008034, 0.5993700213794232, 0.2686437377979823, -0.48795834442861535, 0.22904383682701246, 0.2635275337442564, -0.9409605736411969, -0.34192605747160976, 0.18887142893026038, 0.43666314163918785, -0.2502082041852112, 0.5037711444614376, -0.22794556949382755, 0.5794100215198891, 0.10770608249941149, 0.6851604704673079, 0.31833363826262856, 0.5042628153092035, -0.8279590118206324, 0.07459067519771564, -0.41824687156867885, 0.2834682700615288, -1.0048909611818952, 0.22836189978839497, -0.7230819050048339, -1.2659711905263937, -0.10398123549904056, -0.5500364636804753, -0.12481785412635768, -0.2548542087025894, 0.4671794944415099, -0.3529696657238504, -0.3336107668249157, -0.543145550779767, -0.5838343774718646, -0.084616852194788, -0.06892503165601434, -0.3277873083339178, -0.1827377936213678, 0.14905594436978423, 0.3285044738343227, 0.24444087601634273, 0.2674954473102542, -0.16335030068761647, -0.36826218975458824, -0.7051721317994655, -0.6802867635281334, -0.314032438249237, -0.42095428731388196, -0.48428741998121805, 0.19418231471315084, 0.4076195936110067, -0.37203705990950237, -0.26852439662201494, -0.6819267248636268, -0.6707115445117204, -0.03446444436826911, -0.4043858480073254, -1.0122482275317142, -0.5049100933371088, -0.21265468378116992, -0.29321892925141907, 0.017738190112415883, -0.7560933665990142, -0.3488978064503361, -0.009849109498801911, -0.5749163475464893, 0.3439031513417337, -0.17972790435224567, -0.04026094714253125, 0.5508366730280546, -1.1927587270006448, 0.3555000029774955, -0.24383150231069114, 0.7827919488152782, 0.24222840775506682, -0.21563761733355571, 0.21627558507402428, -0.7768183473443396, -0.5396407140267185, 0.11925069209197257, 0.04194325966321107, 1.1757393297134286, 0.25732297342047844, -0.7611496364350638, 0.3781960126170504, -0.6060915277579304, 0.4606740989118939, -0.20439932735215122, 0.33499060582167717, 0.560901355123077, -0.1797047947227469, -0.11666865117401158, -0.20972947667730288, 0.4646398047087356, 0.3752691671951024, 1.3741650867930466, -0.2172775786690492, -0.1434134104575811, -0.49990168107813676, 0.6880856775711748, 0.14006420108978998, 0.049300526013029984, -0.16499026202310965, 0.37228787196079716, 0.18365127916901874, 0.40920346681606173, -0.5749163475464893, 0.27786260292919446, 0.30479819785469187, 0.1875323028006049, -0.37531698258048873, 0.07885885451847545, 0.11662795851202377, -0.2826609379905505], \"z\": [-0.027914827589415922, -0.2104642723782446, 0.017900256320890217, 0.03155937360568086, 0.09007924055120108, 0.1686776582091044, 0.2578921582556178, -0.02187931788671982, 0.020759570264780182, -0.19763272498814655, -0.07531800937912041, 0.1021502599565897, -0.2068444304496446, 0.06129967245709912, -0.15162752361780948, 0.2777769027031353, 0.13818322788071913, 0.02666831561259374, -0.12030552339473123, 0.21366517222471557, -0.23944404324495358, 0.20845723241671485, 0.2923967507452421, 0.03912325874288064, 0.12502108270287865, -0.25342004234465765, 0.09491057609939167, -0.0784942051379244, -0.1459088957300293, 0.04077107906717903, -0.07722298907343583, -0.14552497200513095, 0.22566914972011914, 0.1578108129582197, -0.14304958178613902, -0.1643323066530257, -0.26835037569393644, 0.0936990824797999, 0.07292704569269244, -0.08008230301732615, 0.07724769316110373, -0.34923037730596634, 0.19250921171270968, 0.26386794551341536, 0.29874274575510845, -0.09767814404562948, 0.16670563660480434, 0.08372684903359322, -0.01711502424851357, -0.08929400847882475, -0.4065680254676944, -0.01801418664624051, -0.33832576498089645, -0.17959139187535522, -0.3077578962347849, 0.04107609082395585, 0.16981023986057497, 0.012302919237595331, -0.4153360847593978, 0.2811414311764098, -0.2698171827688525, 0.13054775024048604, -0.694146830144419, -0.062114408322261234, 0.09045769072570443, -0.3146209758321725, 0.32802752837859506, -0.27116183725106685, -0.4995190464851129, -0.23500210497205587, 0.4596209913591038, -0.22985388760895153, -0.3478543522573082, -0.23107177773628498, -0.32180093724447406, -0.31620907371157425, -0.5217027796644194, -0.16492098374358052, 0.03542450484616004, -0.318491580623047, -0.24421381043355445, -0.3064205612176583, -0.17724276601124433, 0.016167127520728637, 0.4444334986398076, 0.38896306309821044, -0.237167009883876, -0.6147208425918221, 0.1883668116461946, -0.06000922585533809, -0.024306855718951755, -0.009946932894349024, -0.22941024143915661, -0.10569114890301955, 0.016617170198265408, 0.08320429089567645, 0.07799635108767548, -0.2053949669832609, -0.012599647557890057, 0.010581660495570577, 0.7601654272458953, 0.2963225273879644, -0.11078788321910908, 0.10842466246342275, 0.28538956318444125, -0.34843755579746755, 0.5456592956468127, -0.4202399357679682, -0.34830439493484516, 0.42333541768255817, 0.2424401897257689, -0.03764816823148248, 0.033326641844325135, 0.28190288211846487, 0.6290293264080106, 0.47963981962659047, 0.0441861676301219, 0.1338948739360979, -0.5137677638178045, -0.344995038313418, 0.21911932430194317, 0.511855508697001, -0.5731822425680028, -0.06452275663126839, 0.2861500911691496, -0.20553452435362518, 0.04584770392724995, 0.23125646265997035, 0.15418002392883004, -0.44953019194185, -0.498898075870769, -0.1145482054754195, 0.20876316713083762, -0.15323388806309016, -0.17287518911342004, -0.335592292434541, 0.7348789367255109, 0.1621802357707368, 0.2818358402084803, 0.02729113214163061, 0.32269374717305893, 0.1135865957993566, 0.2963225273879644, 0.2925695245967426, 0.5044826639771798, 0.17782509063265742, -0.12189817186718173, 0.13048163128784807, 0.7232515634899168, 0.3629096480853755]}],\n",
       "                        {\"margin\": {\"b\": 0, \"l\": 0, \"r\": 0, \"t\": 0}, \"template\": {\"data\": {\"bar\": [{\"error_x\": {\"color\": \"#2a3f5f\"}, \"error_y\": {\"color\": \"#2a3f5f\"}, \"marker\": {\"line\": {\"color\": \"#E5ECF6\", \"width\": 0.5}}, \"type\": \"bar\"}], \"barpolar\": [{\"marker\": {\"line\": {\"color\": \"#E5ECF6\", \"width\": 0.5}}, \"type\": \"barpolar\"}], \"carpet\": [{\"aaxis\": {\"endlinecolor\": \"#2a3f5f\", \"gridcolor\": \"white\", \"linecolor\": \"white\", \"minorgridcolor\": \"white\", \"startlinecolor\": \"#2a3f5f\"}, \"baxis\": {\"endlinecolor\": \"#2a3f5f\", \"gridcolor\": \"white\", \"linecolor\": \"white\", \"minorgridcolor\": \"white\", \"startlinecolor\": \"#2a3f5f\"}, \"type\": \"carpet\"}], \"choropleth\": [{\"colorbar\": {\"outlinewidth\": 0, \"ticks\": \"\"}, \"type\": \"choropleth\"}], \"contour\": [{\"colorbar\": {\"outlinewidth\": 0, \"ticks\": \"\"}, \"colorscale\": [[0.0, \"#0d0887\"], [0.1111111111111111, \"#46039f\"], [0.2222222222222222, \"#7201a8\"], [0.3333333333333333, \"#9c179e\"], [0.4444444444444444, \"#bd3786\"], [0.5555555555555556, \"#d8576b\"], [0.6666666666666666, \"#ed7953\"], [0.7777777777777778, \"#fb9f3a\"], [0.8888888888888888, \"#fdca26\"], [1.0, \"#f0f921\"]], \"type\": \"contour\"}], \"contourcarpet\": [{\"colorbar\": {\"outlinewidth\": 0, \"ticks\": \"\"}, \"type\": \"contourcarpet\"}], \"heatmap\": [{\"colorbar\": {\"outlinewidth\": 0, \"ticks\": \"\"}, \"colorscale\": [[0.0, \"#0d0887\"], [0.1111111111111111, \"#46039f\"], [0.2222222222222222, \"#7201a8\"], [0.3333333333333333, \"#9c179e\"], [0.4444444444444444, \"#bd3786\"], [0.5555555555555556, \"#d8576b\"], [0.6666666666666666, \"#ed7953\"], [0.7777777777777778, \"#fb9f3a\"], [0.8888888888888888, \"#fdca26\"], [1.0, \"#f0f921\"]], \"type\": \"heatmap\"}], \"heatmapgl\": [{\"colorbar\": {\"outlinewidth\": 0, \"ticks\": \"\"}, \"colorscale\": [[0.0, \"#0d0887\"], [0.1111111111111111, \"#46039f\"], [0.2222222222222222, \"#7201a8\"], [0.3333333333333333, \"#9c179e\"], [0.4444444444444444, \"#bd3786\"], [0.5555555555555556, \"#d8576b\"], [0.6666666666666666, \"#ed7953\"], [0.7777777777777778, \"#fb9f3a\"], [0.8888888888888888, \"#fdca26\"], [1.0, \"#f0f921\"]], \"type\": \"heatmapgl\"}], \"histogram\": [{\"marker\": {\"colorbar\": {\"outlinewidth\": 0, \"ticks\": \"\"}}, \"type\": \"histogram\"}], \"histogram2d\": [{\"colorbar\": {\"outlinewidth\": 0, \"ticks\": \"\"}, \"colorscale\": [[0.0, \"#0d0887\"], [0.1111111111111111, \"#46039f\"], [0.2222222222222222, \"#7201a8\"], [0.3333333333333333, \"#9c179e\"], [0.4444444444444444, \"#bd3786\"], [0.5555555555555556, \"#d8576b\"], [0.6666666666666666, \"#ed7953\"], [0.7777777777777778, \"#fb9f3a\"], [0.8888888888888888, \"#fdca26\"], [1.0, \"#f0f921\"]], \"type\": \"histogram2d\"}], \"histogram2dcontour\": [{\"colorbar\": {\"outlinewidth\": 0, \"ticks\": \"\"}, \"colorscale\": [[0.0, \"#0d0887\"], [0.1111111111111111, \"#46039f\"], [0.2222222222222222, \"#7201a8\"], [0.3333333333333333, \"#9c179e\"], [0.4444444444444444, \"#bd3786\"], [0.5555555555555556, \"#d8576b\"], [0.6666666666666666, \"#ed7953\"], [0.7777777777777778, \"#fb9f3a\"], [0.8888888888888888, \"#fdca26\"], [1.0, \"#f0f921\"]], \"type\": \"histogram2dcontour\"}], \"mesh3d\": [{\"colorbar\": {\"outlinewidth\": 0, \"ticks\": \"\"}, \"type\": \"mesh3d\"}], \"parcoords\": [{\"line\": {\"colorbar\": {\"outlinewidth\": 0, \"ticks\": \"\"}}, \"type\": \"parcoords\"}], \"pie\": [{\"automargin\": true, \"type\": \"pie\"}], \"scatter\": [{\"marker\": {\"colorbar\": {\"outlinewidth\": 0, \"ticks\": \"\"}}, \"type\": \"scatter\"}], \"scatter3d\": [{\"line\": {\"colorbar\": {\"outlinewidth\": 0, \"ticks\": \"\"}}, \"marker\": {\"colorbar\": {\"outlinewidth\": 0, \"ticks\": \"\"}}, \"type\": \"scatter3d\"}], \"scattercarpet\": [{\"marker\": {\"colorbar\": {\"outlinewidth\": 0, \"ticks\": \"\"}}, \"type\": \"scattercarpet\"}], \"scattergeo\": [{\"marker\": {\"colorbar\": {\"outlinewidth\": 0, \"ticks\": \"\"}}, \"type\": \"scattergeo\"}], \"scattergl\": [{\"marker\": {\"colorbar\": {\"outlinewidth\": 0, \"ticks\": \"\"}}, \"type\": \"scattergl\"}], \"scattermapbox\": [{\"marker\": {\"colorbar\": {\"outlinewidth\": 0, \"ticks\": \"\"}}, \"type\": \"scattermapbox\"}], \"scatterpolar\": [{\"marker\": {\"colorbar\": {\"outlinewidth\": 0, \"ticks\": \"\"}}, \"type\": \"scatterpolar\"}], \"scatterpolargl\": [{\"marker\": {\"colorbar\": {\"outlinewidth\": 0, \"ticks\": \"\"}}, \"type\": \"scatterpolargl\"}], \"scatterternary\": [{\"marker\": {\"colorbar\": {\"outlinewidth\": 0, \"ticks\": \"\"}}, \"type\": \"scatterternary\"}], \"surface\": [{\"colorbar\": {\"outlinewidth\": 0, \"ticks\": \"\"}, \"colorscale\": [[0.0, \"#0d0887\"], [0.1111111111111111, \"#46039f\"], [0.2222222222222222, \"#7201a8\"], [0.3333333333333333, \"#9c179e\"], [0.4444444444444444, \"#bd3786\"], [0.5555555555555556, \"#d8576b\"], [0.6666666666666666, \"#ed7953\"], [0.7777777777777778, \"#fb9f3a\"], [0.8888888888888888, \"#fdca26\"], [1.0, \"#f0f921\"]], \"type\": \"surface\"}], \"table\": [{\"cells\": {\"fill\": {\"color\": \"#EBF0F8\"}, \"line\": {\"color\": \"white\"}}, \"header\": {\"fill\": {\"color\": \"#C8D4E3\"}, \"line\": {\"color\": \"white\"}}, \"type\": \"table\"}]}, \"layout\": {\"annotationdefaults\": {\"arrowcolor\": \"#2a3f5f\", \"arrowhead\": 0, \"arrowwidth\": 1}, \"coloraxis\": {\"colorbar\": {\"outlinewidth\": 0, \"ticks\": \"\"}}, \"colorscale\": {\"diverging\": [[0, \"#8e0152\"], [0.1, \"#c51b7d\"], [0.2, \"#de77ae\"], [0.3, \"#f1b6da\"], [0.4, \"#fde0ef\"], [0.5, \"#f7f7f7\"], [0.6, \"#e6f5d0\"], [0.7, \"#b8e186\"], [0.8, \"#7fbc41\"], [0.9, \"#4d9221\"], [1, \"#276419\"]], \"sequential\": [[0.0, \"#0d0887\"], [0.1111111111111111, \"#46039f\"], [0.2222222222222222, \"#7201a8\"], [0.3333333333333333, \"#9c179e\"], [0.4444444444444444, \"#bd3786\"], [0.5555555555555556, \"#d8576b\"], [0.6666666666666666, \"#ed7953\"], [0.7777777777777778, \"#fb9f3a\"], [0.8888888888888888, \"#fdca26\"], [1.0, \"#f0f921\"]], \"sequentialminus\": [[0.0, \"#0d0887\"], [0.1111111111111111, \"#46039f\"], [0.2222222222222222, \"#7201a8\"], [0.3333333333333333, \"#9c179e\"], [0.4444444444444444, \"#bd3786\"], [0.5555555555555556, \"#d8576b\"], [0.6666666666666666, \"#ed7953\"], [0.7777777777777778, \"#fb9f3a\"], [0.8888888888888888, \"#fdca26\"], [1.0, \"#f0f921\"]]}, \"colorway\": [\"#636efa\", \"#EF553B\", \"#00cc96\", \"#ab63fa\", \"#FFA15A\", \"#19d3f3\", \"#FF6692\", \"#B6E880\", \"#FF97FF\", \"#FECB52\"], \"font\": {\"color\": \"#2a3f5f\"}, \"geo\": {\"bgcolor\": \"white\", \"lakecolor\": \"white\", \"landcolor\": \"#E5ECF6\", \"showlakes\": true, \"showland\": true, \"subunitcolor\": \"white\"}, \"hoverlabel\": {\"align\": \"left\"}, \"hovermode\": \"closest\", \"mapbox\": {\"style\": \"light\"}, \"paper_bgcolor\": \"white\", \"plot_bgcolor\": \"#E5ECF6\", \"polar\": {\"angularaxis\": {\"gridcolor\": \"white\", \"linecolor\": \"white\", \"ticks\": \"\"}, \"bgcolor\": \"#E5ECF6\", \"radialaxis\": {\"gridcolor\": \"white\", \"linecolor\": \"white\", \"ticks\": \"\"}}, \"scene\": {\"xaxis\": {\"backgroundcolor\": \"#E5ECF6\", \"gridcolor\": \"white\", \"gridwidth\": 2, \"linecolor\": \"white\", \"showbackground\": true, \"ticks\": \"\", \"zerolinecolor\": \"white\"}, \"yaxis\": {\"backgroundcolor\": \"#E5ECF6\", \"gridcolor\": \"white\", \"gridwidth\": 2, \"linecolor\": \"white\", \"showbackground\": true, \"ticks\": \"\", \"zerolinecolor\": \"white\"}, \"zaxis\": {\"backgroundcolor\": \"#E5ECF6\", \"gridcolor\": \"white\", \"gridwidth\": 2, \"linecolor\": \"white\", \"showbackground\": true, \"ticks\": \"\", \"zerolinecolor\": \"white\"}}, \"shapedefaults\": {\"line\": {\"color\": \"#2a3f5f\"}}, \"ternary\": {\"aaxis\": {\"gridcolor\": \"white\", \"linecolor\": \"white\", \"ticks\": \"\"}, \"baxis\": {\"gridcolor\": \"white\", \"linecolor\": \"white\", \"ticks\": \"\"}, \"bgcolor\": \"#E5ECF6\", \"caxis\": {\"gridcolor\": \"white\", \"linecolor\": \"white\", \"ticks\": \"\"}}, \"title\": {\"x\": 0.05}, \"xaxis\": {\"automargin\": true, \"gridcolor\": \"white\", \"linecolor\": \"white\", \"ticks\": \"\", \"title\": {\"standoff\": 15}, \"zerolinecolor\": \"white\", \"zerolinewidth\": 2}, \"yaxis\": {\"automargin\": true, \"gridcolor\": \"white\", \"linecolor\": \"white\", \"ticks\": \"\", \"title\": {\"standoff\": 15}, \"zerolinecolor\": \"white\", \"zerolinewidth\": 2}}}},\n",
       "                        {\"responsive\": true}\n",
       "                    ).then(function(){\n",
       "                            \n",
       "var gd = document.getElementById('fb9c8f92-45a1-4bd8-9384-d197e9cc062e');\n",
       "var x = new MutationObserver(function (mutations, observer) {{\n",
       "        var display = window.getComputedStyle(gd).display;\n",
       "        if (!display || display === 'none') {{\n",
       "            console.log([gd, 'removed!']);\n",
       "            Plotly.purge(gd);\n",
       "            observer.disconnect();\n",
       "        }}\n",
       "}});\n",
       "\n",
       "// Listen for the removal of the full notebook cells\n",
       "var notebookContainer = gd.closest('#notebook-container');\n",
       "if (notebookContainer) {{\n",
       "    x.observe(notebookContainer, {childList: true});\n",
       "}}\n",
       "\n",
       "// Listen for the clearing of the current output cell\n",
       "var outputEl = gd.closest('.output');\n",
       "if (outputEl) {{\n",
       "    x.observe(outputEl, {childList: true});\n",
       "}}\n",
       "\n",
       "                        })\n",
       "                };\n",
       "                });\n",
       "            </script>\n",
       "        </div>"
      ]
     },
     "metadata": {},
     "output_type": "display_data"
    }
   ],
   "source": [
    "fig.update_layout(margin=dict(l=0,r=0,b=0,t=0))\n",
    "fig.show()\n"
   ]
  },
  {
   "cell_type": "code",
   "execution_count": 34,
   "metadata": {},
   "outputs": [
    {
     "data": {
      "application/vnd.plotly.v1+json": {
       "config": {
        "linkText": "Export to plot.ly",
        "plotlyServerURL": "https://plot.ly",
        "showLink": false
       },
       "data": [
        {
         "type": "scatter3d",
         "x": [
          -2.6841256259695383,
          -2.7141416872943265,
          -2.888990569059297,
          -2.74534285564141,
          -2.7287165365545305,
          -2.2808596328444923,
          -2.820537750740609,
          -2.626144973146633,
          -2.8863827317805537,
          -2.672755797820954,
          -2.5069470906518565,
          -2.6127552309087236,
          -2.786109266188018,
          -3.2238037438656524,
          -2.644750389942029,
          -2.3860390335311337,
          -2.6235278752244264,
          -2.648296706254382,
          -2.19982032361758,
          -2.5879863998787687,
          -2.3102562152425183,
          -2.543705228757157,
          -3.215939415648612,
          -2.302733182226207,
          -2.3557540491237727,
          -2.5066689069258223,
          -2.468820073121339,
          -2.562319906196016,
          -2.639534715384543,
          -2.6319893872743467,
          -2.5873984766893527,
          -2.409932497002175,
          -2.6488623343499125,
          -2.5987367491005875,
          -2.6369268781057995,
          -2.8662416521186698,
          -2.6252380498503727,
          -2.8006841154482225,
          -2.980502043781994,
          -2.5900063139680967,
          -2.7701024260279024,
          -2.849368705043105,
          -2.9974065465949082,
          -2.4056144850974865,
          -2.2094892377836794,
          -2.714451426757708,
          -2.53814825899894,
          -2.8394621676428504,
          -2.543085749830393,
          -2.70335978233516,
          1.284825688858351,
          0.9324885323123177,
          1.4643023219913933,
          0.18331771995836996,
          1.0881032577116654,
          0.6416690842580771,
          1.0950606626324462,
          -0.749122669829658,
          1.0441318260534351,
          -0.008745404082896726,
          -0.5078408838353264,
          0.511698557447597,
          0.26497650811204604,
          0.9849345104708895,
          -0.1739253716817684,
          0.9278607809442467,
          0.6602837616969366,
          0.23610499331767107,
          0.9447337280198126,
          0.0452269762986993,
          1.116283177350049,
          0.3578884179973068,
          1.298183875358913,
          0.9217289224470363,
          0.7148533259114112,
          0.9001743731721669,
          1.332024436722088,
          1.55780215506607,
          0.8132906498175407,
          -0.30558377802430947,
          -0.06812649206836419,
          -0.18962247237850252,
          0.13642871155801442,
          1.38002643591551,
          0.5880064433398626,
          0.8068583125004115,
          1.2206908824443523,
          0.815095235766599,
          0.2459576798866918,
          0.1664132171454563,
          0.46480028840377874,
          0.8908151984694487,
          0.23054802355945478,
          -0.7045317592446642,
          0.3569814947010465,
          0.33193447994505776,
          0.3762156510666698,
          0.6425760075543373,
          -0.9064698649488364,
          0.2990008418781428,
          2.531192727803627,
          1.4152358767039017,
          2.616676015995689,
          1.9715310530434347,
          2.3500059200446395,
          3.3970387360532572,
          0.5212322439097725,
          2.9325870689936875,
          2.321228816573377,
          2.9167509667860716,
          1.6617741536365307,
          1.8034019529650904,
          2.1655917960801445,
          1.3461635794584508,
          1.5859282238732202,
          1.9044563747934262,
          1.9496890593990686,
          3.487055364290279,
          3.7956454220728832,
          1.3007917126376562,
          2.4278179130660447,
          1.19900110546556,
          3.4999200389245373,
          1.3887661316914643,
          2.275430503872204,
          2.61409047381083,
          1.2585081605114872,
          1.2911320591150202,
          2.1236087227738936,
          2.388003016003467,
          2.84167277810387,
          3.2306736614320926,
          2.159437642489049,
          1.4441612423295087,
          1.7812948100451116,
          3.0764999316871866,
          2.144243314302081,
          1.905098148814075,
          1.1693263393414994,
          2.1076111432572415,
          2.314154705235599,
          1.9222678009026004,
          1.4152358767039017,
          2.5630133750774746,
          2.418746182732824,
          1.9441097945469674,
          1.5271666148145162,
          1.764345717044428,
          1.9009416142184223,
          1.3901888619479128
         ],
         "y": [
          0.3193972465851019,
          -0.1770012250647806,
          -0.1449494260855574,
          -0.318298979251916,
          0.32675451293491986,
          0.7413304490629148,
          -0.08946138452856864,
          0.16338495969832853,
          -0.5783117541867039,
          -0.113774245874117,
          0.6450688986485736,
          0.01472993916137452,
          -0.23511200020171857,
          -0.5113945870063822,
          1.1787646364375746,
          1.3380623304006525,
          0.8106795141812576,
          0.3118491445933546,
          0.8728390389622105,
          0.5135603087492768,
          0.39134593565389386,
          0.4329960632790281,
          0.13346806953852594,
          0.09870885481409934,
          -0.0372818596773825,
          -0.14601688049526793,
          0.1309514894352502,
          0.36771885743419974,
          0.31203998023528257,
          -0.1969612249243145,
          -0.20431849127413348,
          0.4109242642295726,
          0.813363820296962,
          1.0931457594493568,
          -0.12132234786586332,
          0.06936447158008034,
          0.5993700213794232,
          0.2686437377979823,
          -0.48795834442861535,
          0.22904383682701246,
          0.2635275337442564,
          -0.9409605736411969,
          -0.34192605747160976,
          0.18887142893026038,
          0.43666314163918785,
          -0.2502082041852112,
          0.5037711444614376,
          -0.22794556949382755,
          0.5794100215198891,
          0.10770608249941149,
          0.6851604704673079,
          0.31833363826262856,
          0.5042628153092035,
          -0.8279590118206324,
          0.07459067519771564,
          -0.41824687156867885,
          0.2834682700615288,
          -1.0048909611818952,
          0.22836189978839497,
          -0.7230819050048339,
          -1.2659711905263937,
          -0.10398123549904056,
          -0.5500364636804753,
          -0.12481785412635768,
          -0.2548542087025894,
          0.4671794944415099,
          -0.3529696657238504,
          -0.3336107668249157,
          -0.543145550779767,
          -0.5838343774718646,
          -0.084616852194788,
          -0.06892503165601434,
          -0.3277873083339178,
          -0.1827377936213678,
          0.14905594436978423,
          0.3285044738343227,
          0.24444087601634273,
          0.2674954473102542,
          -0.16335030068761647,
          -0.36826218975458824,
          -0.7051721317994655,
          -0.6802867635281334,
          -0.314032438249237,
          -0.42095428731388196,
          -0.48428741998121805,
          0.19418231471315084,
          0.4076195936110067,
          -0.37203705990950237,
          -0.26852439662201494,
          -0.6819267248636268,
          -0.6707115445117204,
          -0.03446444436826911,
          -0.4043858480073254,
          -1.0122482275317142,
          -0.5049100933371088,
          -0.21265468378116992,
          -0.29321892925141907,
          0.017738190112415883,
          -0.7560933665990142,
          -0.3488978064503361,
          -0.009849109498801911,
          -0.5749163475464893,
          0.3439031513417337,
          -0.17972790435224567,
          -0.04026094714253125,
          0.5508366730280546,
          -1.1927587270006448,
          0.3555000029774955,
          -0.24383150231069114,
          0.7827919488152782,
          0.24222840775506682,
          -0.21563761733355571,
          0.21627558507402428,
          -0.7768183473443396,
          -0.5396407140267185,
          0.11925069209197257,
          0.04194325966321107,
          1.1757393297134286,
          0.25732297342047844,
          -0.7611496364350638,
          0.3781960126170504,
          -0.6060915277579304,
          0.4606740989118939,
          -0.20439932735215122,
          0.33499060582167717,
          0.560901355123077,
          -0.1797047947227469,
          -0.11666865117401158,
          -0.20972947667730288,
          0.4646398047087356,
          0.3752691671951024,
          1.3741650867930466,
          -0.2172775786690492,
          -0.1434134104575811,
          -0.49990168107813676,
          0.6880856775711748,
          0.14006420108978998,
          0.049300526013029984,
          -0.16499026202310965,
          0.37228787196079716,
          0.18365127916901874,
          0.40920346681606173,
          -0.5749163475464893,
          0.27786260292919446,
          0.30479819785469187,
          0.1875323028006049,
          -0.37531698258048873,
          0.07885885451847545,
          0.11662795851202377,
          -0.2826609379905505
         ],
         "z": [
          -0.027914827589415922,
          -0.2104642723782446,
          0.017900256320890217,
          0.03155937360568086,
          0.09007924055120108,
          0.1686776582091044,
          0.2578921582556178,
          -0.02187931788671982,
          0.020759570264780182,
          -0.19763272498814655,
          -0.07531800937912041,
          0.1021502599565897,
          -0.2068444304496446,
          0.06129967245709912,
          -0.15162752361780948,
          0.2777769027031353,
          0.13818322788071913,
          0.02666831561259374,
          -0.12030552339473123,
          0.21366517222471557,
          -0.23944404324495358,
          0.20845723241671485,
          0.2923967507452421,
          0.03912325874288064,
          0.12502108270287865,
          -0.25342004234465765,
          0.09491057609939167,
          -0.0784942051379244,
          -0.1459088957300293,
          0.04077107906717903,
          -0.07722298907343583,
          -0.14552497200513095,
          0.22566914972011914,
          0.1578108129582197,
          -0.14304958178613902,
          -0.1643323066530257,
          -0.26835037569393644,
          0.0936990824797999,
          0.07292704569269244,
          -0.08008230301732615,
          0.07724769316110373,
          -0.34923037730596634,
          0.19250921171270968,
          0.26386794551341536,
          0.29874274575510845,
          -0.09767814404562948,
          0.16670563660480434,
          0.08372684903359322,
          -0.01711502424851357,
          -0.08929400847882475,
          -0.4065680254676944,
          -0.01801418664624051,
          -0.33832576498089645,
          -0.17959139187535522,
          -0.3077578962347849,
          0.04107609082395585,
          0.16981023986057497,
          0.012302919237595331,
          -0.4153360847593978,
          0.2811414311764098,
          -0.2698171827688525,
          0.13054775024048604,
          -0.694146830144419,
          -0.062114408322261234,
          0.09045769072570443,
          -0.3146209758321725,
          0.32802752837859506,
          -0.27116183725106685,
          -0.4995190464851129,
          -0.23500210497205587,
          0.4596209913591038,
          -0.22985388760895153,
          -0.3478543522573082,
          -0.23107177773628498,
          -0.32180093724447406,
          -0.31620907371157425,
          -0.5217027796644194,
          -0.16492098374358052,
          0.03542450484616004,
          -0.318491580623047,
          -0.24421381043355445,
          -0.3064205612176583,
          -0.17724276601124433,
          0.016167127520728637,
          0.4444334986398076,
          0.38896306309821044,
          -0.237167009883876,
          -0.6147208425918221,
          0.1883668116461946,
          -0.06000922585533809,
          -0.024306855718951755,
          -0.009946932894349024,
          -0.22941024143915661,
          -0.10569114890301955,
          0.016617170198265408,
          0.08320429089567645,
          0.07799635108767548,
          -0.2053949669832609,
          -0.012599647557890057,
          0.010581660495570577,
          0.7601654272458953,
          0.2963225273879644,
          -0.11078788321910908,
          0.10842466246342275,
          0.28538956318444125,
          -0.34843755579746755,
          0.5456592956468127,
          -0.4202399357679682,
          -0.34830439493484516,
          0.42333541768255817,
          0.2424401897257689,
          -0.03764816823148248,
          0.033326641844325135,
          0.28190288211846487,
          0.6290293264080106,
          0.47963981962659047,
          0.0441861676301219,
          0.1338948739360979,
          -0.5137677638178045,
          -0.344995038313418,
          0.21911932430194317,
          0.511855508697001,
          -0.5731822425680028,
          -0.06452275663126839,
          0.2861500911691496,
          -0.20553452435362518,
          0.04584770392724995,
          0.23125646265997035,
          0.15418002392883004,
          -0.44953019194185,
          -0.498898075870769,
          -0.1145482054754195,
          0.20876316713083762,
          -0.15323388806309016,
          -0.17287518911342004,
          -0.335592292434541,
          0.7348789367255109,
          0.1621802357707368,
          0.2818358402084803,
          0.02729113214163061,
          0.32269374717305893,
          0.1135865957993566,
          0.2963225273879644,
          0.2925695245967426,
          0.5044826639771798,
          0.17782509063265742,
          -0.12189817186718173,
          0.13048163128784807,
          0.7232515634899168,
          0.3629096480853755
         ]
        },
        {
         "type": "scatter3d",
         "x": [
          -2.6841256259695383,
          -2.7141416872943265,
          -2.888990569059297,
          -2.74534285564141,
          -2.7287165365545305,
          -2.2808596328444923,
          -2.820537750740609,
          -2.626144973146633,
          -2.8863827317805537,
          -2.672755797820954,
          -2.5069470906518565,
          -2.6127552309087236,
          -2.786109266188018,
          -3.2238037438656524,
          -2.644750389942029,
          -2.3860390335311337,
          -2.6235278752244264,
          -2.648296706254382,
          -2.19982032361758,
          -2.5879863998787687,
          -2.3102562152425183,
          -2.543705228757157,
          -3.215939415648612,
          -2.302733182226207,
          -2.3557540491237727,
          -2.5066689069258223,
          -2.468820073121339,
          -2.562319906196016,
          -2.639534715384543,
          -2.6319893872743467,
          -2.5873984766893527,
          -2.409932497002175,
          -2.6488623343499125,
          -2.5987367491005875,
          -2.6369268781057995,
          -2.8662416521186698,
          -2.6252380498503727,
          -2.8006841154482225,
          -2.980502043781994,
          -2.5900063139680967,
          -2.7701024260279024,
          -2.849368705043105,
          -2.9974065465949082,
          -2.4056144850974865,
          -2.2094892377836794,
          -2.714451426757708,
          -2.53814825899894,
          -2.8394621676428504,
          -2.543085749830393,
          -2.70335978233516,
          1.284825688858351,
          0.9324885323123177,
          1.4643023219913933,
          0.18331771995836996,
          1.0881032577116654,
          0.6416690842580771,
          1.0950606626324462,
          -0.749122669829658,
          1.0441318260534351,
          -0.008745404082896726,
          -0.5078408838353264,
          0.511698557447597,
          0.26497650811204604,
          0.9849345104708895,
          -0.1739253716817684,
          0.9278607809442467,
          0.6602837616969366,
          0.23610499331767107,
          0.9447337280198126,
          0.0452269762986993,
          1.116283177350049,
          0.3578884179973068,
          1.298183875358913,
          0.9217289224470363,
          0.7148533259114112,
          0.9001743731721669,
          1.332024436722088,
          1.55780215506607,
          0.8132906498175407,
          -0.30558377802430947,
          -0.06812649206836419,
          -0.18962247237850252,
          0.13642871155801442,
          1.38002643591551,
          0.5880064433398626,
          0.8068583125004115,
          1.2206908824443523,
          0.815095235766599,
          0.2459576798866918,
          0.1664132171454563,
          0.46480028840377874,
          0.8908151984694487,
          0.23054802355945478,
          -0.7045317592446642,
          0.3569814947010465,
          0.33193447994505776,
          0.3762156510666698,
          0.6425760075543373,
          -0.9064698649488364,
          0.2990008418781428,
          2.531192727803627,
          1.4152358767039017,
          2.616676015995689,
          1.9715310530434347,
          2.3500059200446395,
          3.3970387360532572,
          0.5212322439097725,
          2.9325870689936875,
          2.321228816573377,
          2.9167509667860716,
          1.6617741536365307,
          1.8034019529650904,
          2.1655917960801445,
          1.3461635794584508,
          1.5859282238732202,
          1.9044563747934262,
          1.9496890593990686,
          3.487055364290279,
          3.7956454220728832,
          1.3007917126376562,
          2.4278179130660447,
          1.19900110546556,
          3.4999200389245373,
          1.3887661316914643,
          2.275430503872204,
          2.61409047381083,
          1.2585081605114872,
          1.2911320591150202,
          2.1236087227738936,
          2.388003016003467,
          2.84167277810387,
          3.2306736614320926,
          2.159437642489049,
          1.4441612423295087,
          1.7812948100451116,
          3.0764999316871866,
          2.144243314302081,
          1.905098148814075,
          1.1693263393414994,
          2.1076111432572415,
          2.314154705235599,
          1.9222678009026004,
          1.4152358767039017,
          2.5630133750774746,
          2.418746182732824,
          1.9441097945469674,
          1.5271666148145162,
          1.764345717044428,
          1.9009416142184223,
          1.3901888619479128
         ],
         "y": [
          0.3193972465851019,
          -0.1770012250647806,
          -0.1449494260855574,
          -0.318298979251916,
          0.32675451293491986,
          0.7413304490629148,
          -0.08946138452856864,
          0.16338495969832853,
          -0.5783117541867039,
          -0.113774245874117,
          0.6450688986485736,
          0.01472993916137452,
          -0.23511200020171857,
          -0.5113945870063822,
          1.1787646364375746,
          1.3380623304006525,
          0.8106795141812576,
          0.3118491445933546,
          0.8728390389622105,
          0.5135603087492768,
          0.39134593565389386,
          0.4329960632790281,
          0.13346806953852594,
          0.09870885481409934,
          -0.0372818596773825,
          -0.14601688049526793,
          0.1309514894352502,
          0.36771885743419974,
          0.31203998023528257,
          -0.1969612249243145,
          -0.20431849127413348,
          0.4109242642295726,
          0.813363820296962,
          1.0931457594493568,
          -0.12132234786586332,
          0.06936447158008034,
          0.5993700213794232,
          0.2686437377979823,
          -0.48795834442861535,
          0.22904383682701246,
          0.2635275337442564,
          -0.9409605736411969,
          -0.34192605747160976,
          0.18887142893026038,
          0.43666314163918785,
          -0.2502082041852112,
          0.5037711444614376,
          -0.22794556949382755,
          0.5794100215198891,
          0.10770608249941149,
          0.6851604704673079,
          0.31833363826262856,
          0.5042628153092035,
          -0.8279590118206324,
          0.07459067519771564,
          -0.41824687156867885,
          0.2834682700615288,
          -1.0048909611818952,
          0.22836189978839497,
          -0.7230819050048339,
          -1.2659711905263937,
          -0.10398123549904056,
          -0.5500364636804753,
          -0.12481785412635768,
          -0.2548542087025894,
          0.4671794944415099,
          -0.3529696657238504,
          -0.3336107668249157,
          -0.543145550779767,
          -0.5838343774718646,
          -0.084616852194788,
          -0.06892503165601434,
          -0.3277873083339178,
          -0.1827377936213678,
          0.14905594436978423,
          0.3285044738343227,
          0.24444087601634273,
          0.2674954473102542,
          -0.16335030068761647,
          -0.36826218975458824,
          -0.7051721317994655,
          -0.6802867635281334,
          -0.314032438249237,
          -0.42095428731388196,
          -0.48428741998121805,
          0.19418231471315084,
          0.4076195936110067,
          -0.37203705990950237,
          -0.26852439662201494,
          -0.6819267248636268,
          -0.6707115445117204,
          -0.03446444436826911,
          -0.4043858480073254,
          -1.0122482275317142,
          -0.5049100933371088,
          -0.21265468378116992,
          -0.29321892925141907,
          0.017738190112415883,
          -0.7560933665990142,
          -0.3488978064503361,
          -0.009849109498801911,
          -0.5749163475464893,
          0.3439031513417337,
          -0.17972790435224567,
          -0.04026094714253125,
          0.5508366730280546,
          -1.1927587270006448,
          0.3555000029774955,
          -0.24383150231069114,
          0.7827919488152782,
          0.24222840775506682,
          -0.21563761733355571,
          0.21627558507402428,
          -0.7768183473443396,
          -0.5396407140267185,
          0.11925069209197257,
          0.04194325966321107,
          1.1757393297134286,
          0.25732297342047844,
          -0.7611496364350638,
          0.3781960126170504,
          -0.6060915277579304,
          0.4606740989118939,
          -0.20439932735215122,
          0.33499060582167717,
          0.560901355123077,
          -0.1797047947227469,
          -0.11666865117401158,
          -0.20972947667730288,
          0.4646398047087356,
          0.3752691671951024,
          1.3741650867930466,
          -0.2172775786690492,
          -0.1434134104575811,
          -0.49990168107813676,
          0.6880856775711748,
          0.14006420108978998,
          0.049300526013029984,
          -0.16499026202310965,
          0.37228787196079716,
          0.18365127916901874,
          0.40920346681606173,
          -0.5749163475464893,
          0.27786260292919446,
          0.30479819785469187,
          0.1875323028006049,
          -0.37531698258048873,
          0.07885885451847545,
          0.11662795851202377,
          -0.2826609379905505
         ],
         "z": [
          -0.027914827589415922,
          -0.2104642723782446,
          0.017900256320890217,
          0.03155937360568086,
          0.09007924055120108,
          0.1686776582091044,
          0.2578921582556178,
          -0.02187931788671982,
          0.020759570264780182,
          -0.19763272498814655,
          -0.07531800937912041,
          0.1021502599565897,
          -0.2068444304496446,
          0.06129967245709912,
          -0.15162752361780948,
          0.2777769027031353,
          0.13818322788071913,
          0.02666831561259374,
          -0.12030552339473123,
          0.21366517222471557,
          -0.23944404324495358,
          0.20845723241671485,
          0.2923967507452421,
          0.03912325874288064,
          0.12502108270287865,
          -0.25342004234465765,
          0.09491057609939167,
          -0.0784942051379244,
          -0.1459088957300293,
          0.04077107906717903,
          -0.07722298907343583,
          -0.14552497200513095,
          0.22566914972011914,
          0.1578108129582197,
          -0.14304958178613902,
          -0.1643323066530257,
          -0.26835037569393644,
          0.0936990824797999,
          0.07292704569269244,
          -0.08008230301732615,
          0.07724769316110373,
          -0.34923037730596634,
          0.19250921171270968,
          0.26386794551341536,
          0.29874274575510845,
          -0.09767814404562948,
          0.16670563660480434,
          0.08372684903359322,
          -0.01711502424851357,
          -0.08929400847882475,
          -0.4065680254676944,
          -0.01801418664624051,
          -0.33832576498089645,
          -0.17959139187535522,
          -0.3077578962347849,
          0.04107609082395585,
          0.16981023986057497,
          0.012302919237595331,
          -0.4153360847593978,
          0.2811414311764098,
          -0.2698171827688525,
          0.13054775024048604,
          -0.694146830144419,
          -0.062114408322261234,
          0.09045769072570443,
          -0.3146209758321725,
          0.32802752837859506,
          -0.27116183725106685,
          -0.4995190464851129,
          -0.23500210497205587,
          0.4596209913591038,
          -0.22985388760895153,
          -0.3478543522573082,
          -0.23107177773628498,
          -0.32180093724447406,
          -0.31620907371157425,
          -0.5217027796644194,
          -0.16492098374358052,
          0.03542450484616004,
          -0.318491580623047,
          -0.24421381043355445,
          -0.3064205612176583,
          -0.17724276601124433,
          0.016167127520728637,
          0.4444334986398076,
          0.38896306309821044,
          -0.237167009883876,
          -0.6147208425918221,
          0.1883668116461946,
          -0.06000922585533809,
          -0.024306855718951755,
          -0.009946932894349024,
          -0.22941024143915661,
          -0.10569114890301955,
          0.016617170198265408,
          0.08320429089567645,
          0.07799635108767548,
          -0.2053949669832609,
          -0.012599647557890057,
          0.010581660495570577,
          0.7601654272458953,
          0.2963225273879644,
          -0.11078788321910908,
          0.10842466246342275,
          0.28538956318444125,
          -0.34843755579746755,
          0.5456592956468127,
          -0.4202399357679682,
          -0.34830439493484516,
          0.42333541768255817,
          0.2424401897257689,
          -0.03764816823148248,
          0.033326641844325135,
          0.28190288211846487,
          0.6290293264080106,
          0.47963981962659047,
          0.0441861676301219,
          0.1338948739360979,
          -0.5137677638178045,
          -0.344995038313418,
          0.21911932430194317,
          0.511855508697001,
          -0.5731822425680028,
          -0.06452275663126839,
          0.2861500911691496,
          -0.20553452435362518,
          0.04584770392724995,
          0.23125646265997035,
          0.15418002392883004,
          -0.44953019194185,
          -0.498898075870769,
          -0.1145482054754195,
          0.20876316713083762,
          -0.15323388806309016,
          -0.17287518911342004,
          -0.335592292434541,
          0.7348789367255109,
          0.1621802357707368,
          0.2818358402084803,
          0.02729113214163061,
          0.32269374717305893,
          0.1135865957993566,
          0.2963225273879644,
          0.2925695245967426,
          0.5044826639771798,
          0.17782509063265742,
          -0.12189817186718173,
          0.13048163128784807,
          0.7232515634899168,
          0.3629096480853755
         ]
        },
        {
         "type": "scatter3d",
         "x": [
          -2.6841256259695383,
          -2.7141416872943265,
          -2.888990569059297,
          -2.74534285564141,
          -2.7287165365545305,
          -2.2808596328444923,
          -2.820537750740609,
          -2.626144973146633,
          -2.8863827317805537,
          -2.672755797820954,
          -2.5069470906518565,
          -2.6127552309087236,
          -2.786109266188018,
          -3.2238037438656524,
          -2.644750389942029,
          -2.3860390335311337,
          -2.6235278752244264,
          -2.648296706254382,
          -2.19982032361758,
          -2.5879863998787687,
          -2.3102562152425183,
          -2.543705228757157,
          -3.215939415648612,
          -2.302733182226207,
          -2.3557540491237727,
          -2.5066689069258223,
          -2.468820073121339,
          -2.562319906196016,
          -2.639534715384543,
          -2.6319893872743467,
          -2.5873984766893527,
          -2.409932497002175,
          -2.6488623343499125,
          -2.5987367491005875,
          -2.6369268781057995,
          -2.8662416521186698,
          -2.6252380498503727,
          -2.8006841154482225,
          -2.980502043781994,
          -2.5900063139680967,
          -2.7701024260279024,
          -2.849368705043105,
          -2.9974065465949082,
          -2.4056144850974865,
          -2.2094892377836794,
          -2.714451426757708,
          -2.53814825899894,
          -2.8394621676428504,
          -2.543085749830393,
          -2.70335978233516,
          1.284825688858351,
          0.9324885323123177,
          1.4643023219913933,
          0.18331771995836996,
          1.0881032577116654,
          0.6416690842580771,
          1.0950606626324462,
          -0.749122669829658,
          1.0441318260534351,
          -0.008745404082896726,
          -0.5078408838353264,
          0.511698557447597,
          0.26497650811204604,
          0.9849345104708895,
          -0.1739253716817684,
          0.9278607809442467,
          0.6602837616969366,
          0.23610499331767107,
          0.9447337280198126,
          0.0452269762986993,
          1.116283177350049,
          0.3578884179973068,
          1.298183875358913,
          0.9217289224470363,
          0.7148533259114112,
          0.9001743731721669,
          1.332024436722088,
          1.55780215506607,
          0.8132906498175407,
          -0.30558377802430947,
          -0.06812649206836419,
          -0.18962247237850252,
          0.13642871155801442,
          1.38002643591551,
          0.5880064433398626,
          0.8068583125004115,
          1.2206908824443523,
          0.815095235766599,
          0.2459576798866918,
          0.1664132171454563,
          0.46480028840377874,
          0.8908151984694487,
          0.23054802355945478,
          -0.7045317592446642,
          0.3569814947010465,
          0.33193447994505776,
          0.3762156510666698,
          0.6425760075543373,
          -0.9064698649488364,
          0.2990008418781428,
          2.531192727803627,
          1.4152358767039017,
          2.616676015995689,
          1.9715310530434347,
          2.3500059200446395,
          3.3970387360532572,
          0.5212322439097725,
          2.9325870689936875,
          2.321228816573377,
          2.9167509667860716,
          1.6617741536365307,
          1.8034019529650904,
          2.1655917960801445,
          1.3461635794584508,
          1.5859282238732202,
          1.9044563747934262,
          1.9496890593990686,
          3.487055364290279,
          3.7956454220728832,
          1.3007917126376562,
          2.4278179130660447,
          1.19900110546556,
          3.4999200389245373,
          1.3887661316914643,
          2.275430503872204,
          2.61409047381083,
          1.2585081605114872,
          1.2911320591150202,
          2.1236087227738936,
          2.388003016003467,
          2.84167277810387,
          3.2306736614320926,
          2.159437642489049,
          1.4441612423295087,
          1.7812948100451116,
          3.0764999316871866,
          2.144243314302081,
          1.905098148814075,
          1.1693263393414994,
          2.1076111432572415,
          2.314154705235599,
          1.9222678009026004,
          1.4152358767039017,
          2.5630133750774746,
          2.418746182732824,
          1.9441097945469674,
          1.5271666148145162,
          1.764345717044428,
          1.9009416142184223,
          1.3901888619479128
         ],
         "y": [
          0.3193972465851019,
          -0.1770012250647806,
          -0.1449494260855574,
          -0.318298979251916,
          0.32675451293491986,
          0.7413304490629148,
          -0.08946138452856864,
          0.16338495969832853,
          -0.5783117541867039,
          -0.113774245874117,
          0.6450688986485736,
          0.01472993916137452,
          -0.23511200020171857,
          -0.5113945870063822,
          1.1787646364375746,
          1.3380623304006525,
          0.8106795141812576,
          0.3118491445933546,
          0.8728390389622105,
          0.5135603087492768,
          0.39134593565389386,
          0.4329960632790281,
          0.13346806953852594,
          0.09870885481409934,
          -0.0372818596773825,
          -0.14601688049526793,
          0.1309514894352502,
          0.36771885743419974,
          0.31203998023528257,
          -0.1969612249243145,
          -0.20431849127413348,
          0.4109242642295726,
          0.813363820296962,
          1.0931457594493568,
          -0.12132234786586332,
          0.06936447158008034,
          0.5993700213794232,
          0.2686437377979823,
          -0.48795834442861535,
          0.22904383682701246,
          0.2635275337442564,
          -0.9409605736411969,
          -0.34192605747160976,
          0.18887142893026038,
          0.43666314163918785,
          -0.2502082041852112,
          0.5037711444614376,
          -0.22794556949382755,
          0.5794100215198891,
          0.10770608249941149,
          0.6851604704673079,
          0.31833363826262856,
          0.5042628153092035,
          -0.8279590118206324,
          0.07459067519771564,
          -0.41824687156867885,
          0.2834682700615288,
          -1.0048909611818952,
          0.22836189978839497,
          -0.7230819050048339,
          -1.2659711905263937,
          -0.10398123549904056,
          -0.5500364636804753,
          -0.12481785412635768,
          -0.2548542087025894,
          0.4671794944415099,
          -0.3529696657238504,
          -0.3336107668249157,
          -0.543145550779767,
          -0.5838343774718646,
          -0.084616852194788,
          -0.06892503165601434,
          -0.3277873083339178,
          -0.1827377936213678,
          0.14905594436978423,
          0.3285044738343227,
          0.24444087601634273,
          0.2674954473102542,
          -0.16335030068761647,
          -0.36826218975458824,
          -0.7051721317994655,
          -0.6802867635281334,
          -0.314032438249237,
          -0.42095428731388196,
          -0.48428741998121805,
          0.19418231471315084,
          0.4076195936110067,
          -0.37203705990950237,
          -0.26852439662201494,
          -0.6819267248636268,
          -0.6707115445117204,
          -0.03446444436826911,
          -0.4043858480073254,
          -1.0122482275317142,
          -0.5049100933371088,
          -0.21265468378116992,
          -0.29321892925141907,
          0.017738190112415883,
          -0.7560933665990142,
          -0.3488978064503361,
          -0.009849109498801911,
          -0.5749163475464893,
          0.3439031513417337,
          -0.17972790435224567,
          -0.04026094714253125,
          0.5508366730280546,
          -1.1927587270006448,
          0.3555000029774955,
          -0.24383150231069114,
          0.7827919488152782,
          0.24222840775506682,
          -0.21563761733355571,
          0.21627558507402428,
          -0.7768183473443396,
          -0.5396407140267185,
          0.11925069209197257,
          0.04194325966321107,
          1.1757393297134286,
          0.25732297342047844,
          -0.7611496364350638,
          0.3781960126170504,
          -0.6060915277579304,
          0.4606740989118939,
          -0.20439932735215122,
          0.33499060582167717,
          0.560901355123077,
          -0.1797047947227469,
          -0.11666865117401158,
          -0.20972947667730288,
          0.4646398047087356,
          0.3752691671951024,
          1.3741650867930466,
          -0.2172775786690492,
          -0.1434134104575811,
          -0.49990168107813676,
          0.6880856775711748,
          0.14006420108978998,
          0.049300526013029984,
          -0.16499026202310965,
          0.37228787196079716,
          0.18365127916901874,
          0.40920346681606173,
          -0.5749163475464893,
          0.27786260292919446,
          0.30479819785469187,
          0.1875323028006049,
          -0.37531698258048873,
          0.07885885451847545,
          0.11662795851202377,
          -0.2826609379905505
         ],
         "z": [
          -0.027914827589415922,
          -0.2104642723782446,
          0.017900256320890217,
          0.03155937360568086,
          0.09007924055120108,
          0.1686776582091044,
          0.2578921582556178,
          -0.02187931788671982,
          0.020759570264780182,
          -0.19763272498814655,
          -0.07531800937912041,
          0.1021502599565897,
          -0.2068444304496446,
          0.06129967245709912,
          -0.15162752361780948,
          0.2777769027031353,
          0.13818322788071913,
          0.02666831561259374,
          -0.12030552339473123,
          0.21366517222471557,
          -0.23944404324495358,
          0.20845723241671485,
          0.2923967507452421,
          0.03912325874288064,
          0.12502108270287865,
          -0.25342004234465765,
          0.09491057609939167,
          -0.0784942051379244,
          -0.1459088957300293,
          0.04077107906717903,
          -0.07722298907343583,
          -0.14552497200513095,
          0.22566914972011914,
          0.1578108129582197,
          -0.14304958178613902,
          -0.1643323066530257,
          -0.26835037569393644,
          0.0936990824797999,
          0.07292704569269244,
          -0.08008230301732615,
          0.07724769316110373,
          -0.34923037730596634,
          0.19250921171270968,
          0.26386794551341536,
          0.29874274575510845,
          -0.09767814404562948,
          0.16670563660480434,
          0.08372684903359322,
          -0.01711502424851357,
          -0.08929400847882475,
          -0.4065680254676944,
          -0.01801418664624051,
          -0.33832576498089645,
          -0.17959139187535522,
          -0.3077578962347849,
          0.04107609082395585,
          0.16981023986057497,
          0.012302919237595331,
          -0.4153360847593978,
          0.2811414311764098,
          -0.2698171827688525,
          0.13054775024048604,
          -0.694146830144419,
          -0.062114408322261234,
          0.09045769072570443,
          -0.3146209758321725,
          0.32802752837859506,
          -0.27116183725106685,
          -0.4995190464851129,
          -0.23500210497205587,
          0.4596209913591038,
          -0.22985388760895153,
          -0.3478543522573082,
          -0.23107177773628498,
          -0.32180093724447406,
          -0.31620907371157425,
          -0.5217027796644194,
          -0.16492098374358052,
          0.03542450484616004,
          -0.318491580623047,
          -0.24421381043355445,
          -0.3064205612176583,
          -0.17724276601124433,
          0.016167127520728637,
          0.4444334986398076,
          0.38896306309821044,
          -0.237167009883876,
          -0.6147208425918221,
          0.1883668116461946,
          -0.06000922585533809,
          -0.024306855718951755,
          -0.009946932894349024,
          -0.22941024143915661,
          -0.10569114890301955,
          0.016617170198265408,
          0.08320429089567645,
          0.07799635108767548,
          -0.2053949669832609,
          -0.012599647557890057,
          0.010581660495570577,
          0.7601654272458953,
          0.2963225273879644,
          -0.11078788321910908,
          0.10842466246342275,
          0.28538956318444125,
          -0.34843755579746755,
          0.5456592956468127,
          -0.4202399357679682,
          -0.34830439493484516,
          0.42333541768255817,
          0.2424401897257689,
          -0.03764816823148248,
          0.033326641844325135,
          0.28190288211846487,
          0.6290293264080106,
          0.47963981962659047,
          0.0441861676301219,
          0.1338948739360979,
          -0.5137677638178045,
          -0.344995038313418,
          0.21911932430194317,
          0.511855508697001,
          -0.5731822425680028,
          -0.06452275663126839,
          0.2861500911691496,
          -0.20553452435362518,
          0.04584770392724995,
          0.23125646265997035,
          0.15418002392883004,
          -0.44953019194185,
          -0.498898075870769,
          -0.1145482054754195,
          0.20876316713083762,
          -0.15323388806309016,
          -0.17287518911342004,
          -0.335592292434541,
          0.7348789367255109,
          0.1621802357707368,
          0.2818358402084803,
          0.02729113214163061,
          0.32269374717305893,
          0.1135865957993566,
          0.2963225273879644,
          0.2925695245967426,
          0.5044826639771798,
          0.17782509063265742,
          -0.12189817186718173,
          0.13048163128784807,
          0.7232515634899168,
          0.3629096480853755
         ]
        },
        {
         "type": "scatter3d",
         "x": [
          -2.6841256259695383,
          -2.7141416872943265,
          -2.888990569059297,
          -2.74534285564141,
          -2.7287165365545305,
          -2.2808596328444923,
          -2.820537750740609,
          -2.626144973146633,
          -2.8863827317805537,
          -2.672755797820954,
          -2.5069470906518565,
          -2.6127552309087236,
          -2.786109266188018,
          -3.2238037438656524,
          -2.644750389942029,
          -2.3860390335311337,
          -2.6235278752244264,
          -2.648296706254382,
          -2.19982032361758,
          -2.5879863998787687,
          -2.3102562152425183,
          -2.543705228757157,
          -3.215939415648612,
          -2.302733182226207,
          -2.3557540491237727,
          -2.5066689069258223,
          -2.468820073121339,
          -2.562319906196016,
          -2.639534715384543,
          -2.6319893872743467,
          -2.5873984766893527,
          -2.409932497002175,
          -2.6488623343499125,
          -2.5987367491005875,
          -2.6369268781057995,
          -2.8662416521186698,
          -2.6252380498503727,
          -2.8006841154482225,
          -2.980502043781994,
          -2.5900063139680967,
          -2.7701024260279024,
          -2.849368705043105,
          -2.9974065465949082,
          -2.4056144850974865,
          -2.2094892377836794,
          -2.714451426757708,
          -2.53814825899894,
          -2.8394621676428504,
          -2.543085749830393,
          -2.70335978233516,
          1.284825688858351,
          0.9324885323123177,
          1.4643023219913933,
          0.18331771995836996,
          1.0881032577116654,
          0.6416690842580771,
          1.0950606626324462,
          -0.749122669829658,
          1.0441318260534351,
          -0.008745404082896726,
          -0.5078408838353264,
          0.511698557447597,
          0.26497650811204604,
          0.9849345104708895,
          -0.1739253716817684,
          0.9278607809442467,
          0.6602837616969366,
          0.23610499331767107,
          0.9447337280198126,
          0.0452269762986993,
          1.116283177350049,
          0.3578884179973068,
          1.298183875358913,
          0.9217289224470363,
          0.7148533259114112,
          0.9001743731721669,
          1.332024436722088,
          1.55780215506607,
          0.8132906498175407,
          -0.30558377802430947,
          -0.06812649206836419,
          -0.18962247237850252,
          0.13642871155801442,
          1.38002643591551,
          0.5880064433398626,
          0.8068583125004115,
          1.2206908824443523,
          0.815095235766599,
          0.2459576798866918,
          0.1664132171454563,
          0.46480028840377874,
          0.8908151984694487,
          0.23054802355945478,
          -0.7045317592446642,
          0.3569814947010465,
          0.33193447994505776,
          0.3762156510666698,
          0.6425760075543373,
          -0.9064698649488364,
          0.2990008418781428,
          2.531192727803627,
          1.4152358767039017,
          2.616676015995689,
          1.9715310530434347,
          2.3500059200446395,
          3.3970387360532572,
          0.5212322439097725,
          2.9325870689936875,
          2.321228816573377,
          2.9167509667860716,
          1.6617741536365307,
          1.8034019529650904,
          2.1655917960801445,
          1.3461635794584508,
          1.5859282238732202,
          1.9044563747934262,
          1.9496890593990686,
          3.487055364290279,
          3.7956454220728832,
          1.3007917126376562,
          2.4278179130660447,
          1.19900110546556,
          3.4999200389245373,
          1.3887661316914643,
          2.275430503872204,
          2.61409047381083,
          1.2585081605114872,
          1.2911320591150202,
          2.1236087227738936,
          2.388003016003467,
          2.84167277810387,
          3.2306736614320926,
          2.159437642489049,
          1.4441612423295087,
          1.7812948100451116,
          3.0764999316871866,
          2.144243314302081,
          1.905098148814075,
          1.1693263393414994,
          2.1076111432572415,
          2.314154705235599,
          1.9222678009026004,
          1.4152358767039017,
          2.5630133750774746,
          2.418746182732824,
          1.9441097945469674,
          1.5271666148145162,
          1.764345717044428,
          1.9009416142184223,
          1.3901888619479128
         ],
         "y": [
          0.3193972465851019,
          -0.1770012250647806,
          -0.1449494260855574,
          -0.318298979251916,
          0.32675451293491986,
          0.7413304490629148,
          -0.08946138452856864,
          0.16338495969832853,
          -0.5783117541867039,
          -0.113774245874117,
          0.6450688986485736,
          0.01472993916137452,
          -0.23511200020171857,
          -0.5113945870063822,
          1.1787646364375746,
          1.3380623304006525,
          0.8106795141812576,
          0.3118491445933546,
          0.8728390389622105,
          0.5135603087492768,
          0.39134593565389386,
          0.4329960632790281,
          0.13346806953852594,
          0.09870885481409934,
          -0.0372818596773825,
          -0.14601688049526793,
          0.1309514894352502,
          0.36771885743419974,
          0.31203998023528257,
          -0.1969612249243145,
          -0.20431849127413348,
          0.4109242642295726,
          0.813363820296962,
          1.0931457594493568,
          -0.12132234786586332,
          0.06936447158008034,
          0.5993700213794232,
          0.2686437377979823,
          -0.48795834442861535,
          0.22904383682701246,
          0.2635275337442564,
          -0.9409605736411969,
          -0.34192605747160976,
          0.18887142893026038,
          0.43666314163918785,
          -0.2502082041852112,
          0.5037711444614376,
          -0.22794556949382755,
          0.5794100215198891,
          0.10770608249941149,
          0.6851604704673079,
          0.31833363826262856,
          0.5042628153092035,
          -0.8279590118206324,
          0.07459067519771564,
          -0.41824687156867885,
          0.2834682700615288,
          -1.0048909611818952,
          0.22836189978839497,
          -0.7230819050048339,
          -1.2659711905263937,
          -0.10398123549904056,
          -0.5500364636804753,
          -0.12481785412635768,
          -0.2548542087025894,
          0.4671794944415099,
          -0.3529696657238504,
          -0.3336107668249157,
          -0.543145550779767,
          -0.5838343774718646,
          -0.084616852194788,
          -0.06892503165601434,
          -0.3277873083339178,
          -0.1827377936213678,
          0.14905594436978423,
          0.3285044738343227,
          0.24444087601634273,
          0.2674954473102542,
          -0.16335030068761647,
          -0.36826218975458824,
          -0.7051721317994655,
          -0.6802867635281334,
          -0.314032438249237,
          -0.42095428731388196,
          -0.48428741998121805,
          0.19418231471315084,
          0.4076195936110067,
          -0.37203705990950237,
          -0.26852439662201494,
          -0.6819267248636268,
          -0.6707115445117204,
          -0.03446444436826911,
          -0.4043858480073254,
          -1.0122482275317142,
          -0.5049100933371088,
          -0.21265468378116992,
          -0.29321892925141907,
          0.017738190112415883,
          -0.7560933665990142,
          -0.3488978064503361,
          -0.009849109498801911,
          -0.5749163475464893,
          0.3439031513417337,
          -0.17972790435224567,
          -0.04026094714253125,
          0.5508366730280546,
          -1.1927587270006448,
          0.3555000029774955,
          -0.24383150231069114,
          0.7827919488152782,
          0.24222840775506682,
          -0.21563761733355571,
          0.21627558507402428,
          -0.7768183473443396,
          -0.5396407140267185,
          0.11925069209197257,
          0.04194325966321107,
          1.1757393297134286,
          0.25732297342047844,
          -0.7611496364350638,
          0.3781960126170504,
          -0.6060915277579304,
          0.4606740989118939,
          -0.20439932735215122,
          0.33499060582167717,
          0.560901355123077,
          -0.1797047947227469,
          -0.11666865117401158,
          -0.20972947667730288,
          0.4646398047087356,
          0.3752691671951024,
          1.3741650867930466,
          -0.2172775786690492,
          -0.1434134104575811,
          -0.49990168107813676,
          0.6880856775711748,
          0.14006420108978998,
          0.049300526013029984,
          -0.16499026202310965,
          0.37228787196079716,
          0.18365127916901874,
          0.40920346681606173,
          -0.5749163475464893,
          0.27786260292919446,
          0.30479819785469187,
          0.1875323028006049,
          -0.37531698258048873,
          0.07885885451847545,
          0.11662795851202377,
          -0.2826609379905505
         ],
         "z": [
          -0.027914827589415922,
          -0.2104642723782446,
          0.017900256320890217,
          0.03155937360568086,
          0.09007924055120108,
          0.1686776582091044,
          0.2578921582556178,
          -0.02187931788671982,
          0.020759570264780182,
          -0.19763272498814655,
          -0.07531800937912041,
          0.1021502599565897,
          -0.2068444304496446,
          0.06129967245709912,
          -0.15162752361780948,
          0.2777769027031353,
          0.13818322788071913,
          0.02666831561259374,
          -0.12030552339473123,
          0.21366517222471557,
          -0.23944404324495358,
          0.20845723241671485,
          0.2923967507452421,
          0.03912325874288064,
          0.12502108270287865,
          -0.25342004234465765,
          0.09491057609939167,
          -0.0784942051379244,
          -0.1459088957300293,
          0.04077107906717903,
          -0.07722298907343583,
          -0.14552497200513095,
          0.22566914972011914,
          0.1578108129582197,
          -0.14304958178613902,
          -0.1643323066530257,
          -0.26835037569393644,
          0.0936990824797999,
          0.07292704569269244,
          -0.08008230301732615,
          0.07724769316110373,
          -0.34923037730596634,
          0.19250921171270968,
          0.26386794551341536,
          0.29874274575510845,
          -0.09767814404562948,
          0.16670563660480434,
          0.08372684903359322,
          -0.01711502424851357,
          -0.08929400847882475,
          -0.4065680254676944,
          -0.01801418664624051,
          -0.33832576498089645,
          -0.17959139187535522,
          -0.3077578962347849,
          0.04107609082395585,
          0.16981023986057497,
          0.012302919237595331,
          -0.4153360847593978,
          0.2811414311764098,
          -0.2698171827688525,
          0.13054775024048604,
          -0.694146830144419,
          -0.062114408322261234,
          0.09045769072570443,
          -0.3146209758321725,
          0.32802752837859506,
          -0.27116183725106685,
          -0.4995190464851129,
          -0.23500210497205587,
          0.4596209913591038,
          -0.22985388760895153,
          -0.3478543522573082,
          -0.23107177773628498,
          -0.32180093724447406,
          -0.31620907371157425,
          -0.5217027796644194,
          -0.16492098374358052,
          0.03542450484616004,
          -0.318491580623047,
          -0.24421381043355445,
          -0.3064205612176583,
          -0.17724276601124433,
          0.016167127520728637,
          0.4444334986398076,
          0.38896306309821044,
          -0.237167009883876,
          -0.6147208425918221,
          0.1883668116461946,
          -0.06000922585533809,
          -0.024306855718951755,
          -0.009946932894349024,
          -0.22941024143915661,
          -0.10569114890301955,
          0.016617170198265408,
          0.08320429089567645,
          0.07799635108767548,
          -0.2053949669832609,
          -0.012599647557890057,
          0.010581660495570577,
          0.7601654272458953,
          0.2963225273879644,
          -0.11078788321910908,
          0.10842466246342275,
          0.28538956318444125,
          -0.34843755579746755,
          0.5456592956468127,
          -0.4202399357679682,
          -0.34830439493484516,
          0.42333541768255817,
          0.2424401897257689,
          -0.03764816823148248,
          0.033326641844325135,
          0.28190288211846487,
          0.6290293264080106,
          0.47963981962659047,
          0.0441861676301219,
          0.1338948739360979,
          -0.5137677638178045,
          -0.344995038313418,
          0.21911932430194317,
          0.511855508697001,
          -0.5731822425680028,
          -0.06452275663126839,
          0.2861500911691496,
          -0.20553452435362518,
          0.04584770392724995,
          0.23125646265997035,
          0.15418002392883004,
          -0.44953019194185,
          -0.498898075870769,
          -0.1145482054754195,
          0.20876316713083762,
          -0.15323388806309016,
          -0.17287518911342004,
          -0.335592292434541,
          0.7348789367255109,
          0.1621802357707368,
          0.2818358402084803,
          0.02729113214163061,
          0.32269374717305893,
          0.1135865957993566,
          0.2963225273879644,
          0.2925695245967426,
          0.5044826639771798,
          0.17782509063265742,
          -0.12189817186718173,
          0.13048163128784807,
          0.7232515634899168,
          0.3629096480853755
         ]
        },
        {
         "type": "scatter3d",
         "x": [
          -2.6841256259695383,
          -2.7141416872943265,
          -2.888990569059297,
          -2.74534285564141,
          -2.7287165365545305,
          -2.2808596328444923,
          -2.820537750740609,
          -2.626144973146633,
          -2.8863827317805537,
          -2.672755797820954,
          -2.5069470906518565,
          -2.6127552309087236,
          -2.786109266188018,
          -3.2238037438656524,
          -2.644750389942029,
          -2.3860390335311337,
          -2.6235278752244264,
          -2.648296706254382,
          -2.19982032361758,
          -2.5879863998787687,
          -2.3102562152425183,
          -2.543705228757157,
          -3.215939415648612,
          -2.302733182226207,
          -2.3557540491237727,
          -2.5066689069258223,
          -2.468820073121339,
          -2.562319906196016,
          -2.639534715384543,
          -2.6319893872743467,
          -2.5873984766893527,
          -2.409932497002175,
          -2.6488623343499125,
          -2.5987367491005875,
          -2.6369268781057995,
          -2.8662416521186698,
          -2.6252380498503727,
          -2.8006841154482225,
          -2.980502043781994,
          -2.5900063139680967,
          -2.7701024260279024,
          -2.849368705043105,
          -2.9974065465949082,
          -2.4056144850974865,
          -2.2094892377836794,
          -2.714451426757708,
          -2.53814825899894,
          -2.8394621676428504,
          -2.543085749830393,
          -2.70335978233516,
          1.284825688858351,
          0.9324885323123177,
          1.4643023219913933,
          0.18331771995836996,
          1.0881032577116654,
          0.6416690842580771,
          1.0950606626324462,
          -0.749122669829658,
          1.0441318260534351,
          -0.008745404082896726,
          -0.5078408838353264,
          0.511698557447597,
          0.26497650811204604,
          0.9849345104708895,
          -0.1739253716817684,
          0.9278607809442467,
          0.6602837616969366,
          0.23610499331767107,
          0.9447337280198126,
          0.0452269762986993,
          1.116283177350049,
          0.3578884179973068,
          1.298183875358913,
          0.9217289224470363,
          0.7148533259114112,
          0.9001743731721669,
          1.332024436722088,
          1.55780215506607,
          0.8132906498175407,
          -0.30558377802430947,
          -0.06812649206836419,
          -0.18962247237850252,
          0.13642871155801442,
          1.38002643591551,
          0.5880064433398626,
          0.8068583125004115,
          1.2206908824443523,
          0.815095235766599,
          0.2459576798866918,
          0.1664132171454563,
          0.46480028840377874,
          0.8908151984694487,
          0.23054802355945478,
          -0.7045317592446642,
          0.3569814947010465,
          0.33193447994505776,
          0.3762156510666698,
          0.6425760075543373,
          -0.9064698649488364,
          0.2990008418781428,
          2.531192727803627,
          1.4152358767039017,
          2.616676015995689,
          1.9715310530434347,
          2.3500059200446395,
          3.3970387360532572,
          0.5212322439097725,
          2.9325870689936875,
          2.321228816573377,
          2.9167509667860716,
          1.6617741536365307,
          1.8034019529650904,
          2.1655917960801445,
          1.3461635794584508,
          1.5859282238732202,
          1.9044563747934262,
          1.9496890593990686,
          3.487055364290279,
          3.7956454220728832,
          1.3007917126376562,
          2.4278179130660447,
          1.19900110546556,
          3.4999200389245373,
          1.3887661316914643,
          2.275430503872204,
          2.61409047381083,
          1.2585081605114872,
          1.2911320591150202,
          2.1236087227738936,
          2.388003016003467,
          2.84167277810387,
          3.2306736614320926,
          2.159437642489049,
          1.4441612423295087,
          1.7812948100451116,
          3.0764999316871866,
          2.144243314302081,
          1.905098148814075,
          1.1693263393414994,
          2.1076111432572415,
          2.314154705235599,
          1.9222678009026004,
          1.4152358767039017,
          2.5630133750774746,
          2.418746182732824,
          1.9441097945469674,
          1.5271666148145162,
          1.764345717044428,
          1.9009416142184223,
          1.3901888619479128
         ],
         "y": [
          0.3193972465851019,
          -0.1770012250647806,
          -0.1449494260855574,
          -0.318298979251916,
          0.32675451293491986,
          0.7413304490629148,
          -0.08946138452856864,
          0.16338495969832853,
          -0.5783117541867039,
          -0.113774245874117,
          0.6450688986485736,
          0.01472993916137452,
          -0.23511200020171857,
          -0.5113945870063822,
          1.1787646364375746,
          1.3380623304006525,
          0.8106795141812576,
          0.3118491445933546,
          0.8728390389622105,
          0.5135603087492768,
          0.39134593565389386,
          0.4329960632790281,
          0.13346806953852594,
          0.09870885481409934,
          -0.0372818596773825,
          -0.14601688049526793,
          0.1309514894352502,
          0.36771885743419974,
          0.31203998023528257,
          -0.1969612249243145,
          -0.20431849127413348,
          0.4109242642295726,
          0.813363820296962,
          1.0931457594493568,
          -0.12132234786586332,
          0.06936447158008034,
          0.5993700213794232,
          0.2686437377979823,
          -0.48795834442861535,
          0.22904383682701246,
          0.2635275337442564,
          -0.9409605736411969,
          -0.34192605747160976,
          0.18887142893026038,
          0.43666314163918785,
          -0.2502082041852112,
          0.5037711444614376,
          -0.22794556949382755,
          0.5794100215198891,
          0.10770608249941149,
          0.6851604704673079,
          0.31833363826262856,
          0.5042628153092035,
          -0.8279590118206324,
          0.07459067519771564,
          -0.41824687156867885,
          0.2834682700615288,
          -1.0048909611818952,
          0.22836189978839497,
          -0.7230819050048339,
          -1.2659711905263937,
          -0.10398123549904056,
          -0.5500364636804753,
          -0.12481785412635768,
          -0.2548542087025894,
          0.4671794944415099,
          -0.3529696657238504,
          -0.3336107668249157,
          -0.543145550779767,
          -0.5838343774718646,
          -0.084616852194788,
          -0.06892503165601434,
          -0.3277873083339178,
          -0.1827377936213678,
          0.14905594436978423,
          0.3285044738343227,
          0.24444087601634273,
          0.2674954473102542,
          -0.16335030068761647,
          -0.36826218975458824,
          -0.7051721317994655,
          -0.6802867635281334,
          -0.314032438249237,
          -0.42095428731388196,
          -0.48428741998121805,
          0.19418231471315084,
          0.4076195936110067,
          -0.37203705990950237,
          -0.26852439662201494,
          -0.6819267248636268,
          -0.6707115445117204,
          -0.03446444436826911,
          -0.4043858480073254,
          -1.0122482275317142,
          -0.5049100933371088,
          -0.21265468378116992,
          -0.29321892925141907,
          0.017738190112415883,
          -0.7560933665990142,
          -0.3488978064503361,
          -0.009849109498801911,
          -0.5749163475464893,
          0.3439031513417337,
          -0.17972790435224567,
          -0.04026094714253125,
          0.5508366730280546,
          -1.1927587270006448,
          0.3555000029774955,
          -0.24383150231069114,
          0.7827919488152782,
          0.24222840775506682,
          -0.21563761733355571,
          0.21627558507402428,
          -0.7768183473443396,
          -0.5396407140267185,
          0.11925069209197257,
          0.04194325966321107,
          1.1757393297134286,
          0.25732297342047844,
          -0.7611496364350638,
          0.3781960126170504,
          -0.6060915277579304,
          0.4606740989118939,
          -0.20439932735215122,
          0.33499060582167717,
          0.560901355123077,
          -0.1797047947227469,
          -0.11666865117401158,
          -0.20972947667730288,
          0.4646398047087356,
          0.3752691671951024,
          1.3741650867930466,
          -0.2172775786690492,
          -0.1434134104575811,
          -0.49990168107813676,
          0.6880856775711748,
          0.14006420108978998,
          0.049300526013029984,
          -0.16499026202310965,
          0.37228787196079716,
          0.18365127916901874,
          0.40920346681606173,
          -0.5749163475464893,
          0.27786260292919446,
          0.30479819785469187,
          0.1875323028006049,
          -0.37531698258048873,
          0.07885885451847545,
          0.11662795851202377,
          -0.2826609379905505
         ],
         "z": [
          -0.027914827589415922,
          -0.2104642723782446,
          0.017900256320890217,
          0.03155937360568086,
          0.09007924055120108,
          0.1686776582091044,
          0.2578921582556178,
          -0.02187931788671982,
          0.020759570264780182,
          -0.19763272498814655,
          -0.07531800937912041,
          0.1021502599565897,
          -0.2068444304496446,
          0.06129967245709912,
          -0.15162752361780948,
          0.2777769027031353,
          0.13818322788071913,
          0.02666831561259374,
          -0.12030552339473123,
          0.21366517222471557,
          -0.23944404324495358,
          0.20845723241671485,
          0.2923967507452421,
          0.03912325874288064,
          0.12502108270287865,
          -0.25342004234465765,
          0.09491057609939167,
          -0.0784942051379244,
          -0.1459088957300293,
          0.04077107906717903,
          -0.07722298907343583,
          -0.14552497200513095,
          0.22566914972011914,
          0.1578108129582197,
          -0.14304958178613902,
          -0.1643323066530257,
          -0.26835037569393644,
          0.0936990824797999,
          0.07292704569269244,
          -0.08008230301732615,
          0.07724769316110373,
          -0.34923037730596634,
          0.19250921171270968,
          0.26386794551341536,
          0.29874274575510845,
          -0.09767814404562948,
          0.16670563660480434,
          0.08372684903359322,
          -0.01711502424851357,
          -0.08929400847882475,
          -0.4065680254676944,
          -0.01801418664624051,
          -0.33832576498089645,
          -0.17959139187535522,
          -0.3077578962347849,
          0.04107609082395585,
          0.16981023986057497,
          0.012302919237595331,
          -0.4153360847593978,
          0.2811414311764098,
          -0.2698171827688525,
          0.13054775024048604,
          -0.694146830144419,
          -0.062114408322261234,
          0.09045769072570443,
          -0.3146209758321725,
          0.32802752837859506,
          -0.27116183725106685,
          -0.4995190464851129,
          -0.23500210497205587,
          0.4596209913591038,
          -0.22985388760895153,
          -0.3478543522573082,
          -0.23107177773628498,
          -0.32180093724447406,
          -0.31620907371157425,
          -0.5217027796644194,
          -0.16492098374358052,
          0.03542450484616004,
          -0.318491580623047,
          -0.24421381043355445,
          -0.3064205612176583,
          -0.17724276601124433,
          0.016167127520728637,
          0.4444334986398076,
          0.38896306309821044,
          -0.237167009883876,
          -0.6147208425918221,
          0.1883668116461946,
          -0.06000922585533809,
          -0.024306855718951755,
          -0.009946932894349024,
          -0.22941024143915661,
          -0.10569114890301955,
          0.016617170198265408,
          0.08320429089567645,
          0.07799635108767548,
          -0.2053949669832609,
          -0.012599647557890057,
          0.010581660495570577,
          0.7601654272458953,
          0.2963225273879644,
          -0.11078788321910908,
          0.10842466246342275,
          0.28538956318444125,
          -0.34843755579746755,
          0.5456592956468127,
          -0.4202399357679682,
          -0.34830439493484516,
          0.42333541768255817,
          0.2424401897257689,
          -0.03764816823148248,
          0.033326641844325135,
          0.28190288211846487,
          0.6290293264080106,
          0.47963981962659047,
          0.0441861676301219,
          0.1338948739360979,
          -0.5137677638178045,
          -0.344995038313418,
          0.21911932430194317,
          0.511855508697001,
          -0.5731822425680028,
          -0.06452275663126839,
          0.2861500911691496,
          -0.20553452435362518,
          0.04584770392724995,
          0.23125646265997035,
          0.15418002392883004,
          -0.44953019194185,
          -0.498898075870769,
          -0.1145482054754195,
          0.20876316713083762,
          -0.15323388806309016,
          -0.17287518911342004,
          -0.335592292434541,
          0.7348789367255109,
          0.1621802357707368,
          0.2818358402084803,
          0.02729113214163061,
          0.32269374717305893,
          0.1135865957993566,
          0.2963225273879644,
          0.2925695245967426,
          0.5044826639771798,
          0.17782509063265742,
          -0.12189817186718173,
          0.13048163128784807,
          0.7232515634899168,
          0.3629096480853755
         ]
        },
        {
         "type": "scatter3d",
         "x": [
          -2.6841256259695383,
          -2.7141416872943265,
          -2.888990569059297,
          -2.74534285564141,
          -2.7287165365545305,
          -2.2808596328444923,
          -2.820537750740609,
          -2.626144973146633,
          -2.8863827317805537,
          -2.672755797820954,
          -2.5069470906518565,
          -2.6127552309087236,
          -2.786109266188018,
          -3.2238037438656524,
          -2.644750389942029,
          -2.3860390335311337,
          -2.6235278752244264,
          -2.648296706254382,
          -2.19982032361758,
          -2.5879863998787687,
          -2.3102562152425183,
          -2.543705228757157,
          -3.215939415648612,
          -2.302733182226207,
          -2.3557540491237727,
          -2.5066689069258223,
          -2.468820073121339,
          -2.562319906196016,
          -2.639534715384543,
          -2.6319893872743467,
          -2.5873984766893527,
          -2.409932497002175,
          -2.6488623343499125,
          -2.5987367491005875,
          -2.6369268781057995,
          -2.8662416521186698,
          -2.6252380498503727,
          -2.8006841154482225,
          -2.980502043781994,
          -2.5900063139680967,
          -2.7701024260279024,
          -2.849368705043105,
          -2.9974065465949082,
          -2.4056144850974865,
          -2.2094892377836794,
          -2.714451426757708,
          -2.53814825899894,
          -2.8394621676428504,
          -2.543085749830393,
          -2.70335978233516,
          1.284825688858351,
          0.9324885323123177,
          1.4643023219913933,
          0.18331771995836996,
          1.0881032577116654,
          0.6416690842580771,
          1.0950606626324462,
          -0.749122669829658,
          1.0441318260534351,
          -0.008745404082896726,
          -0.5078408838353264,
          0.511698557447597,
          0.26497650811204604,
          0.9849345104708895,
          -0.1739253716817684,
          0.9278607809442467,
          0.6602837616969366,
          0.23610499331767107,
          0.9447337280198126,
          0.0452269762986993,
          1.116283177350049,
          0.3578884179973068,
          1.298183875358913,
          0.9217289224470363,
          0.7148533259114112,
          0.9001743731721669,
          1.332024436722088,
          1.55780215506607,
          0.8132906498175407,
          -0.30558377802430947,
          -0.06812649206836419,
          -0.18962247237850252,
          0.13642871155801442,
          1.38002643591551,
          0.5880064433398626,
          0.8068583125004115,
          1.2206908824443523,
          0.815095235766599,
          0.2459576798866918,
          0.1664132171454563,
          0.46480028840377874,
          0.8908151984694487,
          0.23054802355945478,
          -0.7045317592446642,
          0.3569814947010465,
          0.33193447994505776,
          0.3762156510666698,
          0.6425760075543373,
          -0.9064698649488364,
          0.2990008418781428,
          2.531192727803627,
          1.4152358767039017,
          2.616676015995689,
          1.9715310530434347,
          2.3500059200446395,
          3.3970387360532572,
          0.5212322439097725,
          2.9325870689936875,
          2.321228816573377,
          2.9167509667860716,
          1.6617741536365307,
          1.8034019529650904,
          2.1655917960801445,
          1.3461635794584508,
          1.5859282238732202,
          1.9044563747934262,
          1.9496890593990686,
          3.487055364290279,
          3.7956454220728832,
          1.3007917126376562,
          2.4278179130660447,
          1.19900110546556,
          3.4999200389245373,
          1.3887661316914643,
          2.275430503872204,
          2.61409047381083,
          1.2585081605114872,
          1.2911320591150202,
          2.1236087227738936,
          2.388003016003467,
          2.84167277810387,
          3.2306736614320926,
          2.159437642489049,
          1.4441612423295087,
          1.7812948100451116,
          3.0764999316871866,
          2.144243314302081,
          1.905098148814075,
          1.1693263393414994,
          2.1076111432572415,
          2.314154705235599,
          1.9222678009026004,
          1.4152358767039017,
          2.5630133750774746,
          2.418746182732824,
          1.9441097945469674,
          1.5271666148145162,
          1.764345717044428,
          1.9009416142184223,
          1.3901888619479128
         ],
         "y": [
          0.3193972465851019,
          -0.1770012250647806,
          -0.1449494260855574,
          -0.318298979251916,
          0.32675451293491986,
          0.7413304490629148,
          -0.08946138452856864,
          0.16338495969832853,
          -0.5783117541867039,
          -0.113774245874117,
          0.6450688986485736,
          0.01472993916137452,
          -0.23511200020171857,
          -0.5113945870063822,
          1.1787646364375746,
          1.3380623304006525,
          0.8106795141812576,
          0.3118491445933546,
          0.8728390389622105,
          0.5135603087492768,
          0.39134593565389386,
          0.4329960632790281,
          0.13346806953852594,
          0.09870885481409934,
          -0.0372818596773825,
          -0.14601688049526793,
          0.1309514894352502,
          0.36771885743419974,
          0.31203998023528257,
          -0.1969612249243145,
          -0.20431849127413348,
          0.4109242642295726,
          0.813363820296962,
          1.0931457594493568,
          -0.12132234786586332,
          0.06936447158008034,
          0.5993700213794232,
          0.2686437377979823,
          -0.48795834442861535,
          0.22904383682701246,
          0.2635275337442564,
          -0.9409605736411969,
          -0.34192605747160976,
          0.18887142893026038,
          0.43666314163918785,
          -0.2502082041852112,
          0.5037711444614376,
          -0.22794556949382755,
          0.5794100215198891,
          0.10770608249941149,
          0.6851604704673079,
          0.31833363826262856,
          0.5042628153092035,
          -0.8279590118206324,
          0.07459067519771564,
          -0.41824687156867885,
          0.2834682700615288,
          -1.0048909611818952,
          0.22836189978839497,
          -0.7230819050048339,
          -1.2659711905263937,
          -0.10398123549904056,
          -0.5500364636804753,
          -0.12481785412635768,
          -0.2548542087025894,
          0.4671794944415099,
          -0.3529696657238504,
          -0.3336107668249157,
          -0.543145550779767,
          -0.5838343774718646,
          -0.084616852194788,
          -0.06892503165601434,
          -0.3277873083339178,
          -0.1827377936213678,
          0.14905594436978423,
          0.3285044738343227,
          0.24444087601634273,
          0.2674954473102542,
          -0.16335030068761647,
          -0.36826218975458824,
          -0.7051721317994655,
          -0.6802867635281334,
          -0.314032438249237,
          -0.42095428731388196,
          -0.48428741998121805,
          0.19418231471315084,
          0.4076195936110067,
          -0.37203705990950237,
          -0.26852439662201494,
          -0.6819267248636268,
          -0.6707115445117204,
          -0.03446444436826911,
          -0.4043858480073254,
          -1.0122482275317142,
          -0.5049100933371088,
          -0.21265468378116992,
          -0.29321892925141907,
          0.017738190112415883,
          -0.7560933665990142,
          -0.3488978064503361,
          -0.009849109498801911,
          -0.5749163475464893,
          0.3439031513417337,
          -0.17972790435224567,
          -0.04026094714253125,
          0.5508366730280546,
          -1.1927587270006448,
          0.3555000029774955,
          -0.24383150231069114,
          0.7827919488152782,
          0.24222840775506682,
          -0.21563761733355571,
          0.21627558507402428,
          -0.7768183473443396,
          -0.5396407140267185,
          0.11925069209197257,
          0.04194325966321107,
          1.1757393297134286,
          0.25732297342047844,
          -0.7611496364350638,
          0.3781960126170504,
          -0.6060915277579304,
          0.4606740989118939,
          -0.20439932735215122,
          0.33499060582167717,
          0.560901355123077,
          -0.1797047947227469,
          -0.11666865117401158,
          -0.20972947667730288,
          0.4646398047087356,
          0.3752691671951024,
          1.3741650867930466,
          -0.2172775786690492,
          -0.1434134104575811,
          -0.49990168107813676,
          0.6880856775711748,
          0.14006420108978998,
          0.049300526013029984,
          -0.16499026202310965,
          0.37228787196079716,
          0.18365127916901874,
          0.40920346681606173,
          -0.5749163475464893,
          0.27786260292919446,
          0.30479819785469187,
          0.1875323028006049,
          -0.37531698258048873,
          0.07885885451847545,
          0.11662795851202377,
          -0.2826609379905505
         ],
         "z": [
          -0.027914827589415922,
          -0.2104642723782446,
          0.017900256320890217,
          0.03155937360568086,
          0.09007924055120108,
          0.1686776582091044,
          0.2578921582556178,
          -0.02187931788671982,
          0.020759570264780182,
          -0.19763272498814655,
          -0.07531800937912041,
          0.1021502599565897,
          -0.2068444304496446,
          0.06129967245709912,
          -0.15162752361780948,
          0.2777769027031353,
          0.13818322788071913,
          0.02666831561259374,
          -0.12030552339473123,
          0.21366517222471557,
          -0.23944404324495358,
          0.20845723241671485,
          0.2923967507452421,
          0.03912325874288064,
          0.12502108270287865,
          -0.25342004234465765,
          0.09491057609939167,
          -0.0784942051379244,
          -0.1459088957300293,
          0.04077107906717903,
          -0.07722298907343583,
          -0.14552497200513095,
          0.22566914972011914,
          0.1578108129582197,
          -0.14304958178613902,
          -0.1643323066530257,
          -0.26835037569393644,
          0.0936990824797999,
          0.07292704569269244,
          -0.08008230301732615,
          0.07724769316110373,
          -0.34923037730596634,
          0.19250921171270968,
          0.26386794551341536,
          0.29874274575510845,
          -0.09767814404562948,
          0.16670563660480434,
          0.08372684903359322,
          -0.01711502424851357,
          -0.08929400847882475,
          -0.4065680254676944,
          -0.01801418664624051,
          -0.33832576498089645,
          -0.17959139187535522,
          -0.3077578962347849,
          0.04107609082395585,
          0.16981023986057497,
          0.012302919237595331,
          -0.4153360847593978,
          0.2811414311764098,
          -0.2698171827688525,
          0.13054775024048604,
          -0.694146830144419,
          -0.062114408322261234,
          0.09045769072570443,
          -0.3146209758321725,
          0.32802752837859506,
          -0.27116183725106685,
          -0.4995190464851129,
          -0.23500210497205587,
          0.4596209913591038,
          -0.22985388760895153,
          -0.3478543522573082,
          -0.23107177773628498,
          -0.32180093724447406,
          -0.31620907371157425,
          -0.5217027796644194,
          -0.16492098374358052,
          0.03542450484616004,
          -0.318491580623047,
          -0.24421381043355445,
          -0.3064205612176583,
          -0.17724276601124433,
          0.016167127520728637,
          0.4444334986398076,
          0.38896306309821044,
          -0.237167009883876,
          -0.6147208425918221,
          0.1883668116461946,
          -0.06000922585533809,
          -0.024306855718951755,
          -0.009946932894349024,
          -0.22941024143915661,
          -0.10569114890301955,
          0.016617170198265408,
          0.08320429089567645,
          0.07799635108767548,
          -0.2053949669832609,
          -0.012599647557890057,
          0.010581660495570577,
          0.7601654272458953,
          0.2963225273879644,
          -0.11078788321910908,
          0.10842466246342275,
          0.28538956318444125,
          -0.34843755579746755,
          0.5456592956468127,
          -0.4202399357679682,
          -0.34830439493484516,
          0.42333541768255817,
          0.2424401897257689,
          -0.03764816823148248,
          0.033326641844325135,
          0.28190288211846487,
          0.6290293264080106,
          0.47963981962659047,
          0.0441861676301219,
          0.1338948739360979,
          -0.5137677638178045,
          -0.344995038313418,
          0.21911932430194317,
          0.511855508697001,
          -0.5731822425680028,
          -0.06452275663126839,
          0.2861500911691496,
          -0.20553452435362518,
          0.04584770392724995,
          0.23125646265997035,
          0.15418002392883004,
          -0.44953019194185,
          -0.498898075870769,
          -0.1145482054754195,
          0.20876316713083762,
          -0.15323388806309016,
          -0.17287518911342004,
          -0.335592292434541,
          0.7348789367255109,
          0.1621802357707368,
          0.2818358402084803,
          0.02729113214163061,
          0.32269374717305893,
          0.1135865957993566,
          0.2963225273879644,
          0.2925695245967426,
          0.5044826639771798,
          0.17782509063265742,
          -0.12189817186718173,
          0.13048163128784807,
          0.7232515634899168,
          0.3629096480853755
         ]
        }
       ],
       "layout": {
        "template": {
         "data": {
          "bar": [
           {
            "error_x": {
             "color": "#2a3f5f"
            },
            "error_y": {
             "color": "#2a3f5f"
            },
            "marker": {
             "line": {
              "color": "#E5ECF6",
              "width": 0.5
             }
            },
            "type": "bar"
           }
          ],
          "barpolar": [
           {
            "marker": {
             "line": {
              "color": "#E5ECF6",
              "width": 0.5
             }
            },
            "type": "barpolar"
           }
          ],
          "carpet": [
           {
            "aaxis": {
             "endlinecolor": "#2a3f5f",
             "gridcolor": "white",
             "linecolor": "white",
             "minorgridcolor": "white",
             "startlinecolor": "#2a3f5f"
            },
            "baxis": {
             "endlinecolor": "#2a3f5f",
             "gridcolor": "white",
             "linecolor": "white",
             "minorgridcolor": "white",
             "startlinecolor": "#2a3f5f"
            },
            "type": "carpet"
           }
          ],
          "choropleth": [
           {
            "colorbar": {
             "outlinewidth": 0,
             "ticks": ""
            },
            "type": "choropleth"
           }
          ],
          "contour": [
           {
            "colorbar": {
             "outlinewidth": 0,
             "ticks": ""
            },
            "colorscale": [
             [
              0,
              "#0d0887"
             ],
             [
              0.1111111111111111,
              "#46039f"
             ],
             [
              0.2222222222222222,
              "#7201a8"
             ],
             [
              0.3333333333333333,
              "#9c179e"
             ],
             [
              0.4444444444444444,
              "#bd3786"
             ],
             [
              0.5555555555555556,
              "#d8576b"
             ],
             [
              0.6666666666666666,
              "#ed7953"
             ],
             [
              0.7777777777777778,
              "#fb9f3a"
             ],
             [
              0.8888888888888888,
              "#fdca26"
             ],
             [
              1,
              "#f0f921"
             ]
            ],
            "type": "contour"
           }
          ],
          "contourcarpet": [
           {
            "colorbar": {
             "outlinewidth": 0,
             "ticks": ""
            },
            "type": "contourcarpet"
           }
          ],
          "heatmap": [
           {
            "colorbar": {
             "outlinewidth": 0,
             "ticks": ""
            },
            "colorscale": [
             [
              0,
              "#0d0887"
             ],
             [
              0.1111111111111111,
              "#46039f"
             ],
             [
              0.2222222222222222,
              "#7201a8"
             ],
             [
              0.3333333333333333,
              "#9c179e"
             ],
             [
              0.4444444444444444,
              "#bd3786"
             ],
             [
              0.5555555555555556,
              "#d8576b"
             ],
             [
              0.6666666666666666,
              "#ed7953"
             ],
             [
              0.7777777777777778,
              "#fb9f3a"
             ],
             [
              0.8888888888888888,
              "#fdca26"
             ],
             [
              1,
              "#f0f921"
             ]
            ],
            "type": "heatmap"
           }
          ],
          "heatmapgl": [
           {
            "colorbar": {
             "outlinewidth": 0,
             "ticks": ""
            },
            "colorscale": [
             [
              0,
              "#0d0887"
             ],
             [
              0.1111111111111111,
              "#46039f"
             ],
             [
              0.2222222222222222,
              "#7201a8"
             ],
             [
              0.3333333333333333,
              "#9c179e"
             ],
             [
              0.4444444444444444,
              "#bd3786"
             ],
             [
              0.5555555555555556,
              "#d8576b"
             ],
             [
              0.6666666666666666,
              "#ed7953"
             ],
             [
              0.7777777777777778,
              "#fb9f3a"
             ],
             [
              0.8888888888888888,
              "#fdca26"
             ],
             [
              1,
              "#f0f921"
             ]
            ],
            "type": "heatmapgl"
           }
          ],
          "histogram": [
           {
            "marker": {
             "colorbar": {
              "outlinewidth": 0,
              "ticks": ""
             }
            },
            "type": "histogram"
           }
          ],
          "histogram2d": [
           {
            "colorbar": {
             "outlinewidth": 0,
             "ticks": ""
            },
            "colorscale": [
             [
              0,
              "#0d0887"
             ],
             [
              0.1111111111111111,
              "#46039f"
             ],
             [
              0.2222222222222222,
              "#7201a8"
             ],
             [
              0.3333333333333333,
              "#9c179e"
             ],
             [
              0.4444444444444444,
              "#bd3786"
             ],
             [
              0.5555555555555556,
              "#d8576b"
             ],
             [
              0.6666666666666666,
              "#ed7953"
             ],
             [
              0.7777777777777778,
              "#fb9f3a"
             ],
             [
              0.8888888888888888,
              "#fdca26"
             ],
             [
              1,
              "#f0f921"
             ]
            ],
            "type": "histogram2d"
           }
          ],
          "histogram2dcontour": [
           {
            "colorbar": {
             "outlinewidth": 0,
             "ticks": ""
            },
            "colorscale": [
             [
              0,
              "#0d0887"
             ],
             [
              0.1111111111111111,
              "#46039f"
             ],
             [
              0.2222222222222222,
              "#7201a8"
             ],
             [
              0.3333333333333333,
              "#9c179e"
             ],
             [
              0.4444444444444444,
              "#bd3786"
             ],
             [
              0.5555555555555556,
              "#d8576b"
             ],
             [
              0.6666666666666666,
              "#ed7953"
             ],
             [
              0.7777777777777778,
              "#fb9f3a"
             ],
             [
              0.8888888888888888,
              "#fdca26"
             ],
             [
              1,
              "#f0f921"
             ]
            ],
            "type": "histogram2dcontour"
           }
          ],
          "mesh3d": [
           {
            "colorbar": {
             "outlinewidth": 0,
             "ticks": ""
            },
            "type": "mesh3d"
           }
          ],
          "parcoords": [
           {
            "line": {
             "colorbar": {
              "outlinewidth": 0,
              "ticks": ""
             }
            },
            "type": "parcoords"
           }
          ],
          "pie": [
           {
            "automargin": true,
            "type": "pie"
           }
          ],
          "scatter": [
           {
            "marker": {
             "colorbar": {
              "outlinewidth": 0,
              "ticks": ""
             }
            },
            "type": "scatter"
           }
          ],
          "scatter3d": [
           {
            "line": {
             "colorbar": {
              "outlinewidth": 0,
              "ticks": ""
             }
            },
            "marker": {
             "colorbar": {
              "outlinewidth": 0,
              "ticks": ""
             }
            },
            "type": "scatter3d"
           }
          ],
          "scattercarpet": [
           {
            "marker": {
             "colorbar": {
              "outlinewidth": 0,
              "ticks": ""
             }
            },
            "type": "scattercarpet"
           }
          ],
          "scattergeo": [
           {
            "marker": {
             "colorbar": {
              "outlinewidth": 0,
              "ticks": ""
             }
            },
            "type": "scattergeo"
           }
          ],
          "scattergl": [
           {
            "marker": {
             "colorbar": {
              "outlinewidth": 0,
              "ticks": ""
             }
            },
            "type": "scattergl"
           }
          ],
          "scattermapbox": [
           {
            "marker": {
             "colorbar": {
              "outlinewidth": 0,
              "ticks": ""
             }
            },
            "type": "scattermapbox"
           }
          ],
          "scatterpolar": [
           {
            "marker": {
             "colorbar": {
              "outlinewidth": 0,
              "ticks": ""
             }
            },
            "type": "scatterpolar"
           }
          ],
          "scatterpolargl": [
           {
            "marker": {
             "colorbar": {
              "outlinewidth": 0,
              "ticks": ""
             }
            },
            "type": "scatterpolargl"
           }
          ],
          "scatterternary": [
           {
            "marker": {
             "colorbar": {
              "outlinewidth": 0,
              "ticks": ""
             }
            },
            "type": "scatterternary"
           }
          ],
          "surface": [
           {
            "colorbar": {
             "outlinewidth": 0,
             "ticks": ""
            },
            "colorscale": [
             [
              0,
              "#0d0887"
             ],
             [
              0.1111111111111111,
              "#46039f"
             ],
             [
              0.2222222222222222,
              "#7201a8"
             ],
             [
              0.3333333333333333,
              "#9c179e"
             ],
             [
              0.4444444444444444,
              "#bd3786"
             ],
             [
              0.5555555555555556,
              "#d8576b"
             ],
             [
              0.6666666666666666,
              "#ed7953"
             ],
             [
              0.7777777777777778,
              "#fb9f3a"
             ],
             [
              0.8888888888888888,
              "#fdca26"
             ],
             [
              1,
              "#f0f921"
             ]
            ],
            "type": "surface"
           }
          ],
          "table": [
           {
            "cells": {
             "fill": {
              "color": "#EBF0F8"
             },
             "line": {
              "color": "white"
             }
            },
            "header": {
             "fill": {
              "color": "#C8D4E3"
             },
             "line": {
              "color": "white"
             }
            },
            "type": "table"
           }
          ]
         },
         "layout": {
          "annotationdefaults": {
           "arrowcolor": "#2a3f5f",
           "arrowhead": 0,
           "arrowwidth": 1
          },
          "coloraxis": {
           "colorbar": {
            "outlinewidth": 0,
            "ticks": ""
           }
          },
          "colorscale": {
           "diverging": [
            [
             0,
             "#8e0152"
            ],
            [
             0.1,
             "#c51b7d"
            ],
            [
             0.2,
             "#de77ae"
            ],
            [
             0.3,
             "#f1b6da"
            ],
            [
             0.4,
             "#fde0ef"
            ],
            [
             0.5,
             "#f7f7f7"
            ],
            [
             0.6,
             "#e6f5d0"
            ],
            [
             0.7,
             "#b8e186"
            ],
            [
             0.8,
             "#7fbc41"
            ],
            [
             0.9,
             "#4d9221"
            ],
            [
             1,
             "#276419"
            ]
           ],
           "sequential": [
            [
             0,
             "#0d0887"
            ],
            [
             0.1111111111111111,
             "#46039f"
            ],
            [
             0.2222222222222222,
             "#7201a8"
            ],
            [
             0.3333333333333333,
             "#9c179e"
            ],
            [
             0.4444444444444444,
             "#bd3786"
            ],
            [
             0.5555555555555556,
             "#d8576b"
            ],
            [
             0.6666666666666666,
             "#ed7953"
            ],
            [
             0.7777777777777778,
             "#fb9f3a"
            ],
            [
             0.8888888888888888,
             "#fdca26"
            ],
            [
             1,
             "#f0f921"
            ]
           ],
           "sequentialminus": [
            [
             0,
             "#0d0887"
            ],
            [
             0.1111111111111111,
             "#46039f"
            ],
            [
             0.2222222222222222,
             "#7201a8"
            ],
            [
             0.3333333333333333,
             "#9c179e"
            ],
            [
             0.4444444444444444,
             "#bd3786"
            ],
            [
             0.5555555555555556,
             "#d8576b"
            ],
            [
             0.6666666666666666,
             "#ed7953"
            ],
            [
             0.7777777777777778,
             "#fb9f3a"
            ],
            [
             0.8888888888888888,
             "#fdca26"
            ],
            [
             1,
             "#f0f921"
            ]
           ]
          },
          "colorway": [
           "#636efa",
           "#EF553B",
           "#00cc96",
           "#ab63fa",
           "#FFA15A",
           "#19d3f3",
           "#FF6692",
           "#B6E880",
           "#FF97FF",
           "#FECB52"
          ],
          "font": {
           "color": "#2a3f5f"
          },
          "geo": {
           "bgcolor": "white",
           "lakecolor": "white",
           "landcolor": "#E5ECF6",
           "showlakes": true,
           "showland": true,
           "subunitcolor": "white"
          },
          "hoverlabel": {
           "align": "left"
          },
          "hovermode": "closest",
          "mapbox": {
           "style": "light"
          },
          "paper_bgcolor": "white",
          "plot_bgcolor": "#E5ECF6",
          "polar": {
           "angularaxis": {
            "gridcolor": "white",
            "linecolor": "white",
            "ticks": ""
           },
           "bgcolor": "#E5ECF6",
           "radialaxis": {
            "gridcolor": "white",
            "linecolor": "white",
            "ticks": ""
           }
          },
          "scene": {
           "xaxis": {
            "backgroundcolor": "#E5ECF6",
            "gridcolor": "white",
            "gridwidth": 2,
            "linecolor": "white",
            "showbackground": true,
            "ticks": "",
            "zerolinecolor": "white"
           },
           "yaxis": {
            "backgroundcolor": "#E5ECF6",
            "gridcolor": "white",
            "gridwidth": 2,
            "linecolor": "white",
            "showbackground": true,
            "ticks": "",
            "zerolinecolor": "white"
           },
           "zaxis": {
            "backgroundcolor": "#E5ECF6",
            "gridcolor": "white",
            "gridwidth": 2,
            "linecolor": "white",
            "showbackground": true,
            "ticks": "",
            "zerolinecolor": "white"
           }
          },
          "shapedefaults": {
           "line": {
            "color": "#2a3f5f"
           }
          },
          "ternary": {
           "aaxis": {
            "gridcolor": "white",
            "linecolor": "white",
            "ticks": ""
           },
           "baxis": {
            "gridcolor": "white",
            "linecolor": "white",
            "ticks": ""
           },
           "bgcolor": "#E5ECF6",
           "caxis": {
            "gridcolor": "white",
            "linecolor": "white",
            "ticks": ""
           }
          },
          "title": {
           "x": 0.05
          },
          "xaxis": {
           "automargin": true,
           "gridcolor": "white",
           "linecolor": "white",
           "ticks": "",
           "title": {
            "standoff": 15
           },
           "zerolinecolor": "white",
           "zerolinewidth": 2
          },
          "yaxis": {
           "automargin": true,
           "gridcolor": "white",
           "linecolor": "white",
           "ticks": "",
           "title": {
            "standoff": 15
           },
           "zerolinecolor": "white",
           "zerolinewidth": 2
          }
         }
        }
       }
      },
      "text/html": [
       "<div>\n",
       "        \n",
       "        \n",
       "            <div id=\"a995f013-c4df-41c5-b0b7-f82eb13538cc\" class=\"plotly-graph-div\" style=\"height:525px; width:100%;\"></div>\n",
       "            <script type=\"text/javascript\">\n",
       "                require([\"plotly\"], function(Plotly) {\n",
       "                    window.PLOTLYENV=window.PLOTLYENV || {};\n",
       "                    \n",
       "                if (document.getElementById(\"a995f013-c4df-41c5-b0b7-f82eb13538cc\")) {\n",
       "                    Plotly.newPlot(\n",
       "                        'a995f013-c4df-41c5-b0b7-f82eb13538cc',\n",
       "                        [{\"type\": \"scatter3d\", \"x\": [-2.6841256259695383, -2.7141416872943265, -2.888990569059297, -2.74534285564141, -2.7287165365545305, -2.2808596328444923, -2.820537750740609, -2.626144973146633, -2.8863827317805537, -2.672755797820954, -2.5069470906518565, -2.6127552309087236, -2.786109266188018, -3.2238037438656524, -2.644750389942029, -2.3860390335311337, -2.6235278752244264, -2.648296706254382, -2.19982032361758, -2.5879863998787687, -2.3102562152425183, -2.543705228757157, -3.215939415648612, -2.302733182226207, -2.3557540491237727, -2.5066689069258223, -2.468820073121339, -2.562319906196016, -2.639534715384543, -2.6319893872743467, -2.5873984766893527, -2.409932497002175, -2.6488623343499125, -2.5987367491005875, -2.6369268781057995, -2.8662416521186698, -2.6252380498503727, -2.8006841154482225, -2.980502043781994, -2.5900063139680967, -2.7701024260279024, -2.849368705043105, -2.9974065465949082, -2.4056144850974865, -2.2094892377836794, -2.714451426757708, -2.53814825899894, -2.8394621676428504, -2.543085749830393, -2.70335978233516, 1.284825688858351, 0.9324885323123177, 1.4643023219913933, 0.18331771995836996, 1.0881032577116654, 0.6416690842580771, 1.0950606626324462, -0.749122669829658, 1.0441318260534351, -0.008745404082896726, -0.5078408838353264, 0.511698557447597, 0.26497650811204604, 0.9849345104708895, -0.1739253716817684, 0.9278607809442467, 0.6602837616969366, 0.23610499331767107, 0.9447337280198126, 0.0452269762986993, 1.116283177350049, 0.3578884179973068, 1.298183875358913, 0.9217289224470363, 0.7148533259114112, 0.9001743731721669, 1.332024436722088, 1.55780215506607, 0.8132906498175407, -0.30558377802430947, -0.06812649206836419, -0.18962247237850252, 0.13642871155801442, 1.38002643591551, 0.5880064433398626, 0.8068583125004115, 1.2206908824443523, 0.815095235766599, 0.2459576798866918, 0.1664132171454563, 0.46480028840377874, 0.8908151984694487, 0.23054802355945478, -0.7045317592446642, 0.3569814947010465, 0.33193447994505776, 0.3762156510666698, 0.6425760075543373, -0.9064698649488364, 0.2990008418781428, 2.531192727803627, 1.4152358767039017, 2.616676015995689, 1.9715310530434347, 2.3500059200446395, 3.3970387360532572, 0.5212322439097725, 2.9325870689936875, 2.321228816573377, 2.9167509667860716, 1.6617741536365307, 1.8034019529650904, 2.1655917960801445, 1.3461635794584508, 1.5859282238732202, 1.9044563747934262, 1.9496890593990686, 3.487055364290279, 3.7956454220728832, 1.3007917126376562, 2.4278179130660447, 1.19900110546556, 3.4999200389245373, 1.3887661316914643, 2.275430503872204, 2.61409047381083, 1.2585081605114872, 1.2911320591150202, 2.1236087227738936, 2.388003016003467, 2.84167277810387, 3.2306736614320926, 2.159437642489049, 1.4441612423295087, 1.7812948100451116, 3.0764999316871866, 2.144243314302081, 1.905098148814075, 1.1693263393414994, 2.1076111432572415, 2.314154705235599, 1.9222678009026004, 1.4152358767039017, 2.5630133750774746, 2.418746182732824, 1.9441097945469674, 1.5271666148145162, 1.764345717044428, 1.9009416142184223, 1.3901888619479128], \"y\": [0.3193972465851019, -0.1770012250647806, -0.1449494260855574, -0.318298979251916, 0.32675451293491986, 0.7413304490629148, -0.08946138452856864, 0.16338495969832853, -0.5783117541867039, -0.113774245874117, 0.6450688986485736, 0.01472993916137452, -0.23511200020171857, -0.5113945870063822, 1.1787646364375746, 1.3380623304006525, 0.8106795141812576, 0.3118491445933546, 0.8728390389622105, 0.5135603087492768, 0.39134593565389386, 0.4329960632790281, 0.13346806953852594, 0.09870885481409934, -0.0372818596773825, -0.14601688049526793, 0.1309514894352502, 0.36771885743419974, 0.31203998023528257, -0.1969612249243145, -0.20431849127413348, 0.4109242642295726, 0.813363820296962, 1.0931457594493568, -0.12132234786586332, 0.06936447158008034, 0.5993700213794232, 0.2686437377979823, -0.48795834442861535, 0.22904383682701246, 0.2635275337442564, -0.9409605736411969, -0.34192605747160976, 0.18887142893026038, 0.43666314163918785, -0.2502082041852112, 0.5037711444614376, -0.22794556949382755, 0.5794100215198891, 0.10770608249941149, 0.6851604704673079, 0.31833363826262856, 0.5042628153092035, -0.8279590118206324, 0.07459067519771564, -0.41824687156867885, 0.2834682700615288, -1.0048909611818952, 0.22836189978839497, -0.7230819050048339, -1.2659711905263937, -0.10398123549904056, -0.5500364636804753, -0.12481785412635768, -0.2548542087025894, 0.4671794944415099, -0.3529696657238504, -0.3336107668249157, -0.543145550779767, -0.5838343774718646, -0.084616852194788, -0.06892503165601434, -0.3277873083339178, -0.1827377936213678, 0.14905594436978423, 0.3285044738343227, 0.24444087601634273, 0.2674954473102542, -0.16335030068761647, -0.36826218975458824, -0.7051721317994655, -0.6802867635281334, -0.314032438249237, -0.42095428731388196, -0.48428741998121805, 0.19418231471315084, 0.4076195936110067, -0.37203705990950237, -0.26852439662201494, -0.6819267248636268, -0.6707115445117204, -0.03446444436826911, -0.4043858480073254, -1.0122482275317142, -0.5049100933371088, -0.21265468378116992, -0.29321892925141907, 0.017738190112415883, -0.7560933665990142, -0.3488978064503361, -0.009849109498801911, -0.5749163475464893, 0.3439031513417337, -0.17972790435224567, -0.04026094714253125, 0.5508366730280546, -1.1927587270006448, 0.3555000029774955, -0.24383150231069114, 0.7827919488152782, 0.24222840775506682, -0.21563761733355571, 0.21627558507402428, -0.7768183473443396, -0.5396407140267185, 0.11925069209197257, 0.04194325966321107, 1.1757393297134286, 0.25732297342047844, -0.7611496364350638, 0.3781960126170504, -0.6060915277579304, 0.4606740989118939, -0.20439932735215122, 0.33499060582167717, 0.560901355123077, -0.1797047947227469, -0.11666865117401158, -0.20972947667730288, 0.4646398047087356, 0.3752691671951024, 1.3741650867930466, -0.2172775786690492, -0.1434134104575811, -0.49990168107813676, 0.6880856775711748, 0.14006420108978998, 0.049300526013029984, -0.16499026202310965, 0.37228787196079716, 0.18365127916901874, 0.40920346681606173, -0.5749163475464893, 0.27786260292919446, 0.30479819785469187, 0.1875323028006049, -0.37531698258048873, 0.07885885451847545, 0.11662795851202377, -0.2826609379905505], \"z\": [-0.027914827589415922, -0.2104642723782446, 0.017900256320890217, 0.03155937360568086, 0.09007924055120108, 0.1686776582091044, 0.2578921582556178, -0.02187931788671982, 0.020759570264780182, -0.19763272498814655, -0.07531800937912041, 0.1021502599565897, -0.2068444304496446, 0.06129967245709912, -0.15162752361780948, 0.2777769027031353, 0.13818322788071913, 0.02666831561259374, -0.12030552339473123, 0.21366517222471557, -0.23944404324495358, 0.20845723241671485, 0.2923967507452421, 0.03912325874288064, 0.12502108270287865, -0.25342004234465765, 0.09491057609939167, -0.0784942051379244, -0.1459088957300293, 0.04077107906717903, -0.07722298907343583, -0.14552497200513095, 0.22566914972011914, 0.1578108129582197, -0.14304958178613902, -0.1643323066530257, -0.26835037569393644, 0.0936990824797999, 0.07292704569269244, -0.08008230301732615, 0.07724769316110373, -0.34923037730596634, 0.19250921171270968, 0.26386794551341536, 0.29874274575510845, -0.09767814404562948, 0.16670563660480434, 0.08372684903359322, -0.01711502424851357, -0.08929400847882475, -0.4065680254676944, -0.01801418664624051, -0.33832576498089645, -0.17959139187535522, -0.3077578962347849, 0.04107609082395585, 0.16981023986057497, 0.012302919237595331, -0.4153360847593978, 0.2811414311764098, -0.2698171827688525, 0.13054775024048604, -0.694146830144419, -0.062114408322261234, 0.09045769072570443, -0.3146209758321725, 0.32802752837859506, -0.27116183725106685, -0.4995190464851129, -0.23500210497205587, 0.4596209913591038, -0.22985388760895153, -0.3478543522573082, -0.23107177773628498, -0.32180093724447406, -0.31620907371157425, -0.5217027796644194, -0.16492098374358052, 0.03542450484616004, -0.318491580623047, -0.24421381043355445, -0.3064205612176583, -0.17724276601124433, 0.016167127520728637, 0.4444334986398076, 0.38896306309821044, -0.237167009883876, -0.6147208425918221, 0.1883668116461946, -0.06000922585533809, -0.024306855718951755, -0.009946932894349024, -0.22941024143915661, -0.10569114890301955, 0.016617170198265408, 0.08320429089567645, 0.07799635108767548, -0.2053949669832609, -0.012599647557890057, 0.010581660495570577, 0.7601654272458953, 0.2963225273879644, -0.11078788321910908, 0.10842466246342275, 0.28538956318444125, -0.34843755579746755, 0.5456592956468127, -0.4202399357679682, -0.34830439493484516, 0.42333541768255817, 0.2424401897257689, -0.03764816823148248, 0.033326641844325135, 0.28190288211846487, 0.6290293264080106, 0.47963981962659047, 0.0441861676301219, 0.1338948739360979, -0.5137677638178045, -0.344995038313418, 0.21911932430194317, 0.511855508697001, -0.5731822425680028, -0.06452275663126839, 0.2861500911691496, -0.20553452435362518, 0.04584770392724995, 0.23125646265997035, 0.15418002392883004, -0.44953019194185, -0.498898075870769, -0.1145482054754195, 0.20876316713083762, -0.15323388806309016, -0.17287518911342004, -0.335592292434541, 0.7348789367255109, 0.1621802357707368, 0.2818358402084803, 0.02729113214163061, 0.32269374717305893, 0.1135865957993566, 0.2963225273879644, 0.2925695245967426, 0.5044826639771798, 0.17782509063265742, -0.12189817186718173, 0.13048163128784807, 0.7232515634899168, 0.3629096480853755]}, {\"type\": \"scatter3d\", \"x\": [-2.6841256259695383, -2.7141416872943265, -2.888990569059297, -2.74534285564141, -2.7287165365545305, -2.2808596328444923, -2.820537750740609, -2.626144973146633, -2.8863827317805537, -2.672755797820954, -2.5069470906518565, -2.6127552309087236, -2.786109266188018, -3.2238037438656524, -2.644750389942029, -2.3860390335311337, -2.6235278752244264, -2.648296706254382, -2.19982032361758, -2.5879863998787687, -2.3102562152425183, -2.543705228757157, -3.215939415648612, -2.302733182226207, -2.3557540491237727, -2.5066689069258223, -2.468820073121339, -2.562319906196016, -2.639534715384543, -2.6319893872743467, -2.5873984766893527, -2.409932497002175, -2.6488623343499125, -2.5987367491005875, -2.6369268781057995, -2.8662416521186698, -2.6252380498503727, -2.8006841154482225, -2.980502043781994, -2.5900063139680967, -2.7701024260279024, -2.849368705043105, -2.9974065465949082, -2.4056144850974865, -2.2094892377836794, -2.714451426757708, -2.53814825899894, -2.8394621676428504, -2.543085749830393, -2.70335978233516, 1.284825688858351, 0.9324885323123177, 1.4643023219913933, 0.18331771995836996, 1.0881032577116654, 0.6416690842580771, 1.0950606626324462, -0.749122669829658, 1.0441318260534351, -0.008745404082896726, -0.5078408838353264, 0.511698557447597, 0.26497650811204604, 0.9849345104708895, -0.1739253716817684, 0.9278607809442467, 0.6602837616969366, 0.23610499331767107, 0.9447337280198126, 0.0452269762986993, 1.116283177350049, 0.3578884179973068, 1.298183875358913, 0.9217289224470363, 0.7148533259114112, 0.9001743731721669, 1.332024436722088, 1.55780215506607, 0.8132906498175407, -0.30558377802430947, -0.06812649206836419, -0.18962247237850252, 0.13642871155801442, 1.38002643591551, 0.5880064433398626, 0.8068583125004115, 1.2206908824443523, 0.815095235766599, 0.2459576798866918, 0.1664132171454563, 0.46480028840377874, 0.8908151984694487, 0.23054802355945478, -0.7045317592446642, 0.3569814947010465, 0.33193447994505776, 0.3762156510666698, 0.6425760075543373, -0.9064698649488364, 0.2990008418781428, 2.531192727803627, 1.4152358767039017, 2.616676015995689, 1.9715310530434347, 2.3500059200446395, 3.3970387360532572, 0.5212322439097725, 2.9325870689936875, 2.321228816573377, 2.9167509667860716, 1.6617741536365307, 1.8034019529650904, 2.1655917960801445, 1.3461635794584508, 1.5859282238732202, 1.9044563747934262, 1.9496890593990686, 3.487055364290279, 3.7956454220728832, 1.3007917126376562, 2.4278179130660447, 1.19900110546556, 3.4999200389245373, 1.3887661316914643, 2.275430503872204, 2.61409047381083, 1.2585081605114872, 1.2911320591150202, 2.1236087227738936, 2.388003016003467, 2.84167277810387, 3.2306736614320926, 2.159437642489049, 1.4441612423295087, 1.7812948100451116, 3.0764999316871866, 2.144243314302081, 1.905098148814075, 1.1693263393414994, 2.1076111432572415, 2.314154705235599, 1.9222678009026004, 1.4152358767039017, 2.5630133750774746, 2.418746182732824, 1.9441097945469674, 1.5271666148145162, 1.764345717044428, 1.9009416142184223, 1.3901888619479128], \"y\": [0.3193972465851019, -0.1770012250647806, -0.1449494260855574, -0.318298979251916, 0.32675451293491986, 0.7413304490629148, -0.08946138452856864, 0.16338495969832853, -0.5783117541867039, -0.113774245874117, 0.6450688986485736, 0.01472993916137452, -0.23511200020171857, -0.5113945870063822, 1.1787646364375746, 1.3380623304006525, 0.8106795141812576, 0.3118491445933546, 0.8728390389622105, 0.5135603087492768, 0.39134593565389386, 0.4329960632790281, 0.13346806953852594, 0.09870885481409934, -0.0372818596773825, -0.14601688049526793, 0.1309514894352502, 0.36771885743419974, 0.31203998023528257, -0.1969612249243145, -0.20431849127413348, 0.4109242642295726, 0.813363820296962, 1.0931457594493568, -0.12132234786586332, 0.06936447158008034, 0.5993700213794232, 0.2686437377979823, -0.48795834442861535, 0.22904383682701246, 0.2635275337442564, -0.9409605736411969, -0.34192605747160976, 0.18887142893026038, 0.43666314163918785, -0.2502082041852112, 0.5037711444614376, -0.22794556949382755, 0.5794100215198891, 0.10770608249941149, 0.6851604704673079, 0.31833363826262856, 0.5042628153092035, -0.8279590118206324, 0.07459067519771564, -0.41824687156867885, 0.2834682700615288, -1.0048909611818952, 0.22836189978839497, -0.7230819050048339, -1.2659711905263937, -0.10398123549904056, -0.5500364636804753, -0.12481785412635768, -0.2548542087025894, 0.4671794944415099, -0.3529696657238504, -0.3336107668249157, -0.543145550779767, -0.5838343774718646, -0.084616852194788, -0.06892503165601434, -0.3277873083339178, -0.1827377936213678, 0.14905594436978423, 0.3285044738343227, 0.24444087601634273, 0.2674954473102542, -0.16335030068761647, -0.36826218975458824, -0.7051721317994655, -0.6802867635281334, -0.314032438249237, -0.42095428731388196, -0.48428741998121805, 0.19418231471315084, 0.4076195936110067, -0.37203705990950237, -0.26852439662201494, -0.6819267248636268, -0.6707115445117204, -0.03446444436826911, -0.4043858480073254, -1.0122482275317142, -0.5049100933371088, -0.21265468378116992, -0.29321892925141907, 0.017738190112415883, -0.7560933665990142, -0.3488978064503361, -0.009849109498801911, -0.5749163475464893, 0.3439031513417337, -0.17972790435224567, -0.04026094714253125, 0.5508366730280546, -1.1927587270006448, 0.3555000029774955, -0.24383150231069114, 0.7827919488152782, 0.24222840775506682, -0.21563761733355571, 0.21627558507402428, -0.7768183473443396, -0.5396407140267185, 0.11925069209197257, 0.04194325966321107, 1.1757393297134286, 0.25732297342047844, -0.7611496364350638, 0.3781960126170504, -0.6060915277579304, 0.4606740989118939, -0.20439932735215122, 0.33499060582167717, 0.560901355123077, -0.1797047947227469, -0.11666865117401158, -0.20972947667730288, 0.4646398047087356, 0.3752691671951024, 1.3741650867930466, -0.2172775786690492, -0.1434134104575811, -0.49990168107813676, 0.6880856775711748, 0.14006420108978998, 0.049300526013029984, -0.16499026202310965, 0.37228787196079716, 0.18365127916901874, 0.40920346681606173, -0.5749163475464893, 0.27786260292919446, 0.30479819785469187, 0.1875323028006049, -0.37531698258048873, 0.07885885451847545, 0.11662795851202377, -0.2826609379905505], \"z\": [-0.027914827589415922, -0.2104642723782446, 0.017900256320890217, 0.03155937360568086, 0.09007924055120108, 0.1686776582091044, 0.2578921582556178, -0.02187931788671982, 0.020759570264780182, -0.19763272498814655, -0.07531800937912041, 0.1021502599565897, -0.2068444304496446, 0.06129967245709912, -0.15162752361780948, 0.2777769027031353, 0.13818322788071913, 0.02666831561259374, -0.12030552339473123, 0.21366517222471557, -0.23944404324495358, 0.20845723241671485, 0.2923967507452421, 0.03912325874288064, 0.12502108270287865, -0.25342004234465765, 0.09491057609939167, -0.0784942051379244, -0.1459088957300293, 0.04077107906717903, -0.07722298907343583, -0.14552497200513095, 0.22566914972011914, 0.1578108129582197, -0.14304958178613902, -0.1643323066530257, -0.26835037569393644, 0.0936990824797999, 0.07292704569269244, -0.08008230301732615, 0.07724769316110373, -0.34923037730596634, 0.19250921171270968, 0.26386794551341536, 0.29874274575510845, -0.09767814404562948, 0.16670563660480434, 0.08372684903359322, -0.01711502424851357, -0.08929400847882475, -0.4065680254676944, -0.01801418664624051, -0.33832576498089645, -0.17959139187535522, -0.3077578962347849, 0.04107609082395585, 0.16981023986057497, 0.012302919237595331, -0.4153360847593978, 0.2811414311764098, -0.2698171827688525, 0.13054775024048604, -0.694146830144419, -0.062114408322261234, 0.09045769072570443, -0.3146209758321725, 0.32802752837859506, -0.27116183725106685, -0.4995190464851129, -0.23500210497205587, 0.4596209913591038, -0.22985388760895153, -0.3478543522573082, -0.23107177773628498, -0.32180093724447406, -0.31620907371157425, -0.5217027796644194, -0.16492098374358052, 0.03542450484616004, -0.318491580623047, -0.24421381043355445, -0.3064205612176583, -0.17724276601124433, 0.016167127520728637, 0.4444334986398076, 0.38896306309821044, -0.237167009883876, -0.6147208425918221, 0.1883668116461946, -0.06000922585533809, -0.024306855718951755, -0.009946932894349024, -0.22941024143915661, -0.10569114890301955, 0.016617170198265408, 0.08320429089567645, 0.07799635108767548, -0.2053949669832609, -0.012599647557890057, 0.010581660495570577, 0.7601654272458953, 0.2963225273879644, -0.11078788321910908, 0.10842466246342275, 0.28538956318444125, -0.34843755579746755, 0.5456592956468127, -0.4202399357679682, -0.34830439493484516, 0.42333541768255817, 0.2424401897257689, -0.03764816823148248, 0.033326641844325135, 0.28190288211846487, 0.6290293264080106, 0.47963981962659047, 0.0441861676301219, 0.1338948739360979, -0.5137677638178045, -0.344995038313418, 0.21911932430194317, 0.511855508697001, -0.5731822425680028, -0.06452275663126839, 0.2861500911691496, -0.20553452435362518, 0.04584770392724995, 0.23125646265997035, 0.15418002392883004, -0.44953019194185, -0.498898075870769, -0.1145482054754195, 0.20876316713083762, -0.15323388806309016, -0.17287518911342004, -0.335592292434541, 0.7348789367255109, 0.1621802357707368, 0.2818358402084803, 0.02729113214163061, 0.32269374717305893, 0.1135865957993566, 0.2963225273879644, 0.2925695245967426, 0.5044826639771798, 0.17782509063265742, -0.12189817186718173, 0.13048163128784807, 0.7232515634899168, 0.3629096480853755]}, {\"type\": \"scatter3d\", \"x\": [-2.6841256259695383, -2.7141416872943265, -2.888990569059297, -2.74534285564141, -2.7287165365545305, -2.2808596328444923, -2.820537750740609, -2.626144973146633, -2.8863827317805537, -2.672755797820954, -2.5069470906518565, -2.6127552309087236, -2.786109266188018, -3.2238037438656524, -2.644750389942029, -2.3860390335311337, -2.6235278752244264, -2.648296706254382, -2.19982032361758, -2.5879863998787687, -2.3102562152425183, -2.543705228757157, -3.215939415648612, -2.302733182226207, -2.3557540491237727, -2.5066689069258223, -2.468820073121339, -2.562319906196016, -2.639534715384543, -2.6319893872743467, -2.5873984766893527, -2.409932497002175, -2.6488623343499125, -2.5987367491005875, -2.6369268781057995, -2.8662416521186698, -2.6252380498503727, -2.8006841154482225, -2.980502043781994, -2.5900063139680967, -2.7701024260279024, -2.849368705043105, -2.9974065465949082, -2.4056144850974865, -2.2094892377836794, -2.714451426757708, -2.53814825899894, -2.8394621676428504, -2.543085749830393, -2.70335978233516, 1.284825688858351, 0.9324885323123177, 1.4643023219913933, 0.18331771995836996, 1.0881032577116654, 0.6416690842580771, 1.0950606626324462, -0.749122669829658, 1.0441318260534351, -0.008745404082896726, -0.5078408838353264, 0.511698557447597, 0.26497650811204604, 0.9849345104708895, -0.1739253716817684, 0.9278607809442467, 0.6602837616969366, 0.23610499331767107, 0.9447337280198126, 0.0452269762986993, 1.116283177350049, 0.3578884179973068, 1.298183875358913, 0.9217289224470363, 0.7148533259114112, 0.9001743731721669, 1.332024436722088, 1.55780215506607, 0.8132906498175407, -0.30558377802430947, -0.06812649206836419, -0.18962247237850252, 0.13642871155801442, 1.38002643591551, 0.5880064433398626, 0.8068583125004115, 1.2206908824443523, 0.815095235766599, 0.2459576798866918, 0.1664132171454563, 0.46480028840377874, 0.8908151984694487, 0.23054802355945478, -0.7045317592446642, 0.3569814947010465, 0.33193447994505776, 0.3762156510666698, 0.6425760075543373, -0.9064698649488364, 0.2990008418781428, 2.531192727803627, 1.4152358767039017, 2.616676015995689, 1.9715310530434347, 2.3500059200446395, 3.3970387360532572, 0.5212322439097725, 2.9325870689936875, 2.321228816573377, 2.9167509667860716, 1.6617741536365307, 1.8034019529650904, 2.1655917960801445, 1.3461635794584508, 1.5859282238732202, 1.9044563747934262, 1.9496890593990686, 3.487055364290279, 3.7956454220728832, 1.3007917126376562, 2.4278179130660447, 1.19900110546556, 3.4999200389245373, 1.3887661316914643, 2.275430503872204, 2.61409047381083, 1.2585081605114872, 1.2911320591150202, 2.1236087227738936, 2.388003016003467, 2.84167277810387, 3.2306736614320926, 2.159437642489049, 1.4441612423295087, 1.7812948100451116, 3.0764999316871866, 2.144243314302081, 1.905098148814075, 1.1693263393414994, 2.1076111432572415, 2.314154705235599, 1.9222678009026004, 1.4152358767039017, 2.5630133750774746, 2.418746182732824, 1.9441097945469674, 1.5271666148145162, 1.764345717044428, 1.9009416142184223, 1.3901888619479128], \"y\": [0.3193972465851019, -0.1770012250647806, -0.1449494260855574, -0.318298979251916, 0.32675451293491986, 0.7413304490629148, -0.08946138452856864, 0.16338495969832853, -0.5783117541867039, -0.113774245874117, 0.6450688986485736, 0.01472993916137452, -0.23511200020171857, -0.5113945870063822, 1.1787646364375746, 1.3380623304006525, 0.8106795141812576, 0.3118491445933546, 0.8728390389622105, 0.5135603087492768, 0.39134593565389386, 0.4329960632790281, 0.13346806953852594, 0.09870885481409934, -0.0372818596773825, -0.14601688049526793, 0.1309514894352502, 0.36771885743419974, 0.31203998023528257, -0.1969612249243145, -0.20431849127413348, 0.4109242642295726, 0.813363820296962, 1.0931457594493568, -0.12132234786586332, 0.06936447158008034, 0.5993700213794232, 0.2686437377979823, -0.48795834442861535, 0.22904383682701246, 0.2635275337442564, -0.9409605736411969, -0.34192605747160976, 0.18887142893026038, 0.43666314163918785, -0.2502082041852112, 0.5037711444614376, -0.22794556949382755, 0.5794100215198891, 0.10770608249941149, 0.6851604704673079, 0.31833363826262856, 0.5042628153092035, -0.8279590118206324, 0.07459067519771564, -0.41824687156867885, 0.2834682700615288, -1.0048909611818952, 0.22836189978839497, -0.7230819050048339, -1.2659711905263937, -0.10398123549904056, -0.5500364636804753, -0.12481785412635768, -0.2548542087025894, 0.4671794944415099, -0.3529696657238504, -0.3336107668249157, -0.543145550779767, -0.5838343774718646, -0.084616852194788, -0.06892503165601434, -0.3277873083339178, -0.1827377936213678, 0.14905594436978423, 0.3285044738343227, 0.24444087601634273, 0.2674954473102542, -0.16335030068761647, -0.36826218975458824, -0.7051721317994655, -0.6802867635281334, -0.314032438249237, -0.42095428731388196, -0.48428741998121805, 0.19418231471315084, 0.4076195936110067, -0.37203705990950237, -0.26852439662201494, -0.6819267248636268, -0.6707115445117204, -0.03446444436826911, -0.4043858480073254, -1.0122482275317142, -0.5049100933371088, -0.21265468378116992, -0.29321892925141907, 0.017738190112415883, -0.7560933665990142, -0.3488978064503361, -0.009849109498801911, -0.5749163475464893, 0.3439031513417337, -0.17972790435224567, -0.04026094714253125, 0.5508366730280546, -1.1927587270006448, 0.3555000029774955, -0.24383150231069114, 0.7827919488152782, 0.24222840775506682, -0.21563761733355571, 0.21627558507402428, -0.7768183473443396, -0.5396407140267185, 0.11925069209197257, 0.04194325966321107, 1.1757393297134286, 0.25732297342047844, -0.7611496364350638, 0.3781960126170504, -0.6060915277579304, 0.4606740989118939, -0.20439932735215122, 0.33499060582167717, 0.560901355123077, -0.1797047947227469, -0.11666865117401158, -0.20972947667730288, 0.4646398047087356, 0.3752691671951024, 1.3741650867930466, -0.2172775786690492, -0.1434134104575811, -0.49990168107813676, 0.6880856775711748, 0.14006420108978998, 0.049300526013029984, -0.16499026202310965, 0.37228787196079716, 0.18365127916901874, 0.40920346681606173, -0.5749163475464893, 0.27786260292919446, 0.30479819785469187, 0.1875323028006049, -0.37531698258048873, 0.07885885451847545, 0.11662795851202377, -0.2826609379905505], \"z\": [-0.027914827589415922, -0.2104642723782446, 0.017900256320890217, 0.03155937360568086, 0.09007924055120108, 0.1686776582091044, 0.2578921582556178, -0.02187931788671982, 0.020759570264780182, -0.19763272498814655, -0.07531800937912041, 0.1021502599565897, -0.2068444304496446, 0.06129967245709912, -0.15162752361780948, 0.2777769027031353, 0.13818322788071913, 0.02666831561259374, -0.12030552339473123, 0.21366517222471557, -0.23944404324495358, 0.20845723241671485, 0.2923967507452421, 0.03912325874288064, 0.12502108270287865, -0.25342004234465765, 0.09491057609939167, -0.0784942051379244, -0.1459088957300293, 0.04077107906717903, -0.07722298907343583, -0.14552497200513095, 0.22566914972011914, 0.1578108129582197, -0.14304958178613902, -0.1643323066530257, -0.26835037569393644, 0.0936990824797999, 0.07292704569269244, -0.08008230301732615, 0.07724769316110373, -0.34923037730596634, 0.19250921171270968, 0.26386794551341536, 0.29874274575510845, -0.09767814404562948, 0.16670563660480434, 0.08372684903359322, -0.01711502424851357, -0.08929400847882475, -0.4065680254676944, -0.01801418664624051, -0.33832576498089645, -0.17959139187535522, -0.3077578962347849, 0.04107609082395585, 0.16981023986057497, 0.012302919237595331, -0.4153360847593978, 0.2811414311764098, -0.2698171827688525, 0.13054775024048604, -0.694146830144419, -0.062114408322261234, 0.09045769072570443, -0.3146209758321725, 0.32802752837859506, -0.27116183725106685, -0.4995190464851129, -0.23500210497205587, 0.4596209913591038, -0.22985388760895153, -0.3478543522573082, -0.23107177773628498, -0.32180093724447406, -0.31620907371157425, -0.5217027796644194, -0.16492098374358052, 0.03542450484616004, -0.318491580623047, -0.24421381043355445, -0.3064205612176583, -0.17724276601124433, 0.016167127520728637, 0.4444334986398076, 0.38896306309821044, -0.237167009883876, -0.6147208425918221, 0.1883668116461946, -0.06000922585533809, -0.024306855718951755, -0.009946932894349024, -0.22941024143915661, -0.10569114890301955, 0.016617170198265408, 0.08320429089567645, 0.07799635108767548, -0.2053949669832609, -0.012599647557890057, 0.010581660495570577, 0.7601654272458953, 0.2963225273879644, -0.11078788321910908, 0.10842466246342275, 0.28538956318444125, -0.34843755579746755, 0.5456592956468127, -0.4202399357679682, -0.34830439493484516, 0.42333541768255817, 0.2424401897257689, -0.03764816823148248, 0.033326641844325135, 0.28190288211846487, 0.6290293264080106, 0.47963981962659047, 0.0441861676301219, 0.1338948739360979, -0.5137677638178045, -0.344995038313418, 0.21911932430194317, 0.511855508697001, -0.5731822425680028, -0.06452275663126839, 0.2861500911691496, -0.20553452435362518, 0.04584770392724995, 0.23125646265997035, 0.15418002392883004, -0.44953019194185, -0.498898075870769, -0.1145482054754195, 0.20876316713083762, -0.15323388806309016, -0.17287518911342004, -0.335592292434541, 0.7348789367255109, 0.1621802357707368, 0.2818358402084803, 0.02729113214163061, 0.32269374717305893, 0.1135865957993566, 0.2963225273879644, 0.2925695245967426, 0.5044826639771798, 0.17782509063265742, -0.12189817186718173, 0.13048163128784807, 0.7232515634899168, 0.3629096480853755]}, {\"type\": \"scatter3d\", \"x\": [-2.6841256259695383, -2.7141416872943265, -2.888990569059297, -2.74534285564141, -2.7287165365545305, -2.2808596328444923, -2.820537750740609, -2.626144973146633, -2.8863827317805537, -2.672755797820954, -2.5069470906518565, -2.6127552309087236, -2.786109266188018, -3.2238037438656524, -2.644750389942029, -2.3860390335311337, -2.6235278752244264, -2.648296706254382, -2.19982032361758, -2.5879863998787687, -2.3102562152425183, -2.543705228757157, -3.215939415648612, -2.302733182226207, -2.3557540491237727, -2.5066689069258223, -2.468820073121339, -2.562319906196016, -2.639534715384543, -2.6319893872743467, -2.5873984766893527, -2.409932497002175, -2.6488623343499125, -2.5987367491005875, -2.6369268781057995, -2.8662416521186698, -2.6252380498503727, -2.8006841154482225, -2.980502043781994, -2.5900063139680967, -2.7701024260279024, -2.849368705043105, -2.9974065465949082, -2.4056144850974865, -2.2094892377836794, -2.714451426757708, -2.53814825899894, -2.8394621676428504, -2.543085749830393, -2.70335978233516, 1.284825688858351, 0.9324885323123177, 1.4643023219913933, 0.18331771995836996, 1.0881032577116654, 0.6416690842580771, 1.0950606626324462, -0.749122669829658, 1.0441318260534351, -0.008745404082896726, -0.5078408838353264, 0.511698557447597, 0.26497650811204604, 0.9849345104708895, -0.1739253716817684, 0.9278607809442467, 0.6602837616969366, 0.23610499331767107, 0.9447337280198126, 0.0452269762986993, 1.116283177350049, 0.3578884179973068, 1.298183875358913, 0.9217289224470363, 0.7148533259114112, 0.9001743731721669, 1.332024436722088, 1.55780215506607, 0.8132906498175407, -0.30558377802430947, -0.06812649206836419, -0.18962247237850252, 0.13642871155801442, 1.38002643591551, 0.5880064433398626, 0.8068583125004115, 1.2206908824443523, 0.815095235766599, 0.2459576798866918, 0.1664132171454563, 0.46480028840377874, 0.8908151984694487, 0.23054802355945478, -0.7045317592446642, 0.3569814947010465, 0.33193447994505776, 0.3762156510666698, 0.6425760075543373, -0.9064698649488364, 0.2990008418781428, 2.531192727803627, 1.4152358767039017, 2.616676015995689, 1.9715310530434347, 2.3500059200446395, 3.3970387360532572, 0.5212322439097725, 2.9325870689936875, 2.321228816573377, 2.9167509667860716, 1.6617741536365307, 1.8034019529650904, 2.1655917960801445, 1.3461635794584508, 1.5859282238732202, 1.9044563747934262, 1.9496890593990686, 3.487055364290279, 3.7956454220728832, 1.3007917126376562, 2.4278179130660447, 1.19900110546556, 3.4999200389245373, 1.3887661316914643, 2.275430503872204, 2.61409047381083, 1.2585081605114872, 1.2911320591150202, 2.1236087227738936, 2.388003016003467, 2.84167277810387, 3.2306736614320926, 2.159437642489049, 1.4441612423295087, 1.7812948100451116, 3.0764999316871866, 2.144243314302081, 1.905098148814075, 1.1693263393414994, 2.1076111432572415, 2.314154705235599, 1.9222678009026004, 1.4152358767039017, 2.5630133750774746, 2.418746182732824, 1.9441097945469674, 1.5271666148145162, 1.764345717044428, 1.9009416142184223, 1.3901888619479128], \"y\": [0.3193972465851019, -0.1770012250647806, -0.1449494260855574, -0.318298979251916, 0.32675451293491986, 0.7413304490629148, -0.08946138452856864, 0.16338495969832853, -0.5783117541867039, -0.113774245874117, 0.6450688986485736, 0.01472993916137452, -0.23511200020171857, -0.5113945870063822, 1.1787646364375746, 1.3380623304006525, 0.8106795141812576, 0.3118491445933546, 0.8728390389622105, 0.5135603087492768, 0.39134593565389386, 0.4329960632790281, 0.13346806953852594, 0.09870885481409934, -0.0372818596773825, -0.14601688049526793, 0.1309514894352502, 0.36771885743419974, 0.31203998023528257, -0.1969612249243145, -0.20431849127413348, 0.4109242642295726, 0.813363820296962, 1.0931457594493568, -0.12132234786586332, 0.06936447158008034, 0.5993700213794232, 0.2686437377979823, -0.48795834442861535, 0.22904383682701246, 0.2635275337442564, -0.9409605736411969, -0.34192605747160976, 0.18887142893026038, 0.43666314163918785, -0.2502082041852112, 0.5037711444614376, -0.22794556949382755, 0.5794100215198891, 0.10770608249941149, 0.6851604704673079, 0.31833363826262856, 0.5042628153092035, -0.8279590118206324, 0.07459067519771564, -0.41824687156867885, 0.2834682700615288, -1.0048909611818952, 0.22836189978839497, -0.7230819050048339, -1.2659711905263937, -0.10398123549904056, -0.5500364636804753, -0.12481785412635768, -0.2548542087025894, 0.4671794944415099, -0.3529696657238504, -0.3336107668249157, -0.543145550779767, -0.5838343774718646, -0.084616852194788, -0.06892503165601434, -0.3277873083339178, -0.1827377936213678, 0.14905594436978423, 0.3285044738343227, 0.24444087601634273, 0.2674954473102542, -0.16335030068761647, -0.36826218975458824, -0.7051721317994655, -0.6802867635281334, -0.314032438249237, -0.42095428731388196, -0.48428741998121805, 0.19418231471315084, 0.4076195936110067, -0.37203705990950237, -0.26852439662201494, -0.6819267248636268, -0.6707115445117204, -0.03446444436826911, -0.4043858480073254, -1.0122482275317142, -0.5049100933371088, -0.21265468378116992, -0.29321892925141907, 0.017738190112415883, -0.7560933665990142, -0.3488978064503361, -0.009849109498801911, -0.5749163475464893, 0.3439031513417337, -0.17972790435224567, -0.04026094714253125, 0.5508366730280546, -1.1927587270006448, 0.3555000029774955, -0.24383150231069114, 0.7827919488152782, 0.24222840775506682, -0.21563761733355571, 0.21627558507402428, -0.7768183473443396, -0.5396407140267185, 0.11925069209197257, 0.04194325966321107, 1.1757393297134286, 0.25732297342047844, -0.7611496364350638, 0.3781960126170504, -0.6060915277579304, 0.4606740989118939, -0.20439932735215122, 0.33499060582167717, 0.560901355123077, -0.1797047947227469, -0.11666865117401158, -0.20972947667730288, 0.4646398047087356, 0.3752691671951024, 1.3741650867930466, -0.2172775786690492, -0.1434134104575811, -0.49990168107813676, 0.6880856775711748, 0.14006420108978998, 0.049300526013029984, -0.16499026202310965, 0.37228787196079716, 0.18365127916901874, 0.40920346681606173, -0.5749163475464893, 0.27786260292919446, 0.30479819785469187, 0.1875323028006049, -0.37531698258048873, 0.07885885451847545, 0.11662795851202377, -0.2826609379905505], \"z\": [-0.027914827589415922, -0.2104642723782446, 0.017900256320890217, 0.03155937360568086, 0.09007924055120108, 0.1686776582091044, 0.2578921582556178, -0.02187931788671982, 0.020759570264780182, -0.19763272498814655, -0.07531800937912041, 0.1021502599565897, -0.2068444304496446, 0.06129967245709912, -0.15162752361780948, 0.2777769027031353, 0.13818322788071913, 0.02666831561259374, -0.12030552339473123, 0.21366517222471557, -0.23944404324495358, 0.20845723241671485, 0.2923967507452421, 0.03912325874288064, 0.12502108270287865, -0.25342004234465765, 0.09491057609939167, -0.0784942051379244, -0.1459088957300293, 0.04077107906717903, -0.07722298907343583, -0.14552497200513095, 0.22566914972011914, 0.1578108129582197, -0.14304958178613902, -0.1643323066530257, -0.26835037569393644, 0.0936990824797999, 0.07292704569269244, -0.08008230301732615, 0.07724769316110373, -0.34923037730596634, 0.19250921171270968, 0.26386794551341536, 0.29874274575510845, -0.09767814404562948, 0.16670563660480434, 0.08372684903359322, -0.01711502424851357, -0.08929400847882475, -0.4065680254676944, -0.01801418664624051, -0.33832576498089645, -0.17959139187535522, -0.3077578962347849, 0.04107609082395585, 0.16981023986057497, 0.012302919237595331, -0.4153360847593978, 0.2811414311764098, -0.2698171827688525, 0.13054775024048604, -0.694146830144419, -0.062114408322261234, 0.09045769072570443, -0.3146209758321725, 0.32802752837859506, -0.27116183725106685, -0.4995190464851129, -0.23500210497205587, 0.4596209913591038, -0.22985388760895153, -0.3478543522573082, -0.23107177773628498, -0.32180093724447406, -0.31620907371157425, -0.5217027796644194, -0.16492098374358052, 0.03542450484616004, -0.318491580623047, -0.24421381043355445, -0.3064205612176583, -0.17724276601124433, 0.016167127520728637, 0.4444334986398076, 0.38896306309821044, -0.237167009883876, -0.6147208425918221, 0.1883668116461946, -0.06000922585533809, -0.024306855718951755, -0.009946932894349024, -0.22941024143915661, -0.10569114890301955, 0.016617170198265408, 0.08320429089567645, 0.07799635108767548, -0.2053949669832609, -0.012599647557890057, 0.010581660495570577, 0.7601654272458953, 0.2963225273879644, -0.11078788321910908, 0.10842466246342275, 0.28538956318444125, -0.34843755579746755, 0.5456592956468127, -0.4202399357679682, -0.34830439493484516, 0.42333541768255817, 0.2424401897257689, -0.03764816823148248, 0.033326641844325135, 0.28190288211846487, 0.6290293264080106, 0.47963981962659047, 0.0441861676301219, 0.1338948739360979, -0.5137677638178045, -0.344995038313418, 0.21911932430194317, 0.511855508697001, -0.5731822425680028, -0.06452275663126839, 0.2861500911691496, -0.20553452435362518, 0.04584770392724995, 0.23125646265997035, 0.15418002392883004, -0.44953019194185, -0.498898075870769, -0.1145482054754195, 0.20876316713083762, -0.15323388806309016, -0.17287518911342004, -0.335592292434541, 0.7348789367255109, 0.1621802357707368, 0.2818358402084803, 0.02729113214163061, 0.32269374717305893, 0.1135865957993566, 0.2963225273879644, 0.2925695245967426, 0.5044826639771798, 0.17782509063265742, -0.12189817186718173, 0.13048163128784807, 0.7232515634899168, 0.3629096480853755]}, {\"type\": \"scatter3d\", \"x\": [-2.6841256259695383, -2.7141416872943265, -2.888990569059297, -2.74534285564141, -2.7287165365545305, -2.2808596328444923, -2.820537750740609, -2.626144973146633, -2.8863827317805537, -2.672755797820954, -2.5069470906518565, -2.6127552309087236, -2.786109266188018, -3.2238037438656524, -2.644750389942029, -2.3860390335311337, -2.6235278752244264, -2.648296706254382, -2.19982032361758, -2.5879863998787687, -2.3102562152425183, -2.543705228757157, -3.215939415648612, -2.302733182226207, -2.3557540491237727, -2.5066689069258223, -2.468820073121339, -2.562319906196016, -2.639534715384543, -2.6319893872743467, -2.5873984766893527, -2.409932497002175, -2.6488623343499125, -2.5987367491005875, -2.6369268781057995, -2.8662416521186698, -2.6252380498503727, -2.8006841154482225, -2.980502043781994, -2.5900063139680967, -2.7701024260279024, -2.849368705043105, -2.9974065465949082, -2.4056144850974865, -2.2094892377836794, -2.714451426757708, -2.53814825899894, -2.8394621676428504, -2.543085749830393, -2.70335978233516, 1.284825688858351, 0.9324885323123177, 1.4643023219913933, 0.18331771995836996, 1.0881032577116654, 0.6416690842580771, 1.0950606626324462, -0.749122669829658, 1.0441318260534351, -0.008745404082896726, -0.5078408838353264, 0.511698557447597, 0.26497650811204604, 0.9849345104708895, -0.1739253716817684, 0.9278607809442467, 0.6602837616969366, 0.23610499331767107, 0.9447337280198126, 0.0452269762986993, 1.116283177350049, 0.3578884179973068, 1.298183875358913, 0.9217289224470363, 0.7148533259114112, 0.9001743731721669, 1.332024436722088, 1.55780215506607, 0.8132906498175407, -0.30558377802430947, -0.06812649206836419, -0.18962247237850252, 0.13642871155801442, 1.38002643591551, 0.5880064433398626, 0.8068583125004115, 1.2206908824443523, 0.815095235766599, 0.2459576798866918, 0.1664132171454563, 0.46480028840377874, 0.8908151984694487, 0.23054802355945478, -0.7045317592446642, 0.3569814947010465, 0.33193447994505776, 0.3762156510666698, 0.6425760075543373, -0.9064698649488364, 0.2990008418781428, 2.531192727803627, 1.4152358767039017, 2.616676015995689, 1.9715310530434347, 2.3500059200446395, 3.3970387360532572, 0.5212322439097725, 2.9325870689936875, 2.321228816573377, 2.9167509667860716, 1.6617741536365307, 1.8034019529650904, 2.1655917960801445, 1.3461635794584508, 1.5859282238732202, 1.9044563747934262, 1.9496890593990686, 3.487055364290279, 3.7956454220728832, 1.3007917126376562, 2.4278179130660447, 1.19900110546556, 3.4999200389245373, 1.3887661316914643, 2.275430503872204, 2.61409047381083, 1.2585081605114872, 1.2911320591150202, 2.1236087227738936, 2.388003016003467, 2.84167277810387, 3.2306736614320926, 2.159437642489049, 1.4441612423295087, 1.7812948100451116, 3.0764999316871866, 2.144243314302081, 1.905098148814075, 1.1693263393414994, 2.1076111432572415, 2.314154705235599, 1.9222678009026004, 1.4152358767039017, 2.5630133750774746, 2.418746182732824, 1.9441097945469674, 1.5271666148145162, 1.764345717044428, 1.9009416142184223, 1.3901888619479128], \"y\": [0.3193972465851019, -0.1770012250647806, -0.1449494260855574, -0.318298979251916, 0.32675451293491986, 0.7413304490629148, -0.08946138452856864, 0.16338495969832853, -0.5783117541867039, -0.113774245874117, 0.6450688986485736, 0.01472993916137452, -0.23511200020171857, -0.5113945870063822, 1.1787646364375746, 1.3380623304006525, 0.8106795141812576, 0.3118491445933546, 0.8728390389622105, 0.5135603087492768, 0.39134593565389386, 0.4329960632790281, 0.13346806953852594, 0.09870885481409934, -0.0372818596773825, -0.14601688049526793, 0.1309514894352502, 0.36771885743419974, 0.31203998023528257, -0.1969612249243145, -0.20431849127413348, 0.4109242642295726, 0.813363820296962, 1.0931457594493568, -0.12132234786586332, 0.06936447158008034, 0.5993700213794232, 0.2686437377979823, -0.48795834442861535, 0.22904383682701246, 0.2635275337442564, -0.9409605736411969, -0.34192605747160976, 0.18887142893026038, 0.43666314163918785, -0.2502082041852112, 0.5037711444614376, -0.22794556949382755, 0.5794100215198891, 0.10770608249941149, 0.6851604704673079, 0.31833363826262856, 0.5042628153092035, -0.8279590118206324, 0.07459067519771564, -0.41824687156867885, 0.2834682700615288, -1.0048909611818952, 0.22836189978839497, -0.7230819050048339, -1.2659711905263937, -0.10398123549904056, -0.5500364636804753, -0.12481785412635768, -0.2548542087025894, 0.4671794944415099, -0.3529696657238504, -0.3336107668249157, -0.543145550779767, -0.5838343774718646, -0.084616852194788, -0.06892503165601434, -0.3277873083339178, -0.1827377936213678, 0.14905594436978423, 0.3285044738343227, 0.24444087601634273, 0.2674954473102542, -0.16335030068761647, -0.36826218975458824, -0.7051721317994655, -0.6802867635281334, -0.314032438249237, -0.42095428731388196, -0.48428741998121805, 0.19418231471315084, 0.4076195936110067, -0.37203705990950237, -0.26852439662201494, -0.6819267248636268, -0.6707115445117204, -0.03446444436826911, -0.4043858480073254, -1.0122482275317142, -0.5049100933371088, -0.21265468378116992, -0.29321892925141907, 0.017738190112415883, -0.7560933665990142, -0.3488978064503361, -0.009849109498801911, -0.5749163475464893, 0.3439031513417337, -0.17972790435224567, -0.04026094714253125, 0.5508366730280546, -1.1927587270006448, 0.3555000029774955, -0.24383150231069114, 0.7827919488152782, 0.24222840775506682, -0.21563761733355571, 0.21627558507402428, -0.7768183473443396, -0.5396407140267185, 0.11925069209197257, 0.04194325966321107, 1.1757393297134286, 0.25732297342047844, -0.7611496364350638, 0.3781960126170504, -0.6060915277579304, 0.4606740989118939, -0.20439932735215122, 0.33499060582167717, 0.560901355123077, -0.1797047947227469, -0.11666865117401158, -0.20972947667730288, 0.4646398047087356, 0.3752691671951024, 1.3741650867930466, -0.2172775786690492, -0.1434134104575811, -0.49990168107813676, 0.6880856775711748, 0.14006420108978998, 0.049300526013029984, -0.16499026202310965, 0.37228787196079716, 0.18365127916901874, 0.40920346681606173, -0.5749163475464893, 0.27786260292919446, 0.30479819785469187, 0.1875323028006049, -0.37531698258048873, 0.07885885451847545, 0.11662795851202377, -0.2826609379905505], \"z\": [-0.027914827589415922, -0.2104642723782446, 0.017900256320890217, 0.03155937360568086, 0.09007924055120108, 0.1686776582091044, 0.2578921582556178, -0.02187931788671982, 0.020759570264780182, -0.19763272498814655, -0.07531800937912041, 0.1021502599565897, -0.2068444304496446, 0.06129967245709912, -0.15162752361780948, 0.2777769027031353, 0.13818322788071913, 0.02666831561259374, -0.12030552339473123, 0.21366517222471557, -0.23944404324495358, 0.20845723241671485, 0.2923967507452421, 0.03912325874288064, 0.12502108270287865, -0.25342004234465765, 0.09491057609939167, -0.0784942051379244, -0.1459088957300293, 0.04077107906717903, -0.07722298907343583, -0.14552497200513095, 0.22566914972011914, 0.1578108129582197, -0.14304958178613902, -0.1643323066530257, -0.26835037569393644, 0.0936990824797999, 0.07292704569269244, -0.08008230301732615, 0.07724769316110373, -0.34923037730596634, 0.19250921171270968, 0.26386794551341536, 0.29874274575510845, -0.09767814404562948, 0.16670563660480434, 0.08372684903359322, -0.01711502424851357, -0.08929400847882475, -0.4065680254676944, -0.01801418664624051, -0.33832576498089645, -0.17959139187535522, -0.3077578962347849, 0.04107609082395585, 0.16981023986057497, 0.012302919237595331, -0.4153360847593978, 0.2811414311764098, -0.2698171827688525, 0.13054775024048604, -0.694146830144419, -0.062114408322261234, 0.09045769072570443, -0.3146209758321725, 0.32802752837859506, -0.27116183725106685, -0.4995190464851129, -0.23500210497205587, 0.4596209913591038, -0.22985388760895153, -0.3478543522573082, -0.23107177773628498, -0.32180093724447406, -0.31620907371157425, -0.5217027796644194, -0.16492098374358052, 0.03542450484616004, -0.318491580623047, -0.24421381043355445, -0.3064205612176583, -0.17724276601124433, 0.016167127520728637, 0.4444334986398076, 0.38896306309821044, -0.237167009883876, -0.6147208425918221, 0.1883668116461946, -0.06000922585533809, -0.024306855718951755, -0.009946932894349024, -0.22941024143915661, -0.10569114890301955, 0.016617170198265408, 0.08320429089567645, 0.07799635108767548, -0.2053949669832609, -0.012599647557890057, 0.010581660495570577, 0.7601654272458953, 0.2963225273879644, -0.11078788321910908, 0.10842466246342275, 0.28538956318444125, -0.34843755579746755, 0.5456592956468127, -0.4202399357679682, -0.34830439493484516, 0.42333541768255817, 0.2424401897257689, -0.03764816823148248, 0.033326641844325135, 0.28190288211846487, 0.6290293264080106, 0.47963981962659047, 0.0441861676301219, 0.1338948739360979, -0.5137677638178045, -0.344995038313418, 0.21911932430194317, 0.511855508697001, -0.5731822425680028, -0.06452275663126839, 0.2861500911691496, -0.20553452435362518, 0.04584770392724995, 0.23125646265997035, 0.15418002392883004, -0.44953019194185, -0.498898075870769, -0.1145482054754195, 0.20876316713083762, -0.15323388806309016, -0.17287518911342004, -0.335592292434541, 0.7348789367255109, 0.1621802357707368, 0.2818358402084803, 0.02729113214163061, 0.32269374717305893, 0.1135865957993566, 0.2963225273879644, 0.2925695245967426, 0.5044826639771798, 0.17782509063265742, -0.12189817186718173, 0.13048163128784807, 0.7232515634899168, 0.3629096480853755]}, {\"type\": \"scatter3d\", \"x\": [-2.6841256259695383, -2.7141416872943265, -2.888990569059297, -2.74534285564141, -2.7287165365545305, -2.2808596328444923, -2.820537750740609, -2.626144973146633, -2.8863827317805537, -2.672755797820954, -2.5069470906518565, -2.6127552309087236, -2.786109266188018, -3.2238037438656524, -2.644750389942029, -2.3860390335311337, -2.6235278752244264, -2.648296706254382, -2.19982032361758, -2.5879863998787687, -2.3102562152425183, -2.543705228757157, -3.215939415648612, -2.302733182226207, -2.3557540491237727, -2.5066689069258223, -2.468820073121339, -2.562319906196016, -2.639534715384543, -2.6319893872743467, -2.5873984766893527, -2.409932497002175, -2.6488623343499125, -2.5987367491005875, -2.6369268781057995, -2.8662416521186698, -2.6252380498503727, -2.8006841154482225, -2.980502043781994, -2.5900063139680967, -2.7701024260279024, -2.849368705043105, -2.9974065465949082, -2.4056144850974865, -2.2094892377836794, -2.714451426757708, -2.53814825899894, -2.8394621676428504, -2.543085749830393, -2.70335978233516, 1.284825688858351, 0.9324885323123177, 1.4643023219913933, 0.18331771995836996, 1.0881032577116654, 0.6416690842580771, 1.0950606626324462, -0.749122669829658, 1.0441318260534351, -0.008745404082896726, -0.5078408838353264, 0.511698557447597, 0.26497650811204604, 0.9849345104708895, -0.1739253716817684, 0.9278607809442467, 0.6602837616969366, 0.23610499331767107, 0.9447337280198126, 0.0452269762986993, 1.116283177350049, 0.3578884179973068, 1.298183875358913, 0.9217289224470363, 0.7148533259114112, 0.9001743731721669, 1.332024436722088, 1.55780215506607, 0.8132906498175407, -0.30558377802430947, -0.06812649206836419, -0.18962247237850252, 0.13642871155801442, 1.38002643591551, 0.5880064433398626, 0.8068583125004115, 1.2206908824443523, 0.815095235766599, 0.2459576798866918, 0.1664132171454563, 0.46480028840377874, 0.8908151984694487, 0.23054802355945478, -0.7045317592446642, 0.3569814947010465, 0.33193447994505776, 0.3762156510666698, 0.6425760075543373, -0.9064698649488364, 0.2990008418781428, 2.531192727803627, 1.4152358767039017, 2.616676015995689, 1.9715310530434347, 2.3500059200446395, 3.3970387360532572, 0.5212322439097725, 2.9325870689936875, 2.321228816573377, 2.9167509667860716, 1.6617741536365307, 1.8034019529650904, 2.1655917960801445, 1.3461635794584508, 1.5859282238732202, 1.9044563747934262, 1.9496890593990686, 3.487055364290279, 3.7956454220728832, 1.3007917126376562, 2.4278179130660447, 1.19900110546556, 3.4999200389245373, 1.3887661316914643, 2.275430503872204, 2.61409047381083, 1.2585081605114872, 1.2911320591150202, 2.1236087227738936, 2.388003016003467, 2.84167277810387, 3.2306736614320926, 2.159437642489049, 1.4441612423295087, 1.7812948100451116, 3.0764999316871866, 2.144243314302081, 1.905098148814075, 1.1693263393414994, 2.1076111432572415, 2.314154705235599, 1.9222678009026004, 1.4152358767039017, 2.5630133750774746, 2.418746182732824, 1.9441097945469674, 1.5271666148145162, 1.764345717044428, 1.9009416142184223, 1.3901888619479128], \"y\": [0.3193972465851019, -0.1770012250647806, -0.1449494260855574, -0.318298979251916, 0.32675451293491986, 0.7413304490629148, -0.08946138452856864, 0.16338495969832853, -0.5783117541867039, -0.113774245874117, 0.6450688986485736, 0.01472993916137452, -0.23511200020171857, -0.5113945870063822, 1.1787646364375746, 1.3380623304006525, 0.8106795141812576, 0.3118491445933546, 0.8728390389622105, 0.5135603087492768, 0.39134593565389386, 0.4329960632790281, 0.13346806953852594, 0.09870885481409934, -0.0372818596773825, -0.14601688049526793, 0.1309514894352502, 0.36771885743419974, 0.31203998023528257, -0.1969612249243145, -0.20431849127413348, 0.4109242642295726, 0.813363820296962, 1.0931457594493568, -0.12132234786586332, 0.06936447158008034, 0.5993700213794232, 0.2686437377979823, -0.48795834442861535, 0.22904383682701246, 0.2635275337442564, -0.9409605736411969, -0.34192605747160976, 0.18887142893026038, 0.43666314163918785, -0.2502082041852112, 0.5037711444614376, -0.22794556949382755, 0.5794100215198891, 0.10770608249941149, 0.6851604704673079, 0.31833363826262856, 0.5042628153092035, -0.8279590118206324, 0.07459067519771564, -0.41824687156867885, 0.2834682700615288, -1.0048909611818952, 0.22836189978839497, -0.7230819050048339, -1.2659711905263937, -0.10398123549904056, -0.5500364636804753, -0.12481785412635768, -0.2548542087025894, 0.4671794944415099, -0.3529696657238504, -0.3336107668249157, -0.543145550779767, -0.5838343774718646, -0.084616852194788, -0.06892503165601434, -0.3277873083339178, -0.1827377936213678, 0.14905594436978423, 0.3285044738343227, 0.24444087601634273, 0.2674954473102542, -0.16335030068761647, -0.36826218975458824, -0.7051721317994655, -0.6802867635281334, -0.314032438249237, -0.42095428731388196, -0.48428741998121805, 0.19418231471315084, 0.4076195936110067, -0.37203705990950237, -0.26852439662201494, -0.6819267248636268, -0.6707115445117204, -0.03446444436826911, -0.4043858480073254, -1.0122482275317142, -0.5049100933371088, -0.21265468378116992, -0.29321892925141907, 0.017738190112415883, -0.7560933665990142, -0.3488978064503361, -0.009849109498801911, -0.5749163475464893, 0.3439031513417337, -0.17972790435224567, -0.04026094714253125, 0.5508366730280546, -1.1927587270006448, 0.3555000029774955, -0.24383150231069114, 0.7827919488152782, 0.24222840775506682, -0.21563761733355571, 0.21627558507402428, -0.7768183473443396, -0.5396407140267185, 0.11925069209197257, 0.04194325966321107, 1.1757393297134286, 0.25732297342047844, -0.7611496364350638, 0.3781960126170504, -0.6060915277579304, 0.4606740989118939, -0.20439932735215122, 0.33499060582167717, 0.560901355123077, -0.1797047947227469, -0.11666865117401158, -0.20972947667730288, 0.4646398047087356, 0.3752691671951024, 1.3741650867930466, -0.2172775786690492, -0.1434134104575811, -0.49990168107813676, 0.6880856775711748, 0.14006420108978998, 0.049300526013029984, -0.16499026202310965, 0.37228787196079716, 0.18365127916901874, 0.40920346681606173, -0.5749163475464893, 0.27786260292919446, 0.30479819785469187, 0.1875323028006049, -0.37531698258048873, 0.07885885451847545, 0.11662795851202377, -0.2826609379905505], \"z\": [-0.027914827589415922, -0.2104642723782446, 0.017900256320890217, 0.03155937360568086, 0.09007924055120108, 0.1686776582091044, 0.2578921582556178, -0.02187931788671982, 0.020759570264780182, -0.19763272498814655, -0.07531800937912041, 0.1021502599565897, -0.2068444304496446, 0.06129967245709912, -0.15162752361780948, 0.2777769027031353, 0.13818322788071913, 0.02666831561259374, -0.12030552339473123, 0.21366517222471557, -0.23944404324495358, 0.20845723241671485, 0.2923967507452421, 0.03912325874288064, 0.12502108270287865, -0.25342004234465765, 0.09491057609939167, -0.0784942051379244, -0.1459088957300293, 0.04077107906717903, -0.07722298907343583, -0.14552497200513095, 0.22566914972011914, 0.1578108129582197, -0.14304958178613902, -0.1643323066530257, -0.26835037569393644, 0.0936990824797999, 0.07292704569269244, -0.08008230301732615, 0.07724769316110373, -0.34923037730596634, 0.19250921171270968, 0.26386794551341536, 0.29874274575510845, -0.09767814404562948, 0.16670563660480434, 0.08372684903359322, -0.01711502424851357, -0.08929400847882475, -0.4065680254676944, -0.01801418664624051, -0.33832576498089645, -0.17959139187535522, -0.3077578962347849, 0.04107609082395585, 0.16981023986057497, 0.012302919237595331, -0.4153360847593978, 0.2811414311764098, -0.2698171827688525, 0.13054775024048604, -0.694146830144419, -0.062114408322261234, 0.09045769072570443, -0.3146209758321725, 0.32802752837859506, -0.27116183725106685, -0.4995190464851129, -0.23500210497205587, 0.4596209913591038, -0.22985388760895153, -0.3478543522573082, -0.23107177773628498, -0.32180093724447406, -0.31620907371157425, -0.5217027796644194, -0.16492098374358052, 0.03542450484616004, -0.318491580623047, -0.24421381043355445, -0.3064205612176583, -0.17724276601124433, 0.016167127520728637, 0.4444334986398076, 0.38896306309821044, -0.237167009883876, -0.6147208425918221, 0.1883668116461946, -0.06000922585533809, -0.024306855718951755, -0.009946932894349024, -0.22941024143915661, -0.10569114890301955, 0.016617170198265408, 0.08320429089567645, 0.07799635108767548, -0.2053949669832609, -0.012599647557890057, 0.010581660495570577, 0.7601654272458953, 0.2963225273879644, -0.11078788321910908, 0.10842466246342275, 0.28538956318444125, -0.34843755579746755, 0.5456592956468127, -0.4202399357679682, -0.34830439493484516, 0.42333541768255817, 0.2424401897257689, -0.03764816823148248, 0.033326641844325135, 0.28190288211846487, 0.6290293264080106, 0.47963981962659047, 0.0441861676301219, 0.1338948739360979, -0.5137677638178045, -0.344995038313418, 0.21911932430194317, 0.511855508697001, -0.5731822425680028, -0.06452275663126839, 0.2861500911691496, -0.20553452435362518, 0.04584770392724995, 0.23125646265997035, 0.15418002392883004, -0.44953019194185, -0.498898075870769, -0.1145482054754195, 0.20876316713083762, -0.15323388806309016, -0.17287518911342004, -0.335592292434541, 0.7348789367255109, 0.1621802357707368, 0.2818358402084803, 0.02729113214163061, 0.32269374717305893, 0.1135865957993566, 0.2963225273879644, 0.2925695245967426, 0.5044826639771798, 0.17782509063265742, -0.12189817186718173, 0.13048163128784807, 0.7232515634899168, 0.3629096480853755]}],\n",
       "                        {\"template\": {\"data\": {\"bar\": [{\"error_x\": {\"color\": \"#2a3f5f\"}, \"error_y\": {\"color\": \"#2a3f5f\"}, \"marker\": {\"line\": {\"color\": \"#E5ECF6\", \"width\": 0.5}}, \"type\": \"bar\"}], \"barpolar\": [{\"marker\": {\"line\": {\"color\": \"#E5ECF6\", \"width\": 0.5}}, \"type\": \"barpolar\"}], \"carpet\": [{\"aaxis\": {\"endlinecolor\": \"#2a3f5f\", \"gridcolor\": \"white\", \"linecolor\": \"white\", \"minorgridcolor\": \"white\", \"startlinecolor\": \"#2a3f5f\"}, \"baxis\": {\"endlinecolor\": \"#2a3f5f\", \"gridcolor\": \"white\", \"linecolor\": \"white\", \"minorgridcolor\": \"white\", \"startlinecolor\": \"#2a3f5f\"}, \"type\": \"carpet\"}], \"choropleth\": [{\"colorbar\": {\"outlinewidth\": 0, \"ticks\": \"\"}, \"type\": \"choropleth\"}], \"contour\": [{\"colorbar\": {\"outlinewidth\": 0, \"ticks\": \"\"}, \"colorscale\": [[0.0, \"#0d0887\"], [0.1111111111111111, \"#46039f\"], [0.2222222222222222, \"#7201a8\"], [0.3333333333333333, \"#9c179e\"], [0.4444444444444444, \"#bd3786\"], [0.5555555555555556, \"#d8576b\"], [0.6666666666666666, \"#ed7953\"], [0.7777777777777778, \"#fb9f3a\"], [0.8888888888888888, \"#fdca26\"], [1.0, \"#f0f921\"]], \"type\": \"contour\"}], \"contourcarpet\": [{\"colorbar\": {\"outlinewidth\": 0, \"ticks\": \"\"}, \"type\": \"contourcarpet\"}], \"heatmap\": [{\"colorbar\": {\"outlinewidth\": 0, \"ticks\": \"\"}, \"colorscale\": [[0.0, \"#0d0887\"], [0.1111111111111111, \"#46039f\"], [0.2222222222222222, \"#7201a8\"], [0.3333333333333333, \"#9c179e\"], [0.4444444444444444, \"#bd3786\"], [0.5555555555555556, \"#d8576b\"], [0.6666666666666666, \"#ed7953\"], [0.7777777777777778, \"#fb9f3a\"], [0.8888888888888888, \"#fdca26\"], [1.0, \"#f0f921\"]], \"type\": \"heatmap\"}], \"heatmapgl\": [{\"colorbar\": {\"outlinewidth\": 0, \"ticks\": \"\"}, \"colorscale\": [[0.0, \"#0d0887\"], [0.1111111111111111, \"#46039f\"], [0.2222222222222222, \"#7201a8\"], [0.3333333333333333, \"#9c179e\"], [0.4444444444444444, \"#bd3786\"], [0.5555555555555556, \"#d8576b\"], [0.6666666666666666, \"#ed7953\"], [0.7777777777777778, \"#fb9f3a\"], [0.8888888888888888, \"#fdca26\"], [1.0, \"#f0f921\"]], \"type\": \"heatmapgl\"}], \"histogram\": [{\"marker\": {\"colorbar\": {\"outlinewidth\": 0, \"ticks\": \"\"}}, \"type\": \"histogram\"}], \"histogram2d\": [{\"colorbar\": {\"outlinewidth\": 0, \"ticks\": \"\"}, \"colorscale\": [[0.0, \"#0d0887\"], [0.1111111111111111, \"#46039f\"], [0.2222222222222222, \"#7201a8\"], [0.3333333333333333, \"#9c179e\"], [0.4444444444444444, \"#bd3786\"], [0.5555555555555556, \"#d8576b\"], [0.6666666666666666, \"#ed7953\"], [0.7777777777777778, \"#fb9f3a\"], [0.8888888888888888, \"#fdca26\"], [1.0, \"#f0f921\"]], \"type\": \"histogram2d\"}], \"histogram2dcontour\": [{\"colorbar\": {\"outlinewidth\": 0, \"ticks\": \"\"}, \"colorscale\": [[0.0, \"#0d0887\"], [0.1111111111111111, \"#46039f\"], [0.2222222222222222, \"#7201a8\"], [0.3333333333333333, \"#9c179e\"], [0.4444444444444444, \"#bd3786\"], [0.5555555555555556, \"#d8576b\"], [0.6666666666666666, \"#ed7953\"], [0.7777777777777778, \"#fb9f3a\"], [0.8888888888888888, \"#fdca26\"], [1.0, \"#f0f921\"]], \"type\": \"histogram2dcontour\"}], \"mesh3d\": [{\"colorbar\": {\"outlinewidth\": 0, \"ticks\": \"\"}, \"type\": \"mesh3d\"}], \"parcoords\": [{\"line\": {\"colorbar\": {\"outlinewidth\": 0, \"ticks\": \"\"}}, \"type\": \"parcoords\"}], \"pie\": [{\"automargin\": true, \"type\": \"pie\"}], \"scatter\": [{\"marker\": {\"colorbar\": {\"outlinewidth\": 0, \"ticks\": \"\"}}, \"type\": \"scatter\"}], \"scatter3d\": [{\"line\": {\"colorbar\": {\"outlinewidth\": 0, \"ticks\": \"\"}}, \"marker\": {\"colorbar\": {\"outlinewidth\": 0, \"ticks\": \"\"}}, \"type\": \"scatter3d\"}], \"scattercarpet\": [{\"marker\": {\"colorbar\": {\"outlinewidth\": 0, \"ticks\": \"\"}}, \"type\": \"scattercarpet\"}], \"scattergeo\": [{\"marker\": {\"colorbar\": {\"outlinewidth\": 0, \"ticks\": \"\"}}, \"type\": \"scattergeo\"}], \"scattergl\": [{\"marker\": {\"colorbar\": {\"outlinewidth\": 0, \"ticks\": \"\"}}, \"type\": \"scattergl\"}], \"scattermapbox\": [{\"marker\": {\"colorbar\": {\"outlinewidth\": 0, \"ticks\": \"\"}}, \"type\": \"scattermapbox\"}], \"scatterpolar\": [{\"marker\": {\"colorbar\": {\"outlinewidth\": 0, \"ticks\": \"\"}}, \"type\": \"scatterpolar\"}], \"scatterpolargl\": [{\"marker\": {\"colorbar\": {\"outlinewidth\": 0, \"ticks\": \"\"}}, \"type\": \"scatterpolargl\"}], \"scatterternary\": [{\"marker\": {\"colorbar\": {\"outlinewidth\": 0, \"ticks\": \"\"}}, \"type\": \"scatterternary\"}], \"surface\": [{\"colorbar\": {\"outlinewidth\": 0, \"ticks\": \"\"}, \"colorscale\": [[0.0, \"#0d0887\"], [0.1111111111111111, \"#46039f\"], [0.2222222222222222, \"#7201a8\"], [0.3333333333333333, \"#9c179e\"], [0.4444444444444444, \"#bd3786\"], [0.5555555555555556, \"#d8576b\"], [0.6666666666666666, \"#ed7953\"], [0.7777777777777778, \"#fb9f3a\"], [0.8888888888888888, \"#fdca26\"], [1.0, \"#f0f921\"]], \"type\": \"surface\"}], \"table\": [{\"cells\": {\"fill\": {\"color\": \"#EBF0F8\"}, \"line\": {\"color\": \"white\"}}, \"header\": {\"fill\": {\"color\": \"#C8D4E3\"}, \"line\": {\"color\": \"white\"}}, \"type\": \"table\"}]}, \"layout\": {\"annotationdefaults\": {\"arrowcolor\": \"#2a3f5f\", \"arrowhead\": 0, \"arrowwidth\": 1}, \"coloraxis\": {\"colorbar\": {\"outlinewidth\": 0, \"ticks\": \"\"}}, \"colorscale\": {\"diverging\": [[0, \"#8e0152\"], [0.1, \"#c51b7d\"], [0.2, \"#de77ae\"], [0.3, \"#f1b6da\"], [0.4, \"#fde0ef\"], [0.5, \"#f7f7f7\"], [0.6, \"#e6f5d0\"], [0.7, \"#b8e186\"], [0.8, \"#7fbc41\"], [0.9, \"#4d9221\"], [1, \"#276419\"]], \"sequential\": [[0.0, \"#0d0887\"], [0.1111111111111111, \"#46039f\"], [0.2222222222222222, \"#7201a8\"], [0.3333333333333333, \"#9c179e\"], [0.4444444444444444, \"#bd3786\"], [0.5555555555555556, \"#d8576b\"], [0.6666666666666666, \"#ed7953\"], [0.7777777777777778, \"#fb9f3a\"], [0.8888888888888888, \"#fdca26\"], [1.0, \"#f0f921\"]], \"sequentialminus\": [[0.0, \"#0d0887\"], [0.1111111111111111, \"#46039f\"], [0.2222222222222222, \"#7201a8\"], [0.3333333333333333, \"#9c179e\"], [0.4444444444444444, \"#bd3786\"], [0.5555555555555556, \"#d8576b\"], [0.6666666666666666, \"#ed7953\"], [0.7777777777777778, \"#fb9f3a\"], [0.8888888888888888, \"#fdca26\"], [1.0, \"#f0f921\"]]}, \"colorway\": [\"#636efa\", \"#EF553B\", \"#00cc96\", \"#ab63fa\", \"#FFA15A\", \"#19d3f3\", \"#FF6692\", \"#B6E880\", \"#FF97FF\", \"#FECB52\"], \"font\": {\"color\": \"#2a3f5f\"}, \"geo\": {\"bgcolor\": \"white\", \"lakecolor\": \"white\", \"landcolor\": \"#E5ECF6\", \"showlakes\": true, \"showland\": true, \"subunitcolor\": \"white\"}, \"hoverlabel\": {\"align\": \"left\"}, \"hovermode\": \"closest\", \"mapbox\": {\"style\": \"light\"}, \"paper_bgcolor\": \"white\", \"plot_bgcolor\": \"#E5ECF6\", \"polar\": {\"angularaxis\": {\"gridcolor\": \"white\", \"linecolor\": \"white\", \"ticks\": \"\"}, \"bgcolor\": \"#E5ECF6\", \"radialaxis\": {\"gridcolor\": \"white\", \"linecolor\": \"white\", \"ticks\": \"\"}}, \"scene\": {\"xaxis\": {\"backgroundcolor\": \"#E5ECF6\", \"gridcolor\": \"white\", \"gridwidth\": 2, \"linecolor\": \"white\", \"showbackground\": true, \"ticks\": \"\", \"zerolinecolor\": \"white\"}, \"yaxis\": {\"backgroundcolor\": \"#E5ECF6\", \"gridcolor\": \"white\", \"gridwidth\": 2, \"linecolor\": \"white\", \"showbackground\": true, \"ticks\": \"\", \"zerolinecolor\": \"white\"}, \"zaxis\": {\"backgroundcolor\": \"#E5ECF6\", \"gridcolor\": \"white\", \"gridwidth\": 2, \"linecolor\": \"white\", \"showbackground\": true, \"ticks\": \"\", \"zerolinecolor\": \"white\"}}, \"shapedefaults\": {\"line\": {\"color\": \"#2a3f5f\"}}, \"ternary\": {\"aaxis\": {\"gridcolor\": \"white\", \"linecolor\": \"white\", \"ticks\": \"\"}, \"baxis\": {\"gridcolor\": \"white\", \"linecolor\": \"white\", \"ticks\": \"\"}, \"bgcolor\": \"#E5ECF6\", \"caxis\": {\"gridcolor\": \"white\", \"linecolor\": \"white\", \"ticks\": \"\"}}, \"title\": {\"x\": 0.05}, \"xaxis\": {\"automargin\": true, \"gridcolor\": \"white\", \"linecolor\": \"white\", \"ticks\": \"\", \"title\": {\"standoff\": 15}, \"zerolinecolor\": \"white\", \"zerolinewidth\": 2}, \"yaxis\": {\"automargin\": true, \"gridcolor\": \"white\", \"linecolor\": \"white\", \"ticks\": \"\", \"title\": {\"standoff\": 15}, \"zerolinecolor\": \"white\", \"zerolinewidth\": 2}}}},\n",
       "                        {\"responsive\": true}\n",
       "                    ).then(function(){\n",
       "                            \n",
       "var gd = document.getElementById('a995f013-c4df-41c5-b0b7-f82eb13538cc');\n",
       "var x = new MutationObserver(function (mutations, observer) {{\n",
       "        var display = window.getComputedStyle(gd).display;\n",
       "        if (!display || display === 'none') {{\n",
       "            console.log([gd, 'removed!']);\n",
       "            Plotly.purge(gd);\n",
       "            observer.disconnect();\n",
       "        }}\n",
       "}});\n",
       "\n",
       "// Listen for the removal of the full notebook cells\n",
       "var notebookContainer = gd.closest('#notebook-container');\n",
       "if (notebookContainer) {{\n",
       "    x.observe(notebookContainer, {childList: true});\n",
       "}}\n",
       "\n",
       "// Listen for the clearing of the current output cell\n",
       "var outputEl = gd.closest('.output');\n",
       "if (outputEl) {{\n",
       "    x.observe(outputEl, {childList: true});\n",
       "}}\n",
       "\n",
       "                        })\n",
       "                };\n",
       "                });\n",
       "            </script>\n",
       "        </div>"
      ]
     },
     "metadata": {},
     "output_type": "display_data"
    }
   ],
   "source": [
    "iplot(fig)"
   ]
  },
  {
   "cell_type": "code",
   "execution_count": 35,
   "metadata": {},
   "outputs": [
    {
     "data": {
      "text/plain": [
       "(150, 3)"
      ]
     },
     "metadata": {},
     "output_type": "display_data"
    }
   ],
   "source": [
    "display(plot_df.values.shape)"
   ]
  },
  {
   "cell_type": "code",
   "execution_count": null,
   "metadata": {},
   "outputs": [],
   "source": []
  }
 ],
 "metadata": {
  "kernelspec": {
   "display_name": "Python 3",
   "language": "python",
   "name": "python3"
  },
  "language_info": {
   "codemirror_mode": {
    "name": "ipython",
    "version": 3
   },
   "file_extension": ".py",
   "mimetype": "text/x-python",
   "name": "python",
   "nbconvert_exporter": "python",
   "pygments_lexer": "ipython3",
   "version": "3.6.8"
  }
 },
 "nbformat": 4,
 "nbformat_minor": 4
}
